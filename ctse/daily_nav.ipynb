{
 "cells": [
  {
   "cell_type": "code",
   "execution_count": 14,
   "metadata": {},
   "outputs": [
    {
     "data": {
      "text/html": [
       "<div>\n",
       "<style scoped>\n",
       "    .dataframe tbody tr th:only-of-type {\n",
       "        vertical-align: middle;\n",
       "    }\n",
       "\n",
       "    .dataframe tbody tr th {\n",
       "        vertical-align: top;\n",
       "    }\n",
       "\n",
       "    .dataframe thead th {\n",
       "        text-align: right;\n",
       "    }\n",
       "</style>\n",
       "<table border=\"1\" class=\"dataframe\">\n",
       "  <thead>\n",
       "    <tr style=\"text-align: right;\">\n",
       "      <th></th>\n",
       "      <th>股指</th>\n",
       "      <th>黑色</th>\n",
       "      <th>金属</th>\n",
       "      <th>能化</th>\n",
       "      <th>农产品</th>\n",
       "      <th>sum</th>\n",
       "    </tr>\n",
       "  </thead>\n",
       "  <tbody>\n",
       "    <tr>\n",
       "      <th>收益</th>\n",
       "      <td>17980.0</td>\n",
       "      <td>14430.0</td>\n",
       "      <td>-3975.0</td>\n",
       "      <td>24970.0</td>\n",
       "      <td>-2710.0</td>\n",
       "      <td>50695.0</td>\n",
       "    </tr>\n",
       "    <tr>\n",
       "      <th>市值</th>\n",
       "      <td>2591600.0</td>\n",
       "      <td>2756460.0</td>\n",
       "      <td>827210.0</td>\n",
       "      <td>3452840.0</td>\n",
       "      <td>752750.0</td>\n",
       "      <td>10380860.0</td>\n",
       "    </tr>\n",
       "    <tr>\n",
       "      <th>nav_pct</th>\n",
       "      <td>0.230%</td>\n",
       "      <td>0.185%</td>\n",
       "      <td>-0.051%</td>\n",
       "      <td>0.320%</td>\n",
       "      <td>-0.035%</td>\n",
       "      <td>0.230%0.185%-0.051%0.320%-0.035%</td>\n",
       "    </tr>\n",
       "    <tr>\n",
       "      <th>市值(W)</th>\n",
       "      <td>259.16</td>\n",
       "      <td>275.65</td>\n",
       "      <td>82.72</td>\n",
       "      <td>345.28</td>\n",
       "      <td>75.28</td>\n",
       "      <td>259.16275.6582.72345.2875.28</td>\n",
       "    </tr>\n",
       "  </tbody>\n",
       "</table>\n",
       "</div>"
      ],
      "text/plain": [
       "                股指         黑色        金属         能化       农产品  \\\n",
       "收益         17980.0    14430.0   -3975.0    24970.0   -2710.0   \n",
       "市值       2591600.0  2756460.0  827210.0  3452840.0  752750.0   \n",
       "nav_pct     0.230%     0.185%   -0.051%     0.320%   -0.035%   \n",
       "市值(W)       259.16     275.65     82.72     345.28     75.28   \n",
       "\n",
       "                                      sum  \n",
       "收益                                50695.0  \n",
       "市值                             10380860.0  \n",
       "nav_pct  0.230%0.185%-0.051%0.320%-0.035%  \n",
       "市值(W)        259.16275.6582.72345.2875.28  "
      ]
     },
     "metadata": {},
     "output_type": "display_data"
    },
    {
     "data": {
      "text/html": [
       "<div>\n",
       "<style scoped>\n",
       "    .dataframe tbody tr th:only-of-type {\n",
       "        vertical-align: middle;\n",
       "    }\n",
       "\n",
       "    .dataframe tbody tr th {\n",
       "        vertical-align: top;\n",
       "    }\n",
       "\n",
       "    .dataframe thead th {\n",
       "        text-align: right;\n",
       "    }\n",
       "</style>\n",
       "<table border=\"1\" class=\"dataframe\">\n",
       "  <thead>\n",
       "    <tr style=\"text-align: right;\">\n",
       "      <th></th>\n",
       "      <th>股指</th>\n",
       "      <th>黑色</th>\n",
       "      <th>金属</th>\n",
       "      <th>能化</th>\n",
       "      <th>农产品</th>\n",
       "      <th>sum</th>\n",
       "    </tr>\n",
       "  </thead>\n",
       "  <tbody>\n",
       "    <tr>\n",
       "      <th>收益</th>\n",
       "      <td>35960.0</td>\n",
       "      <td>36720.0</td>\n",
       "      <td>-12200.0</td>\n",
       "      <td>74930.0</td>\n",
       "      <td>-6070.0</td>\n",
       "      <td>129340.0</td>\n",
       "    </tr>\n",
       "    <tr>\n",
       "      <th>市值</th>\n",
       "      <td>5183200.0</td>\n",
       "      <td>7025870.0</td>\n",
       "      <td>1615295.0</td>\n",
       "      <td>9244390.0</td>\n",
       "      <td>2070215.0</td>\n",
       "      <td>25138970.0</td>\n",
       "    </tr>\n",
       "    <tr>\n",
       "      <th>nav_pct</th>\n",
       "      <td>0.260%</td>\n",
       "      <td>0.266%</td>\n",
       "      <td>-0.088%</td>\n",
       "      <td>0.542%</td>\n",
       "      <td>-0.044%</td>\n",
       "      <td>0.260%0.266%-0.088%0.542%-0.044%</td>\n",
       "    </tr>\n",
       "    <tr>\n",
       "      <th>市值(W)</th>\n",
       "      <td>518.32</td>\n",
       "      <td>702.59</td>\n",
       "      <td>161.53</td>\n",
       "      <td>924.44</td>\n",
       "      <td>207.02</td>\n",
       "      <td>518.32702.59161.53924.44207.02</td>\n",
       "    </tr>\n",
       "  </tbody>\n",
       "</table>\n",
       "</div>"
      ],
      "text/plain": [
       "                股指         黑色         金属         能化        农产品  \\\n",
       "收益         35960.0    36720.0   -12200.0    74930.0    -6070.0   \n",
       "市值       5183200.0  7025870.0  1615295.0  9244390.0  2070215.0   \n",
       "nav_pct     0.260%     0.266%    -0.088%     0.542%    -0.044%   \n",
       "市值(W)       518.32     702.59     161.53     924.44     207.02   \n",
       "\n",
       "                                      sum  \n",
       "收益                               129340.0  \n",
       "市值                             25138970.0  \n",
       "nav_pct  0.260%0.266%-0.088%0.542%-0.044%  \n",
       "市值(W)      518.32702.59161.53924.44207.02  "
      ]
     },
     "metadata": {},
     "output_type": "display_data"
    },
    {
     "name": "stdout",
     "output_type": "stream",
     "text": [
      "财嘉 1.0695 到 1.076, 0.6077606358111387%\n",
      "如风 1.0014 到 1.0108, 0.9386858398242381%\n"
     ]
    }
   ],
   "source": [
    "import pandas as pd\n",
    "\n",
    "\n",
    "        # x,\n",
    "        # x,\n",
    "        # x,\n",
    "        # x,\n",
    "        # x\n",
    "# cjyh cjyh cjyh cjyh cjyh cjyh cjyh cjyh cjyh cjyh cjyh cjyh cjyh cjyh \n",
    "cjyh_fw = 7802209.42\n",
    "cjih = pd.DataFrame({\n",
    "    '收益': [\n",
    "        17980.00,\n",
    "        14430.00,\n",
    "        -3975.00,\n",
    "        24970.00,\n",
    "        -2710.00 \n",
    "        ],\n",
    "    '市值': [\n",
    "        2591600.00,\n",
    "        2756460.00,\n",
    "        827210.00,\n",
    "        3452840.00,\n",
    "        752750.00\n",
    "        ]\n",
    "}, index=[\n",
    "    '股指',\n",
    "    '黑色',\n",
    "    '金属',\n",
    "    '能化',\n",
    "    '农产品'])\n",
    "cjih.loc[:, 'nav_pct'] = (cjih['收益'] / cjyh_fw).apply(lambda x: '%.3f%%' % (x * 100))\n",
    "cjih.loc[:, '市值(W)'] = cjih['市值'].apply(lambda x: '%.2f' % (x / 10_000))\n",
    "cjih = cjih.T\n",
    "cjih.loc[:, 'sum'] = cjih.sum(axis=1)\n",
    "\n",
    "# cjyh cjyh cjyh cjyh cjyh cjyh cjyh cjyh cjyh cjyh cjyh cjyh cjyh cjyh \n",
    "\n",
    "# ------------------------------------------------------------------------------------\n",
    "# ------------------------------------------------------------------------------------\n",
    "# ------------------------------------------------------------------------------------\n",
    "# ------------------------------------------------------------------------------------\n",
    "# ------------------------------------------------------------------------------------\n",
    "# ------------------------------------------------------------------------------------\n",
    "# ------------------------------------------------------------------------------------\n",
    "# ------------------------------------------------------------------------------------\n",
    "# ------------------------------------------------------------------------------------\n",
    "# ------------------------------------------------------------------------------------\n",
    "# ------------------------------------------------------------------------------------\n",
    "# ------------------------------------------------------------------------------------\n",
    "\n",
    "        # x + x,\n",
    "        # x + x,\n",
    "        # x + x,\n",
    "        # x + x,\n",
    "        # x + x\n",
    "# rufeng rufeng rufeng rufeng rufeng rufeng rufeng rufeng rufeng rufeng\n",
    "rufeng_fw = 13824024.61 \n",
    "rufeng = pd.DataFrame({\n",
    "    '收益': [\n",
    "        35960.00,\n",
    "        36720.00,\n",
    "        -12200.00,\n",
    "        74930.00,\n",
    "        -6070.00\n",
    "        ],\n",
    "    '市值': [\n",
    "        5183200.00,\n",
    "        7025870.00,\n",
    "        1615295.00,\n",
    "        9244390.00,\n",
    "        2070215.00\n",
    "        ]\n",
    "}, index=[\n",
    "    '股指',\n",
    "    '黑色',\n",
    "    '金属',\n",
    "    '能化',\n",
    "    '农产品'])\n",
    "rufeng.loc[:, 'nav_pct'] = (rufeng['收益'] / rufeng_fw).apply(lambda x: '%.3f%%' % (x * 100))\n",
    "rufeng.loc[:, '市值(W)'] = rufeng['市值'].apply(lambda x: '%.2f' % (x / 10_000))\n",
    "rufeng = rufeng.T\n",
    "rufeng.loc[:, 'sum'] = rufeng.sum(axis=1)\n",
    "\n",
    "display(cjih)\n",
    "display(rufeng)\n",
    "\n",
    "cj1 = 1.0695\n",
    "cj2 = 1.0760\n",
    "print('财嘉 {} 到 {}, {}%'.format(cj1, cj2, (cj2/cj1 - 1) * 100))\n",
    "rf1 = 1.0014\n",
    "rf2 = 1.0108\n",
    "print('如风 {} 到 {}, {}%'.format(rf1, rf2, (rf2/rf1 - 1) * 100))"
   ]
  },
  {
   "cell_type": "code",
   "execution_count": 2,
   "metadata": {},
   "outputs": [
    {
     "data": {
      "text/plain": [
       "0.005191478185162582"
      ]
     },
     "execution_count": 2,
     "metadata": {},
     "output_type": "execute_result"
    }
   ],
   "source": [
    "40505.00 / cjyh_fw"
   ]
  },
  {
   "cell_type": "code",
   "execution_count": 29,
   "metadata": {},
   "outputs": [
    {
     "data": {
      "text/plain": [
       "-18735.0"
      ]
     },
     "execution_count": 29,
     "metadata": {},
     "output_type": "execute_result"
    }
   ],
   "source": [
    "sum([0.0,\t-10450.0,\t-7100.0,\t-5180.0,\t3995.0])"
   ]
  },
  {
   "cell_type": "code",
   "execution_count": 31,
   "metadata": {},
   "outputs": [
    {
     "data": {
      "text/plain": [
       "-24405.0"
      ]
     },
     "execution_count": 31,
     "metadata": {},
     "output_type": "execute_result"
    }
   ],
   "source": [
    "sum([0.0,\t-22710.0,\t-12070.0,\t-430.0,\t10805.0\t])"
   ]
  }
 ],
 "metadata": {
  "kernelspec": {
   "display_name": "Python 3.8.13 ('trading')",
   "language": "python",
   "name": "python3"
  },
  "language_info": {
   "codemirror_mode": {
    "name": "ipython",
    "version": 3
   },
   "file_extension": ".py",
   "mimetype": "text/x-python",
   "name": "python",
   "nbconvert_exporter": "python",
   "pygments_lexer": "ipython3",
   "version": "3.8.13"
  },
  "orig_nbformat": 4,
  "vscode": {
   "interpreter": {
    "hash": "ddc6e6a209a50492a3782c8b6e74c37658c20e4288aca4350cd3d951c0e99d6b"
   }
  }
 },
 "nbformat": 4,
 "nbformat_minor": 2
}
