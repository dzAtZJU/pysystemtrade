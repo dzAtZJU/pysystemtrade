{
 "cells": [
  {
   "cell_type": "code",
   "execution_count": 4,
   "metadata": {},
   "outputs": [
    {
     "data": {
      "text/html": [
       "<div>\n",
       "<style scoped>\n",
       "    .dataframe tbody tr th:only-of-type {\n",
       "        vertical-align: middle;\n",
       "    }\n",
       "\n",
       "    .dataframe tbody tr th {\n",
       "        vertical-align: top;\n",
       "    }\n",
       "\n",
       "    .dataframe thead th {\n",
       "        text-align: right;\n",
       "    }\n",
       "</style>\n",
       "<table border=\"1\" class=\"dataframe\">\n",
       "  <thead>\n",
       "    <tr style=\"text-align: right;\">\n",
       "      <th></th>\n",
       "      <th>股指</th>\n",
       "      <th>黑色</th>\n",
       "      <th>金属</th>\n",
       "      <th>能化</th>\n",
       "      <th>农产品</th>\n",
       "      <th>sum</th>\n",
       "    </tr>\n",
       "  </thead>\n",
       "  <tbody>\n",
       "    <tr>\n",
       "      <th>收益</th>\n",
       "      <td>23400.0</td>\n",
       "      <td>-37500.0</td>\n",
       "      <td>5600.0</td>\n",
       "      <td>17140.0</td>\n",
       "      <td>-13790.0</td>\n",
       "      <td>-5150.0</td>\n",
       "    </tr>\n",
       "    <tr>\n",
       "      <th>市值</th>\n",
       "      <td>2639600.0</td>\n",
       "      <td>1281110.0</td>\n",
       "      <td>1143580.0</td>\n",
       "      <td>1751280.0</td>\n",
       "      <td>360780.0</td>\n",
       "      <td>7176350.0</td>\n",
       "    </tr>\n",
       "    <tr>\n",
       "      <th>nav_pct</th>\n",
       "      <td>0.300%</td>\n",
       "      <td>-0.481%</td>\n",
       "      <td>0.072%</td>\n",
       "      <td>0.220%</td>\n",
       "      <td>-0.177%</td>\n",
       "      <td>0.300%-0.481%0.072%0.220%-0.177%</td>\n",
       "    </tr>\n",
       "    <tr>\n",
       "      <th>市值(W)</th>\n",
       "      <td>263.96</td>\n",
       "      <td>128.11</td>\n",
       "      <td>114.36</td>\n",
       "      <td>175.13</td>\n",
       "      <td>36.08</td>\n",
       "      <td>263.96128.11114.36175.1336.08</td>\n",
       "    </tr>\n",
       "  </tbody>\n",
       "</table>\n",
       "</div>"
      ],
      "text/plain": [
       "                股指         黑色         金属         能化       农产品  \\\n",
       "收益         23400.0   -37500.0     5600.0    17140.0  -13790.0   \n",
       "市值       2639600.0  1281110.0  1143580.0  1751280.0  360780.0   \n",
       "nav_pct     0.300%    -0.481%     0.072%     0.220%   -0.177%   \n",
       "市值(W)       263.96     128.11     114.36     175.13     36.08   \n",
       "\n",
       "                                      sum  \n",
       "收益                                -5150.0  \n",
       "市值                              7176350.0  \n",
       "nav_pct  0.300%-0.481%0.072%0.220%-0.177%  \n",
       "市值(W)       263.96128.11114.36175.1336.08  "
      ]
     },
     "metadata": {},
     "output_type": "display_data"
    },
    {
     "data": {
      "text/html": [
       "<div>\n",
       "<style scoped>\n",
       "    .dataframe tbody tr th:only-of-type {\n",
       "        vertical-align: middle;\n",
       "    }\n",
       "\n",
       "    .dataframe tbody tr th {\n",
       "        vertical-align: top;\n",
       "    }\n",
       "\n",
       "    .dataframe thead th {\n",
       "        text-align: right;\n",
       "    }\n",
       "</style>\n",
       "<table border=\"1\" class=\"dataframe\">\n",
       "  <thead>\n",
       "    <tr style=\"text-align: right;\">\n",
       "      <th></th>\n",
       "      <th>股指</th>\n",
       "      <th>黑色</th>\n",
       "      <th>金属</th>\n",
       "      <th>能化</th>\n",
       "      <th>农产品</th>\n",
       "      <th>sum</th>\n",
       "    </tr>\n",
       "  </thead>\n",
       "  <tbody>\n",
       "    <tr>\n",
       "      <th>收益</th>\n",
       "      <td>46800.0</td>\n",
       "      <td>-84990.0</td>\n",
       "      <td>12470.0</td>\n",
       "      <td>39490.0</td>\n",
       "      <td>-31450.0</td>\n",
       "      <td>-17680.0</td>\n",
       "    </tr>\n",
       "    <tr>\n",
       "      <th>市值</th>\n",
       "      <td>5279200.0</td>\n",
       "      <td>3073650.0</td>\n",
       "      <td>2095800.0</td>\n",
       "      <td>4816035.0</td>\n",
       "      <td>1165580.0</td>\n",
       "      <td>16430265.0</td>\n",
       "    </tr>\n",
       "    <tr>\n",
       "      <th>nav_pct</th>\n",
       "      <td>0.339%</td>\n",
       "      <td>-0.615%</td>\n",
       "      <td>0.090%</td>\n",
       "      <td>0.286%</td>\n",
       "      <td>-0.228%</td>\n",
       "      <td>0.339%-0.615%0.090%0.286%-0.228%</td>\n",
       "    </tr>\n",
       "    <tr>\n",
       "      <th>市值(W)</th>\n",
       "      <td>527.92</td>\n",
       "      <td>307.37</td>\n",
       "      <td>209.58</td>\n",
       "      <td>481.60</td>\n",
       "      <td>116.56</td>\n",
       "      <td>527.92307.37209.58481.60116.56</td>\n",
       "    </tr>\n",
       "  </tbody>\n",
       "</table>\n",
       "</div>"
      ],
      "text/plain": [
       "                股指         黑色         金属         能化        农产品  \\\n",
       "收益         46800.0   -84990.0    12470.0    39490.0   -31450.0   \n",
       "市值       5279200.0  3073650.0  2095800.0  4816035.0  1165580.0   \n",
       "nav_pct     0.339%    -0.615%     0.090%     0.286%    -0.228%   \n",
       "市值(W)       527.92     307.37     209.58     481.60     116.56   \n",
       "\n",
       "                                      sum  \n",
       "收益                               -17680.0  \n",
       "市值                             16430265.0  \n",
       "nav_pct  0.339%-0.615%0.090%0.286%-0.228%  \n",
       "市值(W)      527.92307.37209.58481.60116.56  "
      ]
     },
     "metadata": {},
     "output_type": "display_data"
    },
    {
     "name": "stdout",
     "output_type": "stream",
     "text": [
      "财嘉 1.0788 到 1.0781, -0.06488691138301084%\n",
      "如风 1.0126 到 1.0113, -0.12838238198694674%\n"
     ]
    }
   ],
   "source": [
    "import pandas as pd\n",
    "\n",
    "\n",
    "        # x,\n",
    "        # x,\n",
    "        # x,\n",
    "        # x,\n",
    "        # x\n",
    "# cjyh cjyh cjyh cjyh cjyh cjyh cjyh cjyh cjyh cjyh cjyh cjyh cjyh cjyh \n",
    "cjyh_fw = 7802209.42\n",
    "cjih = pd.DataFrame({\n",
    "    '收益': [\n",
    "        23400.00,\n",
    "        -37500.00,\n",
    "        5600.00,\n",
    "        17140.00,\n",
    "        -13790.00\n",
    "        ],\n",
    "    '市值': [\n",
    "        2639600.00,\n",
    "        1281110.00,\n",
    "        1143580.00,\n",
    "        1751280.00,\n",
    "        360780.00\n",
    "        ]\n",
    "}, index=[\n",
    "    '股指',\n",
    "    '黑色',\n",
    "    '金属',\n",
    "    '能化',\n",
    "    '农产品'])\n",
    "cjih.loc[:, 'nav_pct'] = (cjih['收益'] / cjyh_fw).apply(lambda x: '%.3f%%' % (x * 100))\n",
    "cjih.loc[:, '市值(W)'] = cjih['市值'].apply(lambda x: '%.2f' % (x / 10_000))\n",
    "cjih = cjih.T\n",
    "cjih.loc[:, 'sum'] = cjih.sum(axis=1)\n",
    "\n",
    "# cjyh cjyh cjyh cjyh cjyh cjyh cjyh cjyh cjyh cjyh cjyh cjyh cjyh cjyh \n",
    "\n",
    "# ------------------------------------------------------------------------------------\n",
    "# ------------------------------------------------------------------------------------\n",
    "# ------------------------------------------------------------------------------------\n",
    "# ------------------------------------------------------------------------------------\n",
    "# ------------------------------------------------------------------------------------\n",
    "# ------------------------------------------------------------------------------------\n",
    "# ------------------------------------------------------------------------------------\n",
    "# ------------------------------------------------------------------------------------\n",
    "# ------------------------------------------------------------------------------------\n",
    "# ------------------------------------------------------------------------------------\n",
    "# ------------------------------------------------------------------------------------\n",
    "# ------------------------------------------------------------------------------------\n",
    "\n",
    "        # x + x,\n",
    "        # x + x,\n",
    "        # x + x,\n",
    "        # x + x,\n",
    "        # x + x\n",
    "# rufeng rufeng rufeng rufeng rufeng rufeng rufeng rufeng rufeng rufeng\n",
    "rufeng_fw = 13824024.61 \n",
    "rufeng = pd.DataFrame({\n",
    "    '收益': [\n",
    "        46800.00,\n",
    "        -84990.00,\n",
    "        12470.00,\n",
    "        39490.00,\n",
    "        -31450.00\n",
    "        ],\n",
    "    '市值': [\n",
    "        5279200.00,\n",
    "        3073650.00,\n",
    "        2095800.00,\n",
    "        4816035.00,\n",
    "        1165580.00\n",
    "        ]\n",
    "}, index=[\n",
    "    '股指',\n",
    "    '黑色',\n",
    "    '金属',\n",
    "    '能化',\n",
    "    '农产品'])\n",
    "rufeng.loc[:, 'nav_pct'] = (rufeng['收益'] / rufeng_fw).apply(lambda x: '%.3f%%' % (x * 100))\n",
    "rufeng.loc[:, '市值(W)'] = rufeng['市值'].apply(lambda x: '%.2f' % (x / 10_000))\n",
    "rufeng = rufeng.T\n",
    "rufeng.loc[:, 'sum'] = rufeng.sum(axis=1)\n",
    "\n",
    "display(cjih)\n",
    "display(rufeng)\n",
    "\n",
    "cj1 = 1.0788\n",
    "cj2 = 1.0781\n",
    "print('财嘉 {} 到 {}, {}%'.format(cj1, cj2, (cj2/cj1 - 1) * 100))\n",
    "rf1 = 1.0126\n",
    "rf2 = 1.0113\n",
    "print('如风 {} 到 {}, {}%'.format(rf1, rf2, (rf2/rf1 - 1) * 100))"
   ]
  },
  {
   "cell_type": "code",
   "execution_count": 2,
   "metadata": {},
   "outputs": [
    {
     "data": {
      "text/plain": [
       "0.005191478185162582"
      ]
     },
     "execution_count": 2,
     "metadata": {},
     "output_type": "execute_result"
    }
   ],
   "source": [
    "40505.00 / cjyh_fw"
   ]
  },
  {
   "cell_type": "code",
   "execution_count": 29,
   "metadata": {},
   "outputs": [
    {
     "data": {
      "text/plain": [
       "-18735.0"
      ]
     },
     "execution_count": 29,
     "metadata": {},
     "output_type": "execute_result"
    }
   ],
   "source": [
    "sum([0.0,\t-10450.0,\t-7100.0,\t-5180.0,\t3995.0])"
   ]
  },
  {
   "cell_type": "code",
   "execution_count": 31,
   "metadata": {},
   "outputs": [
    {
     "data": {
      "text/plain": [
       "-24405.0"
      ]
     },
     "execution_count": 31,
     "metadata": {},
     "output_type": "execute_result"
    }
   ],
   "source": [
    "sum([0.0,\t-22710.0,\t-12070.0,\t-430.0,\t10805.0\t])"
   ]
  }
 ],
 "metadata": {
  "kernelspec": {
   "display_name": "Python 3.8.13 ('trading')",
   "language": "python",
   "name": "python3"
  },
  "language_info": {
   "codemirror_mode": {
    "name": "ipython",
    "version": 3
   },
   "file_extension": ".py",
   "mimetype": "text/x-python",
   "name": "python",
   "nbconvert_exporter": "python",
   "pygments_lexer": "ipython3",
   "version": "3.8.13"
  },
  "orig_nbformat": 4,
  "vscode": {
   "interpreter": {
    "hash": "ddc6e6a209a50492a3782c8b6e74c37658c20e4288aca4350cd3d951c0e99d6b"
   }
  }
 },
 "nbformat": 4,
 "nbformat_minor": 2
}
