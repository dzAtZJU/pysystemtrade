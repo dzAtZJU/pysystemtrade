{
 "cells": [
  {
   "cell_type": "code",
   "execution_count": 6,
   "metadata": {},
   "outputs": [
    {
     "data": {
      "text/html": [
       "<div>\n",
       "<style scoped>\n",
       "    .dataframe tbody tr th:only-of-type {\n",
       "        vertical-align: middle;\n",
       "    }\n",
       "\n",
       "    .dataframe tbody tr th {\n",
       "        vertical-align: top;\n",
       "    }\n",
       "\n",
       "    .dataframe thead th {\n",
       "        text-align: right;\n",
       "    }\n",
       "</style>\n",
       "<table border=\"1\" class=\"dataframe\">\n",
       "  <thead>\n",
       "    <tr style=\"text-align: right;\">\n",
       "      <th></th>\n",
       "      <th>股指</th>\n",
       "      <th>黑色</th>\n",
       "      <th>金属</th>\n",
       "      <th>能化</th>\n",
       "      <th>农产品</th>\n",
       "      <th>sum</th>\n",
       "    </tr>\n",
       "  </thead>\n",
       "  <tbody>\n",
       "    <tr>\n",
       "      <th>收益</th>\n",
       "      <td>9220.0</td>\n",
       "      <td>-16280.0</td>\n",
       "      <td>-605.0</td>\n",
       "      <td>5965.0</td>\n",
       "      <td>-7675.0</td>\n",
       "      <td>-9375.0</td>\n",
       "    </tr>\n",
       "    <tr>\n",
       "      <th>市值</th>\n",
       "      <td>4906760.0</td>\n",
       "      <td>2950300.0</td>\n",
       "      <td>495670.0</td>\n",
       "      <td>831150.0</td>\n",
       "      <td>570105.0</td>\n",
       "      <td>9753985.0</td>\n",
       "    </tr>\n",
       "    <tr>\n",
       "      <th>nav_pct</th>\n",
       "      <td>0.118%</td>\n",
       "      <td>-0.209%</td>\n",
       "      <td>-0.008%</td>\n",
       "      <td>0.076%</td>\n",
       "      <td>-0.098%</td>\n",
       "      <td>0.118%-0.209%-0.008%0.076%-0.098%</td>\n",
       "    </tr>\n",
       "    <tr>\n",
       "      <th>市值(W)</th>\n",
       "      <td>490.68</td>\n",
       "      <td>295.03</td>\n",
       "      <td>49.57</td>\n",
       "      <td>83.11</td>\n",
       "      <td>57.01</td>\n",
       "      <td>490.68295.0349.5783.1157.01</td>\n",
       "    </tr>\n",
       "  </tbody>\n",
       "</table>\n",
       "</div>"
      ],
      "text/plain": [
       "                股指         黑色        金属        能化       农产品  \\\n",
       "收益          9220.0   -16280.0    -605.0    5965.0   -7675.0   \n",
       "市值       4906760.0  2950300.0  495670.0  831150.0  570105.0   \n",
       "nav_pct     0.118%    -0.209%   -0.008%    0.076%   -0.098%   \n",
       "市值(W)       490.68     295.03     49.57     83.11     57.01   \n",
       "\n",
       "                                       sum  \n",
       "收益                                 -9375.0  \n",
       "市值                               9753985.0  \n",
       "nav_pct  0.118%-0.209%-0.008%0.076%-0.098%  \n",
       "市值(W)          490.68295.0349.5783.1157.01  "
      ]
     },
     "metadata": {},
     "output_type": "display_data"
    },
    {
     "data": {
      "text/html": [
       "<div>\n",
       "<style scoped>\n",
       "    .dataframe tbody tr th:only-of-type {\n",
       "        vertical-align: middle;\n",
       "    }\n",
       "\n",
       "    .dataframe tbody tr th {\n",
       "        vertical-align: top;\n",
       "    }\n",
       "\n",
       "    .dataframe thead th {\n",
       "        text-align: right;\n",
       "    }\n",
       "</style>\n",
       "<table border=\"1\" class=\"dataframe\">\n",
       "  <thead>\n",
       "    <tr style=\"text-align: right;\">\n",
       "      <th></th>\n",
       "      <th>股指</th>\n",
       "      <th>黑色</th>\n",
       "      <th>金属</th>\n",
       "      <th>能化</th>\n",
       "      <th>农产品</th>\n",
       "      <th>sum</th>\n",
       "    </tr>\n",
       "  </thead>\n",
       "  <tbody>\n",
       "    <tr>\n",
       "      <th>收益</th>\n",
       "      <td>19360.0</td>\n",
       "      <td>-40170.0</td>\n",
       "      <td>5095.0</td>\n",
       "      <td>18150.0</td>\n",
       "      <td>-21605.0</td>\n",
       "      <td>-19170.0</td>\n",
       "    </tr>\n",
       "    <tr>\n",
       "      <th>市值</th>\n",
       "      <td>11018520.0</td>\n",
       "      <td>7023660.0</td>\n",
       "      <td>1739350.0</td>\n",
       "      <td>2127920.0</td>\n",
       "      <td>1547965.0</td>\n",
       "      <td>23457415.0</td>\n",
       "    </tr>\n",
       "    <tr>\n",
       "      <th>nav_pct</th>\n",
       "      <td>0.140%</td>\n",
       "      <td>-0.291%</td>\n",
       "      <td>0.037%</td>\n",
       "      <td>0.131%</td>\n",
       "      <td>-0.156%</td>\n",
       "      <td>0.140%-0.291%0.037%0.131%-0.156%</td>\n",
       "    </tr>\n",
       "    <tr>\n",
       "      <th>市值(W)</th>\n",
       "      <td>1101.85</td>\n",
       "      <td>702.37</td>\n",
       "      <td>173.94</td>\n",
       "      <td>212.79</td>\n",
       "      <td>154.80</td>\n",
       "      <td>1101.85702.37173.94212.79154.80</td>\n",
       "    </tr>\n",
       "  </tbody>\n",
       "</table>\n",
       "</div>"
      ],
      "text/plain": [
       "                 股指         黑色         金属         能化        农产品  \\\n",
       "收益          19360.0   -40170.0     5095.0    18150.0   -21605.0   \n",
       "市值       11018520.0  7023660.0  1739350.0  2127920.0  1547965.0   \n",
       "nav_pct      0.140%    -0.291%     0.037%     0.131%    -0.156%   \n",
       "市值(W)       1101.85     702.37     173.94     212.79     154.80   \n",
       "\n",
       "                                      sum  \n",
       "收益                               -19170.0  \n",
       "市值                             23457415.0  \n",
       "nav_pct  0.140%-0.291%0.037%0.131%-0.156%  \n",
       "市值(W)     1101.85702.37173.94212.79154.80  "
      ]
     },
     "metadata": {},
     "output_type": "display_data"
    },
    {
     "name": "stdout",
     "output_type": "stream",
     "text": [
      "财嘉 1.0464 到 1.0452, -0.11467889908257645%\n",
      "如风 0.9719 到 0.9705, -0.1440477415371899%\n"
     ]
    }
   ],
   "source": [
    "import pandas as pd\n",
    "\n",
    "\n",
    "        # x,\n",
    "        # x,\n",
    "        # x,\n",
    "        # x,\n",
    "        # x\n",
    "# cjyh cjyh cjyh cjyh cjyh cjyh cjyh cjyh cjyh cjyh cjyh cjyh cjyh cjyh \n",
    "cjyh_fw = 7802209.42\n",
    "cjih = pd.DataFrame({\n",
    "    '收益': [\n",
    "        9220.00,\n",
    "        -16280.00,\n",
    "        -605.00,\n",
    "        5965.00,\n",
    "        -7675.00\n",
    "        ],\n",
    "    '市值': [\n",
    "        4906760.00,\n",
    "        2950300.00,\n",
    "        495670.00,\n",
    "        831150.00,\n",
    "        570105.00\n",
    "        ]\n",
    "}, index=[\n",
    "    '股指',\n",
    "    '黑色',\n",
    "    '金属',\n",
    "    '能化',\n",
    "    '农产品'])\n",
    "cjih.loc[:, 'nav_pct'] = (cjih['收益'] / cjyh_fw).apply(lambda x: '%.3f%%' % (x * 100))\n",
    "cjih.loc[:, '市值(W)'] = cjih['市值'].apply(lambda x: '%.2f' % (x / 10_000))\n",
    "cjih = cjih.T\n",
    "cjih.loc[:, 'sum'] = cjih.sum(axis=1)\n",
    "\n",
    "# cjyh cjyh cjyh cjyh cjyh cjyh cjyh cjyh cjyh cjyh cjyh cjyh cjyh cjyh \n",
    "\n",
    "# ------------------------------------------------------------------------------------\n",
    "# ------------------------------------------------------------------------------------\n",
    "# ------------------------------------------------------------------------------------\n",
    "# ------------------------------------------------------------------------------------\n",
    "# ------------------------------------------------------------------------------------\n",
    "# ------------------------------------------------------------------------------------\n",
    "# ------------------------------------------------------------------------------------\n",
    "# ------------------------------------------------------------------------------------\n",
    "# ------------------------------------------------------------------------------------\n",
    "# ------------------------------------------------------------------------------------\n",
    "# ------------------------------------------------------------------------------------\n",
    "# ------------------------------------------------------------------------------------\n",
    "\n",
    "        # x + x,\n",
    "        # x + x,\n",
    "        # x + x,\n",
    "        # x + x,\n",
    "        # x + x\n",
    "# rufeng rufeng rufeng rufeng rufeng rufeng rufeng rufeng rufeng rufeng\n",
    "rufeng_fw = 13824024.61 \n",
    "rufeng = pd.DataFrame({\n",
    "    '收益': [\n",
    "        19360.00,\n",
    "        -40170.00,\n",
    "        5095.00,\n",
    "        18150.00,\n",
    "        -21605.00\n",
    "        ],\n",
    "    '市值': [\n",
    "        11018520.00,\n",
    "        7023660.00,\n",
    "        1739350.00,\n",
    "        2127920.00,\n",
    "        1547965.00\n",
    "        ]\n",
    "}, index=[\n",
    "    '股指',\n",
    "    '黑色',\n",
    "    '金属',\n",
    "    '能化',\n",
    "    '农产品'])\n",
    "rufeng.loc[:, 'nav_pct'] = (rufeng['收益'] / rufeng_fw).apply(lambda x: '%.3f%%' % (x * 100))\n",
    "rufeng.loc[:, '市值(W)'] = rufeng['市值'].apply(lambda x: '%.2f' % (x / 10_000))\n",
    "rufeng = rufeng.T\n",
    "rufeng.loc[:, 'sum'] = rufeng.sum(axis=1)\n",
    "\n",
    "display(cjih)\n",
    "display(rufeng)\n",
    "\n",
    "cj1 = 1.0464\n",
    "cj2 = 1.0452\n",
    "print('财嘉 {} 到 {}, {}%'.format(cj1, cj2, (cj2/cj1 - 1) * 100))\n",
    "rf1 = 0.9719\n",
    "rf2 = 0.9705\n",
    "print('如风 {} 到 {}, {}%'.format(rf1, rf2, (rf2/rf1 - 1) * 100))"
   ]
  },
  {
   "cell_type": "code",
   "execution_count": 2,
   "metadata": {},
   "outputs": [
    {
     "data": {
      "text/plain": [
       "0.005191478185162582"
      ]
     },
     "execution_count": 2,
     "metadata": {},
     "output_type": "execute_result"
    }
   ],
   "source": [
    "40505.00 / cjyh_fw"
   ]
  },
  {
   "cell_type": "code",
   "execution_count": 29,
   "metadata": {},
   "outputs": [
    {
     "data": {
      "text/plain": [
       "-18735.0"
      ]
     },
     "execution_count": 29,
     "metadata": {},
     "output_type": "execute_result"
    }
   ],
   "source": [
    "sum([0.0,\t-10450.0,\t-7100.0,\t-5180.0,\t3995.0])"
   ]
  },
  {
   "cell_type": "code",
   "execution_count": 31,
   "metadata": {},
   "outputs": [
    {
     "data": {
      "text/plain": [
       "-24405.0"
      ]
     },
     "execution_count": 31,
     "metadata": {},
     "output_type": "execute_result"
    }
   ],
   "source": [
    "sum([0.0,\t-22710.0,\t-12070.0,\t-430.0,\t10805.0\t])"
   ]
  }
 ],
 "metadata": {
  "kernelspec": {
   "display_name": "Python 3.8.9 64-bit",
   "language": "python",
   "name": "python3"
  },
  "language_info": {
   "codemirror_mode": {
    "name": "ipython",
    "version": 3
   },
   "file_extension": ".py",
   "mimetype": "text/x-python",
   "name": "python",
   "nbconvert_exporter": "python",
   "pygments_lexer": "ipython3",
   "version": "3.8.9"
  },
  "orig_nbformat": 4,
  "vscode": {
   "interpreter": {
    "hash": "31f2aee4e71d21fbe5cf8b01ff0e069b9275f58929596ceb00d14d90e3e16cd6"
   }
  }
 },
 "nbformat": 4,
 "nbformat_minor": 2
}
