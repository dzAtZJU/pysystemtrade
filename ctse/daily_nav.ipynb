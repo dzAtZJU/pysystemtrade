{
 "cells": [
  {
   "cell_type": "code",
   "execution_count": 36,
   "metadata": {},
   "outputs": [
    {
     "name": "stdout",
     "output_type": "stream",
     "text": [
      "财嘉 1.042 到 1.0395, -0.2399232245681282%\n"
     ]
    },
    {
     "data": {
      "text/html": [
       "<div>\n",
       "<style scoped>\n",
       "    .dataframe tbody tr th:only-of-type {\n",
       "        vertical-align: middle;\n",
       "    }\n",
       "\n",
       "    .dataframe tbody tr th {\n",
       "        vertical-align: top;\n",
       "    }\n",
       "\n",
       "    .dataframe thead th {\n",
       "        text-align: right;\n",
       "    }\n",
       "</style>\n",
       "<table border=\"1\" class=\"dataframe\">\n",
       "  <thead>\n",
       "    <tr style=\"text-align: right;\">\n",
       "      <th></th>\n",
       "      <th>股指</th>\n",
       "      <th>黑色</th>\n",
       "      <th>金属</th>\n",
       "      <th>能化</th>\n",
       "      <th>农产品</th>\n",
       "      <th>sum</th>\n",
       "    </tr>\n",
       "  </thead>\n",
       "  <tbody>\n",
       "    <tr>\n",
       "      <th>收益</th>\n",
       "      <td>1580.0</td>\n",
       "      <td>-12220.0</td>\n",
       "      <td>-1695.0</td>\n",
       "      <td>-2490.0</td>\n",
       "      <td>-4740.0</td>\n",
       "      <td>-19565.0</td>\n",
       "    </tr>\n",
       "    <tr>\n",
       "      <th>市值</th>\n",
       "      <td>1257600.0</td>\n",
       "      <td>1641380.0</td>\n",
       "      <td>867600.0</td>\n",
       "      <td>1001690.0</td>\n",
       "      <td>773930.0</td>\n",
       "      <td>5542200.0</td>\n",
       "    </tr>\n",
       "    <tr>\n",
       "      <th>nav_pct</th>\n",
       "      <td>0.020%</td>\n",
       "      <td>-0.157%</td>\n",
       "      <td>-0.022%</td>\n",
       "      <td>-0.032%</td>\n",
       "      <td>-0.061%</td>\n",
       "      <td>0.020%-0.157%-0.022%-0.032%-0.061%</td>\n",
       "    </tr>\n",
       "    <tr>\n",
       "      <th>市值(W)</th>\n",
       "      <td>125.76</td>\n",
       "      <td>164.14</td>\n",
       "      <td>86.76</td>\n",
       "      <td>100.17</td>\n",
       "      <td>77.39</td>\n",
       "      <td>125.76164.1486.76100.1777.39</td>\n",
       "    </tr>\n",
       "  </tbody>\n",
       "</table>\n",
       "</div>"
      ],
      "text/plain": [
       "                股指         黑色        金属         能化       农产品  \\\n",
       "收益          1580.0   -12220.0   -1695.0    -2490.0   -4740.0   \n",
       "市值       1257600.0  1641380.0  867600.0  1001690.0  773930.0   \n",
       "nav_pct     0.020%    -0.157%   -0.022%    -0.032%   -0.061%   \n",
       "市值(W)       125.76     164.14     86.76     100.17     77.39   \n",
       "\n",
       "                                        sum  \n",
       "收益                                 -19565.0  \n",
       "市值                                5542200.0  \n",
       "nav_pct  0.020%-0.157%-0.022%-0.032%-0.061%  \n",
       "市值(W)          125.76164.1486.76100.1777.39  "
      ]
     },
     "metadata": {},
     "output_type": "display_data"
    },
    {
     "data": {
      "text/html": [
       "<div>\n",
       "<style scoped>\n",
       "    .dataframe tbody tr th:only-of-type {\n",
       "        vertical-align: middle;\n",
       "    }\n",
       "\n",
       "    .dataframe tbody tr th {\n",
       "        vertical-align: top;\n",
       "    }\n",
       "\n",
       "    .dataframe thead th {\n",
       "        text-align: right;\n",
       "    }\n",
       "</style>\n",
       "<table border=\"1\" class=\"dataframe\">\n",
       "  <thead>\n",
       "    <tr style=\"text-align: right;\">\n",
       "      <th></th>\n",
       "      <th>股指</th>\n",
       "      <th>黑色</th>\n",
       "      <th>金属</th>\n",
       "      <th>能化</th>\n",
       "      <th>农产品</th>\n",
       "      <th>sum</th>\n",
       "    </tr>\n",
       "  </thead>\n",
       "  <tbody>\n",
       "    <tr>\n",
       "      <th>收益</th>\n",
       "      <td>2800.0</td>\n",
       "      <td>-27010.0</td>\n",
       "      <td>-4630.0</td>\n",
       "      <td>-29645.0</td>\n",
       "      <td>-13160.0</td>\n",
       "      <td>-71645.0</td>\n",
       "    </tr>\n",
       "    <tr>\n",
       "      <th>市值</th>\n",
       "      <td>2515200.0</td>\n",
       "      <td>3621330.0</td>\n",
       "      <td>810885.0</td>\n",
       "      <td>1878950.0</td>\n",
       "      <td>2209150.0</td>\n",
       "      <td>11035515.0</td>\n",
       "    </tr>\n",
       "    <tr>\n",
       "      <th>nav_pct</th>\n",
       "      <td>0.020%</td>\n",
       "      <td>-0.195%</td>\n",
       "      <td>-0.033%</td>\n",
       "      <td>-0.214%</td>\n",
       "      <td>-0.095%</td>\n",
       "      <td>0.020%-0.195%-0.033%-0.214%-0.095%</td>\n",
       "    </tr>\n",
       "    <tr>\n",
       "      <th>市值(W)</th>\n",
       "      <td>251.52</td>\n",
       "      <td>362.13</td>\n",
       "      <td>81.09</td>\n",
       "      <td>187.90</td>\n",
       "      <td>220.91</td>\n",
       "      <td>251.52362.1381.09187.90220.91</td>\n",
       "    </tr>\n",
       "  </tbody>\n",
       "</table>\n",
       "</div>"
      ],
      "text/plain": [
       "                股指         黑色        金属         能化        农产品  \\\n",
       "收益          2800.0   -27010.0   -4630.0   -29645.0   -13160.0   \n",
       "市值       2515200.0  3621330.0  810885.0  1878950.0  2209150.0   \n",
       "nav_pct     0.020%    -0.195%   -0.033%    -0.214%    -0.095%   \n",
       "市值(W)       251.52     362.13     81.09     187.90     220.91   \n",
       "\n",
       "                                        sum  \n",
       "收益                                 -71645.0  \n",
       "市值                               11035515.0  \n",
       "nav_pct  0.020%-0.195%-0.033%-0.214%-0.095%  \n",
       "市值(W)         251.52362.1381.09187.90220.91  "
      ]
     },
     "metadata": {},
     "output_type": "display_data"
    },
    {
     "name": "stdout",
     "output_type": "stream",
     "text": [
      "如风 0.9638 到 0.9586, -0.5395310230338235%\n"
     ]
    }
   ],
   "source": [
    "import pandas as pd\n",
    "\n",
    "\n",
    "        # x,\n",
    "        # x,\n",
    "        # x,\n",
    "        # x,\n",
    "        # x\n",
    "# cjyh cjyh cjyh cjyh cjyh cjyh cjyh cjyh cjyh cjyh cjyh cjyh cjyh cjyh \n",
    "cjyh_fw = 7802209.42\n",
    "cjih = pd.DataFrame({\n",
    "    '收益': [\n",
    "        1580.00,\n",
    "        -12220.00,\n",
    "        -1695.00,\n",
    "        -2490.00,\n",
    "        -4740.00\n",
    "        ],\n",
    "    '市值': [\n",
    "        1257600.00,\n",
    "        1641380.00,\n",
    "        867600.00,\n",
    "        1001690.00,\n",
    "        773930.00\n",
    "        ]\n",
    "}, index=[\n",
    "    '股指',\n",
    "    '黑色',\n",
    "    '金属',\n",
    "    '能化',\n",
    "    '农产品'])\n",
    "cjih.loc[:, 'nav_pct'] = (cjih['收益'] / cjyh_fw).apply(lambda x: '%.3f%%' % (x * 100))\n",
    "cjih.loc[:, '市值(W)'] = cjih['市值'].apply(lambda x: '%.2f' % (x / 10_000))\n",
    "cjih = cjih.T\n",
    "cjih.loc[:, 'sum'] = cjih.sum(axis=1)\n",
    "cj1 = 1.042\n",
    "cj2 = 1.0395\n",
    "print('财嘉 {} 到 {}, {}%'.format(cj1, cj2, (cj2/cj1 - 1) * 100))\n",
    "# cjyh cjyh cjyh cjyh cjyh cjyh cjyh cjyh cjyh cjyh cjyh cjyh cjyh cjyh \n",
    "\n",
    "# ------------------------------------------------------------------------------------\n",
    "# ------------------------------------------------------------------------------------\n",
    "# ------------------------------------------------------------------------------------\n",
    "# ------------------------------------------------------------------------------------\n",
    "# ------------------------------------------------------------------------------------\n",
    "# ------------------------------------------------------------------------------------\n",
    "# ------------------------------------------------------------------------------------\n",
    "# ------------------------------------------------------------------------------------\n",
    "# ------------------------------------------------------------------------------------\n",
    "# ------------------------------------------------------------------------------------\n",
    "# ------------------------------------------------------------------------------------\n",
    "# ------------------------------------------------------------------------------------\n",
    "\n",
    "        # x + x,\n",
    "        # x + x,\n",
    "        # x + x,\n",
    "        # x + x,\n",
    "        # x + x\n",
    "# rufeng rufeng rufeng rufeng rufeng rufeng rufeng rufeng rufeng rufeng\n",
    "rufeng_fw = 13824024.61 \n",
    "rufeng = pd.DataFrame({\n",
    "    '收益': [\n",
    "        2800.00,\n",
    "        -27010.00,\n",
    "        -4630.00,\n",
    "        -29645.00,\n",
    "        -13160.00\n",
    "        ],\n",
    "    '市值': [\n",
    "        2515200.00,\n",
    "        3621330.00,\n",
    "        810885.00,\n",
    "        1878950.00,\n",
    "        2209150.00\n",
    "        ]\n",
    "}, index=[\n",
    "    '股指',\n",
    "    '黑色',\n",
    "    '金属',\n",
    "    '能化',\n",
    "    '农产品'])\n",
    "rufeng.loc[:, 'nav_pct'] = (rufeng['收益'] / rufeng_fw).apply(lambda x: '%.3f%%' % (x * 100))\n",
    "rufeng.loc[:, '市值(W)'] = rufeng['市值'].apply(lambda x: '%.2f' % (x / 10_000))\n",
    "rufeng = rufeng.T\n",
    "rufeng.loc[:, 'sum'] = rufeng.sum(axis=1)\n",
    "\n",
    "display(cjih)\n",
    "display(rufeng)\n",
    "rf1 = 0.9638\n",
    "rf2 = 0.9586\n",
    "print('如风 {} 到 {}, {}%'.format(rf1, rf2, (rf2/rf1 - 1) * 100))"
   ]
  },
  {
   "cell_type": "code",
   "execution_count": 2,
   "metadata": {},
   "outputs": [
    {
     "data": {
      "text/plain": [
       "0.005191478185162582"
      ]
     },
     "execution_count": 2,
     "metadata": {},
     "output_type": "execute_result"
    }
   ],
   "source": [
    "40505.00 / cjyh_fw"
   ]
  },
  {
   "cell_type": "code",
   "execution_count": 29,
   "metadata": {},
   "outputs": [
    {
     "data": {
      "text/plain": [
       "-18735.0"
      ]
     },
     "execution_count": 29,
     "metadata": {},
     "output_type": "execute_result"
    }
   ],
   "source": [
    "sum([0.0,\t-10450.0,\t-7100.0,\t-5180.0,\t3995.0])"
   ]
  },
  {
   "cell_type": "code",
   "execution_count": 31,
   "metadata": {},
   "outputs": [
    {
     "data": {
      "text/plain": [
       "-24405.0"
      ]
     },
     "execution_count": 31,
     "metadata": {},
     "output_type": "execute_result"
    }
   ],
   "source": [
    "sum([0.0,\t-22710.0,\t-12070.0,\t-430.0,\t10805.0\t])"
   ]
  }
 ],
 "metadata": {
  "kernelspec": {
   "display_name": "Python 3.8.9 64-bit",
   "language": "python",
   "name": "python3"
  },
  "language_info": {
   "codemirror_mode": {
    "name": "ipython",
    "version": 3
   },
   "file_extension": ".py",
   "mimetype": "text/x-python",
   "name": "python",
   "nbconvert_exporter": "python",
   "pygments_lexer": "ipython3",
   "version": "3.8.9"
  },
  "orig_nbformat": 4,
  "vscode": {
   "interpreter": {
    "hash": "31f2aee4e71d21fbe5cf8b01ff0e069b9275f58929596ceb00d14d90e3e16cd6"
   }
  }
 },
 "nbformat": 4,
 "nbformat_minor": 2
}
