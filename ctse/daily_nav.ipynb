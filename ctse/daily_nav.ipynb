{
 "cells": [
  {
   "cell_type": "code",
   "execution_count": 12,
   "metadata": {},
   "outputs": [
    {
     "data": {
      "text/html": [
       "<div>\n",
       "<style scoped>\n",
       "    .dataframe tbody tr th:only-of-type {\n",
       "        vertical-align: middle;\n",
       "    }\n",
       "\n",
       "    .dataframe tbody tr th {\n",
       "        vertical-align: top;\n",
       "    }\n",
       "\n",
       "    .dataframe thead th {\n",
       "        text-align: right;\n",
       "    }\n",
       "</style>\n",
       "<table border=\"1\" class=\"dataframe\">\n",
       "  <thead>\n",
       "    <tr style=\"text-align: right;\">\n",
       "      <th></th>\n",
       "      <th>股指</th>\n",
       "      <th>黑色</th>\n",
       "      <th>金属</th>\n",
       "      <th>能化</th>\n",
       "      <th>农产品</th>\n",
       "      <th>sum</th>\n",
       "    </tr>\n",
       "  </thead>\n",
       "  <tbody>\n",
       "    <tr>\n",
       "      <th>收益</th>\n",
       "      <td>480.0</td>\n",
       "      <td>4260.0</td>\n",
       "      <td>-1185.0</td>\n",
       "      <td>6690.0</td>\n",
       "      <td>5140.0</td>\n",
       "      <td>15385.0</td>\n",
       "    </tr>\n",
       "    <tr>\n",
       "      <th>市值</th>\n",
       "      <td>2573620.0</td>\n",
       "      <td>1761030.0</td>\n",
       "      <td>1244050.0</td>\n",
       "      <td>3948990.0</td>\n",
       "      <td>1502670.0</td>\n",
       "      <td>11030360.0</td>\n",
       "    </tr>\n",
       "    <tr>\n",
       "      <th>nav_pct</th>\n",
       "      <td>0.006%</td>\n",
       "      <td>0.055%</td>\n",
       "      <td>-0.015%</td>\n",
       "      <td>0.086%</td>\n",
       "      <td>0.066%</td>\n",
       "      <td>0.006%0.055%-0.015%0.086%0.066%</td>\n",
       "    </tr>\n",
       "    <tr>\n",
       "      <th>市值(W)</th>\n",
       "      <td>257.36</td>\n",
       "      <td>176.10</td>\n",
       "      <td>124.41</td>\n",
       "      <td>394.90</td>\n",
       "      <td>150.27</td>\n",
       "      <td>257.36176.10124.41394.90150.27</td>\n",
       "    </tr>\n",
       "  </tbody>\n",
       "</table>\n",
       "</div>"
      ],
      "text/plain": [
       "                股指         黑色         金属         能化        农产品  \\\n",
       "收益           480.0     4260.0    -1185.0     6690.0     5140.0   \n",
       "市值       2573620.0  1761030.0  1244050.0  3948990.0  1502670.0   \n",
       "nav_pct     0.006%     0.055%    -0.015%     0.086%     0.066%   \n",
       "市值(W)       257.36     176.10     124.41     394.90     150.27   \n",
       "\n",
       "                                     sum  \n",
       "收益                               15385.0  \n",
       "市值                            11030360.0  \n",
       "nav_pct  0.006%0.055%-0.015%0.086%0.066%  \n",
       "市值(W)     257.36176.10124.41394.90150.27  "
      ]
     },
     "metadata": {},
     "output_type": "display_data"
    },
    {
     "data": {
      "text/html": [
       "<div>\n",
       "<style scoped>\n",
       "    .dataframe tbody tr th:only-of-type {\n",
       "        vertical-align: middle;\n",
       "    }\n",
       "\n",
       "    .dataframe tbody tr th {\n",
       "        vertical-align: top;\n",
       "    }\n",
       "\n",
       "    .dataframe thead th {\n",
       "        text-align: right;\n",
       "    }\n",
       "</style>\n",
       "<table border=\"1\" class=\"dataframe\">\n",
       "  <thead>\n",
       "    <tr style=\"text-align: right;\">\n",
       "      <th></th>\n",
       "      <th>股指</th>\n",
       "      <th>黑色</th>\n",
       "      <th>金属</th>\n",
       "      <th>能化</th>\n",
       "      <th>农产品</th>\n",
       "      <th>sum</th>\n",
       "    </tr>\n",
       "  </thead>\n",
       "  <tbody>\n",
       "    <tr>\n",
       "      <th>收益</th>\n",
       "      <td>860.0</td>\n",
       "      <td>16940.0</td>\n",
       "      <td>-9865.0</td>\n",
       "      <td>22845.0</td>\n",
       "      <td>13220.0</td>\n",
       "      <td>44000.0</td>\n",
       "    </tr>\n",
       "    <tr>\n",
       "      <th>市值</th>\n",
       "      <td>5147240.0</td>\n",
       "      <td>4494840.0</td>\n",
       "      <td>2608235.0</td>\n",
       "      <td>10268560.0</td>\n",
       "      <td>3933585.0</td>\n",
       "      <td>26452460.0</td>\n",
       "    </tr>\n",
       "    <tr>\n",
       "      <th>nav_pct</th>\n",
       "      <td>0.006%</td>\n",
       "      <td>0.123%</td>\n",
       "      <td>-0.071%</td>\n",
       "      <td>0.165%</td>\n",
       "      <td>0.096%</td>\n",
       "      <td>0.006%0.123%-0.071%0.165%0.096%</td>\n",
       "    </tr>\n",
       "    <tr>\n",
       "      <th>市值(W)</th>\n",
       "      <td>514.72</td>\n",
       "      <td>449.48</td>\n",
       "      <td>260.82</td>\n",
       "      <td>1026.86</td>\n",
       "      <td>393.36</td>\n",
       "      <td>514.72449.48260.821026.86393.36</td>\n",
       "    </tr>\n",
       "  </tbody>\n",
       "</table>\n",
       "</div>"
      ],
      "text/plain": [
       "                股指         黑色         金属          能化        农产品  \\\n",
       "收益           860.0    16940.0    -9865.0     22845.0    13220.0   \n",
       "市值       5147240.0  4494840.0  2608235.0  10268560.0  3933585.0   \n",
       "nav_pct     0.006%     0.123%    -0.071%      0.165%     0.096%   \n",
       "市值(W)       514.72     449.48     260.82     1026.86     393.36   \n",
       "\n",
       "                                     sum  \n",
       "收益                               44000.0  \n",
       "市值                            26452460.0  \n",
       "nav_pct  0.006%0.123%-0.071%0.165%0.096%  \n",
       "市值(W)    514.72449.48260.821026.86393.36  "
      ]
     },
     "metadata": {},
     "output_type": "display_data"
    },
    {
     "name": "stdout",
     "output_type": "stream",
     "text": [
      "财嘉 1.0675 到 1.0695, 0.18735362997657212%\n",
      "如风 0.9982 到 1.0014, 0.3205770386696116%\n"
     ]
    }
   ],
   "source": [
    "import pandas as pd\n",
    "\n",
    "\n",
    "        # x,\n",
    "        # x,\n",
    "        # x,\n",
    "        # x,\n",
    "        # x\n",
    "# cjyh cjyh cjyh cjyh cjyh cjyh cjyh cjyh cjyh cjyh cjyh cjyh cjyh cjyh \n",
    "cjyh_fw = 7802209.42\n",
    "cjih = pd.DataFrame({\n",
    "    '收益': [\n",
    "        480.00,\n",
    "        4260.00,\n",
    "        -1185.00,\n",
    "        6690.00,\n",
    "        5140.00\n",
    "        ],\n",
    "    '市值': [\n",
    "        2573620.00,\n",
    "        1761030.00,\n",
    "        1244050.00,\n",
    "        3948990.00,\n",
    "        1502670.00\n",
    "        ]\n",
    "}, index=[\n",
    "    '股指',\n",
    "    '黑色',\n",
    "    '金属',\n",
    "    '能化',\n",
    "    '农产品'])\n",
    "cjih.loc[:, 'nav_pct'] = (cjih['收益'] / cjyh_fw).apply(lambda x: '%.3f%%' % (x * 100))\n",
    "cjih.loc[:, '市值(W)'] = cjih['市值'].apply(lambda x: '%.2f' % (x / 10_000))\n",
    "cjih = cjih.T\n",
    "cjih.loc[:, 'sum'] = cjih.sum(axis=1)\n",
    "\n",
    "# cjyh cjyh cjyh cjyh cjyh cjyh cjyh cjyh cjyh cjyh cjyh cjyh cjyh cjyh \n",
    "\n",
    "# ------------------------------------------------------------------------------------\n",
    "# ------------------------------------------------------------------------------------\n",
    "# ------------------------------------------------------------------------------------\n",
    "# ------------------------------------------------------------------------------------\n",
    "# ------------------------------------------------------------------------------------\n",
    "# ------------------------------------------------------------------------------------\n",
    "# ------------------------------------------------------------------------------------\n",
    "# ------------------------------------------------------------------------------------\n",
    "# ------------------------------------------------------------------------------------\n",
    "# ------------------------------------------------------------------------------------\n",
    "# ------------------------------------------------------------------------------------\n",
    "# ------------------------------------------------------------------------------------\n",
    "\n",
    "        # x + x,\n",
    "        # x + x,\n",
    "        # x + x,\n",
    "        # x + x,\n",
    "        # x + x\n",
    "# rufeng rufeng rufeng rufeng rufeng rufeng rufeng rufeng rufeng rufeng\n",
    "rufeng_fw = 13824024.61 \n",
    "rufeng = pd.DataFrame({\n",
    "    '收益': [\n",
    "        860.00,\n",
    "        16940.00,\n",
    "        -9865.00,\n",
    "        22845.00,\n",
    "        13220.00\n",
    "        ],\n",
    "    '市值': [\n",
    "        5147240.00,\n",
    "        4494840.00,\n",
    "        2608235.00,\n",
    "        10268560.00,\n",
    "        3933585.00\n",
    "        ]\n",
    "}, index=[\n",
    "    '股指',\n",
    "    '黑色',\n",
    "    '金属',\n",
    "    '能化',\n",
    "    '农产品'])\n",
    "rufeng.loc[:, 'nav_pct'] = (rufeng['收益'] / rufeng_fw).apply(lambda x: '%.3f%%' % (x * 100))\n",
    "rufeng.loc[:, '市值(W)'] = rufeng['市值'].apply(lambda x: '%.2f' % (x / 10_000))\n",
    "rufeng = rufeng.T\n",
    "rufeng.loc[:, 'sum'] = rufeng.sum(axis=1)\n",
    "\n",
    "display(cjih)\n",
    "display(rufeng)\n",
    "\n",
    "cj1 = 1.0675\n",
    "cj2 = 1.0695\n",
    "print('财嘉 {} 到 {}, {}%'.format(cj1, cj2, (cj2/cj1 - 1) * 100))\n",
    "rf1 = 0.9982\n",
    "rf2 = 1.0014\n",
    "print('如风 {} 到 {}, {}%'.format(rf1, rf2, (rf2/rf1 - 1) * 100))"
   ]
  },
  {
   "cell_type": "code",
   "execution_count": 2,
   "metadata": {},
   "outputs": [
    {
     "data": {
      "text/plain": [
       "0.005191478185162582"
      ]
     },
     "execution_count": 2,
     "metadata": {},
     "output_type": "execute_result"
    }
   ],
   "source": [
    "40505.00 / cjyh_fw"
   ]
  },
  {
   "cell_type": "code",
   "execution_count": 29,
   "metadata": {},
   "outputs": [
    {
     "data": {
      "text/plain": [
       "-18735.0"
      ]
     },
     "execution_count": 29,
     "metadata": {},
     "output_type": "execute_result"
    }
   ],
   "source": [
    "sum([0.0,\t-10450.0,\t-7100.0,\t-5180.0,\t3995.0])"
   ]
  },
  {
   "cell_type": "code",
   "execution_count": 31,
   "metadata": {},
   "outputs": [
    {
     "data": {
      "text/plain": [
       "-24405.0"
      ]
     },
     "execution_count": 31,
     "metadata": {},
     "output_type": "execute_result"
    }
   ],
   "source": [
    "sum([0.0,\t-22710.0,\t-12070.0,\t-430.0,\t10805.0\t])"
   ]
  }
 ],
 "metadata": {
  "kernelspec": {
   "display_name": "Python 3.8.13 ('trading')",
   "language": "python",
   "name": "python3"
  },
  "language_info": {
   "codemirror_mode": {
    "name": "ipython",
    "version": 3
   },
   "file_extension": ".py",
   "mimetype": "text/x-python",
   "name": "python",
   "nbconvert_exporter": "python",
   "pygments_lexer": "ipython3",
   "version": "3.8.13"
  },
  "orig_nbformat": 4,
  "vscode": {
   "interpreter": {
    "hash": "ddc6e6a209a50492a3782c8b6e74c37658c20e4288aca4350cd3d951c0e99d6b"
   }
  }
 },
 "nbformat": 4,
 "nbformat_minor": 2
}
