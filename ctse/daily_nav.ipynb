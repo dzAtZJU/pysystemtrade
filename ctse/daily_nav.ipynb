{
 "cells": [
  {
   "cell_type": "code",
   "execution_count": 2,
   "metadata": {},
   "outputs": [
    {
     "name": "stdout",
     "output_type": "stream",
     "text": [
      "财嘉 1.0424 到 1.0603, 1.7171910974673965%\n"
     ]
    },
    {
     "data": {
      "text/html": [
       "<div>\n",
       "<style scoped>\n",
       "    .dataframe tbody tr th:only-of-type {\n",
       "        vertical-align: middle;\n",
       "    }\n",
       "\n",
       "    .dataframe tbody tr th {\n",
       "        vertical-align: top;\n",
       "    }\n",
       "\n",
       "    .dataframe thead th {\n",
       "        text-align: right;\n",
       "    }\n",
       "</style>\n",
       "<table border=\"1\" class=\"dataframe\">\n",
       "  <thead>\n",
       "    <tr style=\"text-align: right;\">\n",
       "      <th></th>\n",
       "      <th>股指</th>\n",
       "      <th>黑色</th>\n",
       "      <th>金属</th>\n",
       "      <th>能化</th>\n",
       "      <th>农产品</th>\n",
       "      <th>sum</th>\n",
       "    </tr>\n",
       "  </thead>\n",
       "  <tbody>\n",
       "    <tr>\n",
       "      <th>收益</th>\n",
       "      <td>-5580.0</td>\n",
       "      <td>86850.0</td>\n",
       "      <td>20950.0</td>\n",
       "      <td>25910.0</td>\n",
       "      <td>11580.0</td>\n",
       "      <td>139710.0</td>\n",
       "    </tr>\n",
       "    <tr>\n",
       "      <th>市值</th>\n",
       "      <td>2535960.0</td>\n",
       "      <td>3399130.0</td>\n",
       "      <td>1742050.0</td>\n",
       "      <td>512030.0</td>\n",
       "      <td>1011915.0</td>\n",
       "      <td>9201085.0</td>\n",
       "    </tr>\n",
       "    <tr>\n",
       "      <th>nav_pct</th>\n",
       "      <td>-0.072%</td>\n",
       "      <td>1.113%</td>\n",
       "      <td>0.269%</td>\n",
       "      <td>0.332%</td>\n",
       "      <td>0.148%</td>\n",
       "      <td>-0.072%1.113%0.269%0.332%0.148%</td>\n",
       "    </tr>\n",
       "    <tr>\n",
       "      <th>市值(W)</th>\n",
       "      <td>253.60</td>\n",
       "      <td>339.91</td>\n",
       "      <td>174.21</td>\n",
       "      <td>51.20</td>\n",
       "      <td>101.19</td>\n",
       "      <td>253.60339.91174.2151.20101.19</td>\n",
       "    </tr>\n",
       "  </tbody>\n",
       "</table>\n",
       "</div>"
      ],
      "text/plain": [
       "                股指         黑色         金属        能化        农产品  \\\n",
       "收益         -5580.0    86850.0    20950.0   25910.0    11580.0   \n",
       "市值       2535960.0  3399130.0  1742050.0  512030.0  1011915.0   \n",
       "nav_pct    -0.072%     1.113%     0.269%    0.332%     0.148%   \n",
       "市值(W)       253.60     339.91     174.21     51.20     101.19   \n",
       "\n",
       "                                     sum  \n",
       "收益                              139710.0  \n",
       "市值                             9201085.0  \n",
       "nav_pct  -0.072%1.113%0.269%0.332%0.148%  \n",
       "市值(W)      253.60339.91174.2151.20101.19  "
      ]
     },
     "metadata": {},
     "output_type": "display_data"
    },
    {
     "data": {
      "text/html": [
       "<div>\n",
       "<style scoped>\n",
       "    .dataframe tbody tr th:only-of-type {\n",
       "        vertical-align: middle;\n",
       "    }\n",
       "\n",
       "    .dataframe tbody tr th {\n",
       "        vertical-align: top;\n",
       "    }\n",
       "\n",
       "    .dataframe thead th {\n",
       "        text-align: right;\n",
       "    }\n",
       "</style>\n",
       "<table border=\"1\" class=\"dataframe\">\n",
       "  <thead>\n",
       "    <tr style=\"text-align: right;\">\n",
       "      <th></th>\n",
       "      <th>股指</th>\n",
       "      <th>黑色</th>\n",
       "      <th>金属</th>\n",
       "      <th>能化</th>\n",
       "      <th>农产品</th>\n",
       "      <th>sum</th>\n",
       "    </tr>\n",
       "  </thead>\n",
       "  <tbody>\n",
       "    <tr>\n",
       "      <th>收益</th>\n",
       "      <td>-14020.0</td>\n",
       "      <td>214840.0</td>\n",
       "      <td>34525.0</td>\n",
       "      <td>59670.0</td>\n",
       "      <td>26760.0</td>\n",
       "      <td>321775.0</td>\n",
       "    </tr>\n",
       "    <tr>\n",
       "      <th>市值</th>\n",
       "      <td>5071920.0</td>\n",
       "      <td>8309870.0</td>\n",
       "      <td>3036425.0</td>\n",
       "      <td>2489225.0</td>\n",
       "      <td>2509895.0</td>\n",
       "      <td>21417335.0</td>\n",
       "    </tr>\n",
       "    <tr>\n",
       "      <th>nav_pct</th>\n",
       "      <td>-0.101%</td>\n",
       "      <td>1.554%</td>\n",
       "      <td>0.250%</td>\n",
       "      <td>0.432%</td>\n",
       "      <td>0.194%</td>\n",
       "      <td>-0.101%1.554%0.250%0.432%0.194%</td>\n",
       "    </tr>\n",
       "    <tr>\n",
       "      <th>市值(W)</th>\n",
       "      <td>507.19</td>\n",
       "      <td>830.99</td>\n",
       "      <td>303.64</td>\n",
       "      <td>248.92</td>\n",
       "      <td>250.99</td>\n",
       "      <td>507.19830.99303.64248.92250.99</td>\n",
       "    </tr>\n",
       "  </tbody>\n",
       "</table>\n",
       "</div>"
      ],
      "text/plain": [
       "                股指         黑色         金属         能化        农产品  \\\n",
       "收益        -14020.0   214840.0    34525.0    59670.0    26760.0   \n",
       "市值       5071920.0  8309870.0  3036425.0  2489225.0  2509895.0   \n",
       "nav_pct    -0.101%     1.554%     0.250%     0.432%     0.194%   \n",
       "市值(W)       507.19     830.99     303.64     248.92     250.99   \n",
       "\n",
       "                                     sum  \n",
       "收益                              321775.0  \n",
       "市值                            21417335.0  \n",
       "nav_pct  -0.101%1.554%0.250%0.432%0.194%  \n",
       "市值(W)     507.19830.99303.64248.92250.99  "
      ]
     },
     "metadata": {},
     "output_type": "display_data"
    },
    {
     "name": "stdout",
     "output_type": "stream",
     "text": [
      "如风 0.9711 到 0.9944, 2.399340953557827%\n"
     ]
    }
   ],
   "source": [
    "import pandas as pd\n",
    "\n",
    "\n",
    "        # x,\n",
    "        # x,\n",
    "        # x,\n",
    "        # x,\n",
    "        # x\n",
    "# cjyh cjyh cjyh cjyh cjyh cjyh cjyh cjyh cjyh cjyh cjyh cjyh cjyh cjyh \n",
    "cjyh_fw = 7802209.42\n",
    "cjih = pd.DataFrame({\n",
    "    '收益': [\n",
    "        -5580.00,\n",
    "        86850.00,\n",
    "        20950.00,\n",
    "        25910.00,\n",
    "        11580.00\n",
    "        ],\n",
    "    '市值': [   \n",
    "        2535960.00,\n",
    "        3399130.00,\n",
    "        1742050.00,\n",
    "        512030.00,\n",
    "        1011915.00\n",
    "        ]\n",
    "}, index=[\n",
    "    '股指',\n",
    "    '黑色',\n",
    "    '金属',\n",
    "    '能化',\n",
    "    '农产品'])\n",
    "cjih.loc[:, 'nav_pct'] = (cjih['收益'] / cjyh_fw).apply(lambda x: '%.3f%%' % (x * 100))\n",
    "cjih.loc[:, '市值(W)'] = cjih['市值'].apply(lambda x: '%.2f' % (x / 10_000))\n",
    "cjih = cjih.T\n",
    "cjih.loc[:, 'sum'] = cjih.sum(axis=1)\n",
    "cj1 = 1.0424\n",
    "cj2 = 1.0603\n",
    "print('财嘉 {} 到 {}, {}%'.format(cj1, cj2, (cj2/cj1 - 1) * 100))\n",
    "# cjyh cjyh cjyh cjyh cjyh cjyh cjyh cjyh cjyh cjyh cjyh cjyh cjyh cjyh \n",
    "\n",
    "# ------------------------------------------------------------------------------------\n",
    "# ------------------------------------------------------------------------------------\n",
    "# ------------------------------------------------------------------------------------\n",
    "# ------------------------------------------------------------------------------------\n",
    "# ------------------------------------------------------------------------------------\n",
    "# ------------------------------------------------------------------------------------\n",
    "# ------------------------------------------------------------------------------------\n",
    "# ------------------------------------------------------------------------------------\n",
    "# ------------------------------------------------------------------------------------\n",
    "# ------------------------------------------------------------------------------------\n",
    "# ------------------------------------------------------------------------------------\n",
    "# ------------------------------------------------------------------------------------\n",
    "\n",
    "        # x + x,\n",
    "        # x + x,\n",
    "        # x + x,\n",
    "        # x + x,\n",
    "        # x + x\n",
    "# rufeng rufeng rufeng rufeng rufeng rufeng rufeng rufeng rufeng rufeng\n",
    "rufeng_fw = 13824024.61 \n",
    "rufeng = pd.DataFrame({\n",
    "    '收益': [\n",
    "        -14020.00,\n",
    "        214840.00,\n",
    "        34525.00,\n",
    "        59670.00,\n",
    "        26760.00\n",
    "        ],\n",
    "    '市值': [\n",
    "        5071920.00,\n",
    "        8309870.00,\n",
    "        3036425.00,\n",
    "        2489225.00,\n",
    "        2509895.00\n",
    "        ]\n",
    "}, index=[\n",
    "    '股指',\n",
    "    '黑色',\n",
    "    '金属',\n",
    "    '能化',\n",
    "    '农产品'])\n",
    "rufeng.loc[:, 'nav_pct'] = (rufeng['收益'] / rufeng_fw).apply(lambda x: '%.3f%%' % (x * 100))\n",
    "rufeng.loc[:, '市值(W)'] = rufeng['市值'].apply(lambda x: '%.2f' % (x / 10_000))\n",
    "rufeng = rufeng.T\n",
    "rufeng.loc[:, 'sum'] = rufeng.sum(axis=1)\n",
    "\n",
    "display(cjih)\n",
    "display(rufeng)\n",
    "rf1 = 0.9711\n",
    "rf2 = 0.9944\n",
    "print('如风 {} 到 {}, {}%'.format(rf1, rf2, (rf2/rf1 - 1) * 100))"
   ]
  },
  {
   "cell_type": "code",
   "execution_count": 2,
   "metadata": {},
   "outputs": [
    {
     "data": {
      "text/plain": [
       "0.005191478185162582"
      ]
     },
     "execution_count": 2,
     "metadata": {},
     "output_type": "execute_result"
    }
   ],
   "source": [
    "40505.00 / cjyh_fw"
   ]
  },
  {
   "cell_type": "code",
   "execution_count": 3,
   "metadata": {},
   "outputs": [
    {
     "data": {
      "text/plain": [
       "0.0038085869698115363"
      ]
     },
     "execution_count": 3,
     "metadata": {},
     "output_type": "execute_result"
    }
   ],
   "source": [
    "(55050.00 - 2400.00) / rufeng_fw"
   ]
  }
 ],
 "metadata": {
  "kernelspec": {
   "display_name": "Python 3.8.9 64-bit",
   "language": "python",
   "name": "python3"
  },
  "language_info": {
   "codemirror_mode": {
    "name": "ipython",
    "version": 3
   },
   "file_extension": ".py",
   "mimetype": "text/x-python",
   "name": "python",
   "nbconvert_exporter": "python",
   "pygments_lexer": "ipython3",
   "version": "3.8.9"
  },
  "orig_nbformat": 4,
  "vscode": {
   "interpreter": {
    "hash": "31f2aee4e71d21fbe5cf8b01ff0e069b9275f58929596ceb00d14d90e3e16cd6"
   }
  }
 },
 "nbformat": 4,
 "nbformat_minor": 2
}
