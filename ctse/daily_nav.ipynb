{
 "cells": [
  {
   "cell_type": "code",
   "execution_count": 9,
   "metadata": {},
   "outputs": [
    {
     "data": {
      "text/html": [
       "<div>\n",
       "<style scoped>\n",
       "    .dataframe tbody tr th:only-of-type {\n",
       "        vertical-align: middle;\n",
       "    }\n",
       "\n",
       "    .dataframe tbody tr th {\n",
       "        vertical-align: top;\n",
       "    }\n",
       "\n",
       "    .dataframe thead th {\n",
       "        text-align: right;\n",
       "    }\n",
       "</style>\n",
       "<table border=\"1\" class=\"dataframe\">\n",
       "  <thead>\n",
       "    <tr style=\"text-align: right;\">\n",
       "      <th></th>\n",
       "      <th>股指</th>\n",
       "      <th>黑色</th>\n",
       "      <th>金属</th>\n",
       "      <th>能化</th>\n",
       "      <th>农产品</th>\n",
       "      <th>sum</th>\n",
       "    </tr>\n",
       "  </thead>\n",
       "  <tbody>\n",
       "    <tr>\n",
       "      <th>收益</th>\n",
       "      <td>-480.0</td>\n",
       "      <td>-10780.0</td>\n",
       "      <td>-675.0</td>\n",
       "      <td>280.0</td>\n",
       "      <td>-6080.0</td>\n",
       "      <td>-17735.0</td>\n",
       "    </tr>\n",
       "    <tr>\n",
       "      <th>市值</th>\n",
       "      <td>2565300.0</td>\n",
       "      <td>1018620.0</td>\n",
       "      <td>676500.0</td>\n",
       "      <td>1412180.0</td>\n",
       "      <td>624160.0</td>\n",
       "      <td>6296760.0</td>\n",
       "    </tr>\n",
       "    <tr>\n",
       "      <th>nav_pct</th>\n",
       "      <td>-0.006%</td>\n",
       "      <td>-0.138%</td>\n",
       "      <td>-0.009%</td>\n",
       "      <td>0.004%</td>\n",
       "      <td>-0.078%</td>\n",
       "      <td>-0.006%-0.138%-0.009%0.004%-0.078%</td>\n",
       "    </tr>\n",
       "    <tr>\n",
       "      <th>市值(W)</th>\n",
       "      <td>256.53</td>\n",
       "      <td>101.86</td>\n",
       "      <td>67.65</td>\n",
       "      <td>141.22</td>\n",
       "      <td>62.42</td>\n",
       "      <td>256.53101.8667.65141.2262.42</td>\n",
       "    </tr>\n",
       "  </tbody>\n",
       "</table>\n",
       "</div>"
      ],
      "text/plain": [
       "                股指         黑色        金属         能化       农产品  \\\n",
       "收益          -480.0   -10780.0    -675.0      280.0   -6080.0   \n",
       "市值       2565300.0  1018620.0  676500.0  1412180.0  624160.0   \n",
       "nav_pct    -0.006%    -0.138%   -0.009%     0.004%   -0.078%   \n",
       "市值(W)       256.53     101.86     67.65     141.22     62.42   \n",
       "\n",
       "                                        sum  \n",
       "收益                                 -17735.0  \n",
       "市值                                6296760.0  \n",
       "nav_pct  -0.006%-0.138%-0.009%0.004%-0.078%  \n",
       "市值(W)          256.53101.8667.65141.2262.42  "
      ]
     },
     "metadata": {},
     "output_type": "display_data"
    },
    {
     "data": {
      "text/html": [
       "<div>\n",
       "<style scoped>\n",
       "    .dataframe tbody tr th:only-of-type {\n",
       "        vertical-align: middle;\n",
       "    }\n",
       "\n",
       "    .dataframe tbody tr th {\n",
       "        vertical-align: top;\n",
       "    }\n",
       "\n",
       "    .dataframe thead th {\n",
       "        text-align: right;\n",
       "    }\n",
       "</style>\n",
       "<table border=\"1\" class=\"dataframe\">\n",
       "  <thead>\n",
       "    <tr style=\"text-align: right;\">\n",
       "      <th></th>\n",
       "      <th>股指</th>\n",
       "      <th>黑色</th>\n",
       "      <th>金属</th>\n",
       "      <th>能化</th>\n",
       "      <th>农产品</th>\n",
       "      <th>sum</th>\n",
       "    </tr>\n",
       "  </thead>\n",
       "  <tbody>\n",
       "    <tr>\n",
       "      <th>收益</th>\n",
       "      <td>-960.0</td>\n",
       "      <td>-27650.0</td>\n",
       "      <td>-1190.0</td>\n",
       "      <td>1595.0</td>\n",
       "      <td>-16120.0</td>\n",
       "      <td>-44325.0</td>\n",
       "    </tr>\n",
       "    <tr>\n",
       "      <th>市值</th>\n",
       "      <td>5130600.0</td>\n",
       "      <td>2526040.0</td>\n",
       "      <td>1197555.0</td>\n",
       "      <td>3969735.0</td>\n",
       "      <td>1654375.0</td>\n",
       "      <td>14478305.0</td>\n",
       "    </tr>\n",
       "    <tr>\n",
       "      <th>nav_pct</th>\n",
       "      <td>-0.007%</td>\n",
       "      <td>-0.200%</td>\n",
       "      <td>-0.009%</td>\n",
       "      <td>0.012%</td>\n",
       "      <td>-0.117%</td>\n",
       "      <td>-0.007%-0.200%-0.009%0.012%-0.117%</td>\n",
       "    </tr>\n",
       "    <tr>\n",
       "      <th>市值(W)</th>\n",
       "      <td>513.06</td>\n",
       "      <td>252.60</td>\n",
       "      <td>119.76</td>\n",
       "      <td>396.97</td>\n",
       "      <td>165.44</td>\n",
       "      <td>513.06252.60119.76396.97165.44</td>\n",
       "    </tr>\n",
       "  </tbody>\n",
       "</table>\n",
       "</div>"
      ],
      "text/plain": [
       "                股指         黑色         金属         能化        农产品  \\\n",
       "收益          -960.0   -27650.0    -1190.0     1595.0   -16120.0   \n",
       "市值       5130600.0  2526040.0  1197555.0  3969735.0  1654375.0   \n",
       "nav_pct    -0.007%    -0.200%    -0.009%     0.012%    -0.117%   \n",
       "市值(W)       513.06     252.60     119.76     396.97     165.44   \n",
       "\n",
       "                                        sum  \n",
       "收益                                 -44325.0  \n",
       "市值                               14478305.0  \n",
       "nav_pct  -0.007%-0.200%-0.009%0.012%-0.117%  \n",
       "市值(W)        513.06252.60119.76396.97165.44  "
      ]
     },
     "metadata": {},
     "output_type": "display_data"
    },
    {
     "name": "stdout",
     "output_type": "stream",
     "text": [
      "财嘉 1.0698 到 1.0675, -0.2149934567209022%\n",
      "如风 1.0014 到 0.9982, -0.3195526263231607%\n"
     ]
    }
   ],
   "source": [
    "import pandas as pd\n",
    "\n",
    "\n",
    "        # x,\n",
    "        # x,\n",
    "        # x,\n",
    "        # x,\n",
    "        # x\n",
    "# cjyh cjyh cjyh cjyh cjyh cjyh cjyh cjyh cjyh cjyh cjyh cjyh cjyh cjyh \n",
    "cjyh_fw = 7802209.42\n",
    "cjih = pd.DataFrame({\n",
    "    '收益': [\n",
    "        -480.00,\n",
    "        -10780.00,\n",
    "        -675.00,\n",
    "        280.00,\n",
    "        -6080.00\n",
    "        ],\n",
    "    '市值': [\n",
    "        2565300.00,\n",
    "        1018620.00,\n",
    "        676500.00,\n",
    "        1412180.00,\n",
    "        624160.00\n",
    "        ]\n",
    "}, index=[\n",
    "    '股指',\n",
    "    '黑色',\n",
    "    '金属',\n",
    "    '能化',\n",
    "    '农产品'])\n",
    "cjih.loc[:, 'nav_pct'] = (cjih['收益'] / cjyh_fw).apply(lambda x: '%.3f%%' % (x * 100))\n",
    "cjih.loc[:, '市值(W)'] = cjih['市值'].apply(lambda x: '%.2f' % (x / 10_000))\n",
    "cjih = cjih.T\n",
    "cjih.loc[:, 'sum'] = cjih.sum(axis=1)\n",
    "\n",
    "# cjyh cjyh cjyh cjyh cjyh cjyh cjyh cjyh cjyh cjyh cjyh cjyh cjyh cjyh \n",
    "\n",
    "# ------------------------------------------------------------------------------------\n",
    "# ------------------------------------------------------------------------------------\n",
    "# ------------------------------------------------------------------------------------\n",
    "# ------------------------------------------------------------------------------------\n",
    "# ------------------------------------------------------------------------------------\n",
    "# ------------------------------------------------------------------------------------\n",
    "# ------------------------------------------------------------------------------------\n",
    "# ------------------------------------------------------------------------------------\n",
    "# ------------------------------------------------------------------------------------\n",
    "# ------------------------------------------------------------------------------------\n",
    "# ------------------------------------------------------------------------------------\n",
    "# ------------------------------------------------------------------------------------\n",
    "\n",
    "        # x + x,\n",
    "        # x + x,\n",
    "        # x + x,\n",
    "        # x + x,\n",
    "        # x + x\n",
    "# rufeng rufeng rufeng rufeng rufeng rufeng rufeng rufeng rufeng rufeng\n",
    "rufeng_fw = 13824024.61 \n",
    "rufeng = pd.DataFrame({\n",
    "    '收益': [\n",
    "        -960.00,\n",
    "        -27650.00,\n",
    "        -1190.00,\n",
    "        1595.00,\n",
    "        -16120.00\n",
    "        ],\n",
    "    '市值': [\n",
    "        5130600.00,\n",
    "        2526040.00,\n",
    "        1197555.00,\n",
    "        3969735.00,\n",
    "        1654375.00\n",
    "        ]\n",
    "}, index=[\n",
    "    '股指',\n",
    "    '黑色',\n",
    "    '金属',\n",
    "    '能化',\n",
    "    '农产品'])\n",
    "rufeng.loc[:, 'nav_pct'] = (rufeng['收益'] / rufeng_fw).apply(lambda x: '%.3f%%' % (x * 100))\n",
    "rufeng.loc[:, '市值(W)'] = rufeng['市值'].apply(lambda x: '%.2f' % (x / 10_000))\n",
    "rufeng = rufeng.T\n",
    "rufeng.loc[:, 'sum'] = rufeng.sum(axis=1)\n",
    "\n",
    "display(cjih)\n",
    "display(rufeng)\n",
    "\n",
    "cj1 = 1.0698\n",
    "cj2 = 1.0675\n",
    "print('财嘉 {} 到 {}, {}%'.format(cj1, cj2, (cj2/cj1 - 1) * 100))\n",
    "rf1 = 1.0014\n",
    "rf2 = 0.9982\n",
    "print('如风 {} 到 {}, {}%'.format(rf1, rf2, (rf2/rf1 - 1) * 100))"
   ]
  },
  {
   "cell_type": "code",
   "execution_count": 2,
   "metadata": {},
   "outputs": [
    {
     "data": {
      "text/plain": [
       "0.005191478185162582"
      ]
     },
     "execution_count": 2,
     "metadata": {},
     "output_type": "execute_result"
    }
   ],
   "source": [
    "40505.00 / cjyh_fw"
   ]
  },
  {
   "cell_type": "code",
   "execution_count": 29,
   "metadata": {},
   "outputs": [
    {
     "data": {
      "text/plain": [
       "-18735.0"
      ]
     },
     "execution_count": 29,
     "metadata": {},
     "output_type": "execute_result"
    }
   ],
   "source": [
    "sum([0.0,\t-10450.0,\t-7100.0,\t-5180.0,\t3995.0])"
   ]
  },
  {
   "cell_type": "code",
   "execution_count": 31,
   "metadata": {},
   "outputs": [
    {
     "data": {
      "text/plain": [
       "-24405.0"
      ]
     },
     "execution_count": 31,
     "metadata": {},
     "output_type": "execute_result"
    }
   ],
   "source": [
    "sum([0.0,\t-22710.0,\t-12070.0,\t-430.0,\t10805.0\t])"
   ]
  }
 ],
 "metadata": {
  "kernelspec": {
   "display_name": "Python 3.8.13 ('trading')",
   "language": "python",
   "name": "python3"
  },
  "language_info": {
   "codemirror_mode": {
    "name": "ipython",
    "version": 3
   },
   "file_extension": ".py",
   "mimetype": "text/x-python",
   "name": "python",
   "nbconvert_exporter": "python",
   "pygments_lexer": "ipython3",
   "version": "3.8.13"
  },
  "orig_nbformat": 4,
  "vscode": {
   "interpreter": {
    "hash": "ddc6e6a209a50492a3782c8b6e74c37658c20e4288aca4350cd3d951c0e99d6b"
   }
  }
 },
 "nbformat": 4,
 "nbformat_minor": 2
}
