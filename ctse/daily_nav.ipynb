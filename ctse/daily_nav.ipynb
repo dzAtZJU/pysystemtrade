{
 "cells": [
  {
   "cell_type": "code",
   "execution_count": 2,
   "metadata": {},
   "outputs": [
    {
     "data": {
      "text/html": [
       "<div>\n",
       "<style scoped>\n",
       "    .dataframe tbody tr th:only-of-type {\n",
       "        vertical-align: middle;\n",
       "    }\n",
       "\n",
       "    .dataframe tbody tr th {\n",
       "        vertical-align: top;\n",
       "    }\n",
       "\n",
       "    .dataframe thead th {\n",
       "        text-align: right;\n",
       "    }\n",
       "</style>\n",
       "<table border=\"1\" class=\"dataframe\">\n",
       "  <thead>\n",
       "    <tr style=\"text-align: right;\">\n",
       "      <th></th>\n",
       "      <th>股指</th>\n",
       "      <th>黑色</th>\n",
       "      <th>金属</th>\n",
       "      <th>能化</th>\n",
       "      <th>农产品</th>\n",
       "      <th>sum</th>\n",
       "    </tr>\n",
       "  </thead>\n",
       "  <tbody>\n",
       "    <tr>\n",
       "      <th>收益</th>\n",
       "      <td>22220.0</td>\n",
       "      <td>45280.0</td>\n",
       "      <td>4755.0</td>\n",
       "      <td>-24200.0</td>\n",
       "      <td>4290.0</td>\n",
       "      <td>52345.0</td>\n",
       "    </tr>\n",
       "    <tr>\n",
       "      <th>市值</th>\n",
       "      <td>2623280.0</td>\n",
       "      <td>3326280.0</td>\n",
       "      <td>1054490.0</td>\n",
       "      <td>3221270.0</td>\n",
       "      <td>1323260.0</td>\n",
       "      <td>11548580.0</td>\n",
       "    </tr>\n",
       "    <tr>\n",
       "      <th>nav_pct</th>\n",
       "      <td>0.285%</td>\n",
       "      <td>0.580%</td>\n",
       "      <td>0.061%</td>\n",
       "      <td>-0.310%</td>\n",
       "      <td>0.055%</td>\n",
       "      <td>0.285%0.580%0.061%-0.310%0.055%</td>\n",
       "    </tr>\n",
       "    <tr>\n",
       "      <th>市值(W)</th>\n",
       "      <td>262.33</td>\n",
       "      <td>332.63</td>\n",
       "      <td>105.45</td>\n",
       "      <td>322.13</td>\n",
       "      <td>132.33</td>\n",
       "      <td>262.33332.63105.45322.13132.33</td>\n",
       "    </tr>\n",
       "  </tbody>\n",
       "</table>\n",
       "</div>"
      ],
      "text/plain": [
       "                股指         黑色         金属         能化        农产品  \\\n",
       "收益         22220.0    45280.0     4755.0   -24200.0     4290.0   \n",
       "市值       2623280.0  3326280.0  1054490.0  3221270.0  1323260.0   \n",
       "nav_pct     0.285%     0.580%     0.061%    -0.310%     0.055%   \n",
       "市值(W)       262.33     332.63     105.45     322.13     132.33   \n",
       "\n",
       "                                     sum  \n",
       "收益                               52345.0  \n",
       "市值                            11548580.0  \n",
       "nav_pct  0.285%0.580%0.061%-0.310%0.055%  \n",
       "市值(W)     262.33332.63105.45322.13132.33  "
      ]
     },
     "metadata": {},
     "output_type": "display_data"
    },
    {
     "data": {
      "text/html": [
       "<div>\n",
       "<style scoped>\n",
       "    .dataframe tbody tr th:only-of-type {\n",
       "        vertical-align: middle;\n",
       "    }\n",
       "\n",
       "    .dataframe tbody tr th {\n",
       "        vertical-align: top;\n",
       "    }\n",
       "\n",
       "    .dataframe thead th {\n",
       "        text-align: right;\n",
       "    }\n",
       "</style>\n",
       "<table border=\"1\" class=\"dataframe\">\n",
       "  <thead>\n",
       "    <tr style=\"text-align: right;\">\n",
       "      <th></th>\n",
       "      <th>股指</th>\n",
       "      <th>黑色</th>\n",
       "      <th>金属</th>\n",
       "      <th>能化</th>\n",
       "      <th>农产品</th>\n",
       "      <th>sum</th>\n",
       "    </tr>\n",
       "  </thead>\n",
       "  <tbody>\n",
       "    <tr>\n",
       "      <th>收益</th>\n",
       "      <td>48840.0</td>\n",
       "      <td>114360.0</td>\n",
       "      <td>9785.0</td>\n",
       "      <td>-73390.0</td>\n",
       "      <td>11735.0</td>\n",
       "      <td>111330.0</td>\n",
       "    </tr>\n",
       "    <tr>\n",
       "      <th>市值</th>\n",
       "      <td>5246560.0</td>\n",
       "      <td>8451380.0</td>\n",
       "      <td>2072655.0</td>\n",
       "      <td>7953890.0</td>\n",
       "      <td>3439985.0</td>\n",
       "      <td>27164470.0</td>\n",
       "    </tr>\n",
       "    <tr>\n",
       "      <th>nav_pct</th>\n",
       "      <td>0.353%</td>\n",
       "      <td>0.827%</td>\n",
       "      <td>0.071%</td>\n",
       "      <td>-0.531%</td>\n",
       "      <td>0.085%</td>\n",
       "      <td>0.353%0.827%0.071%-0.531%0.085%</td>\n",
       "    </tr>\n",
       "    <tr>\n",
       "      <th>市值(W)</th>\n",
       "      <td>524.66</td>\n",
       "      <td>845.14</td>\n",
       "      <td>207.27</td>\n",
       "      <td>795.39</td>\n",
       "      <td>344.00</td>\n",
       "      <td>524.66845.14207.27795.39344.00</td>\n",
       "    </tr>\n",
       "  </tbody>\n",
       "</table>\n",
       "</div>"
      ],
      "text/plain": [
       "                股指         黑色         金属         能化        农产品  \\\n",
       "收益         48840.0   114360.0     9785.0   -73390.0    11735.0   \n",
       "市值       5246560.0  8451380.0  2072655.0  7953890.0  3439985.0   \n",
       "nav_pct     0.353%     0.827%     0.071%    -0.531%     0.085%   \n",
       "市值(W)       524.66     845.14     207.27     795.39     344.00   \n",
       "\n",
       "                                     sum  \n",
       "收益                              111330.0  \n",
       "市值                            27164470.0  \n",
       "nav_pct  0.353%0.827%0.071%-0.531%0.085%  \n",
       "市值(W)     524.66845.14207.27795.39344.00  "
      ]
     },
     "metadata": {},
     "output_type": "display_data"
    },
    {
     "name": "stdout",
     "output_type": "stream",
     "text": [
      "财嘉 1.0829 到 1.0896, 0.6187090220703517%\n",
      "如风 1.023 到 1.0311, 0.7917888563049758%\n"
     ]
    }
   ],
   "source": [
    "import pandas as pd\n",
    "\n",
    "\n",
    "        # x,\n",
    "        # x,\n",
    "        # x,\n",
    "        # x,\n",
    "        # x\n",
    "# cjyh cjyh cjyh cjyh cjyh cjyh cjyh cjyh cjyh cjyh cjyh cjyh cjyh cjyh \n",
    "cjyh_fw = 7802209.42\n",
    "cjih = pd.DataFrame({\n",
    "    '收益': [\n",
    "        22220.00,\n",
    "        45280.00,\n",
    "        4755.00,\n",
    "        -24200.00,\n",
    "        4290.00\n",
    "        ],\n",
    "    '市值': [\n",
    "        2623280.00,\n",
    "        3326280.00,\n",
    "        1054490.00,\n",
    "        3221270.00,\n",
    "        1323260.00\n",
    "        ]\n",
    "}, index=[\n",
    "    '股指',\n",
    "    '黑色',\n",
    "    '金属',\n",
    "    '能化',\n",
    "    '农产品'])\n",
    "cjih.loc[:, 'nav_pct'] = (cjih['收益'] / cjyh_fw).apply(lambda x: '%.3f%%' % (x * 100))\n",
    "cjih.loc[:, '市值(W)'] = cjih['市值'].apply(lambda x: '%.2f' % (x / 10_000))\n",
    "cjih = cjih.T\n",
    "cjih.loc[:, 'sum'] = cjih.sum(axis=1)\n",
    "\n",
    "# cjyh cjyh cjyh cjyh cjyh cjyh cjyh cjyh cjyh cjyh cjyh cjyh cjyh cjyh \n",
    "\n",
    "# ------------------------------------------------------------------------------------\n",
    "# ------------------------------------------------------------------------------------\n",
    "# ------------------------------------------------------------------------------------\n",
    "# ------------------------------------------------------------------------------------\n",
    "# ------------------------------------------------------------------------------------\n",
    "# ------------------------------------------------------------------------------------\n",
    "# ------------------------------------------------------------------------------------\n",
    "# ------------------------------------------------------------------------------------\n",
    "# ------------------------------------------------------------------------------------\n",
    "# ------------------------------------------------------------------------------------\n",
    "# ------------------------------------------------------------------------------------\n",
    "# ------------------------------------------------------------------------------------\n",
    "\n",
    "        # x + x,\n",
    "        # x + x,\n",
    "        # x + x,\n",
    "        # x + x,\n",
    "        # x + x\n",
    "# rufeng rufeng rufeng rufeng rufeng rufeng rufeng rufeng rufeng rufeng\n",
    "rufeng_fw = 13824024.61 \n",
    "rufeng = pd.DataFrame({\n",
    "    '收益': [\n",
    "        48840.00,\n",
    "        114360.00,\n",
    "        9785.00,\n",
    "        -73390.00,\n",
    "        11735.00\n",
    "        ],\n",
    "    '市值': [\n",
    "        5246560.00,\n",
    "        8451380.00,\n",
    "        2072655.00,\n",
    "        7953890.00,\n",
    "        3439985.00\n",
    "        ]\n",
    "}, index=[\n",
    "    '股指',\n",
    "    '黑色',\n",
    "    '金属',\n",
    "    '能化',\n",
    "    '农产品'])\n",
    "rufeng.loc[:, 'nav_pct'] = (rufeng['收益'] / rufeng_fw).apply(lambda x: '%.3f%%' % (x * 100))\n",
    "rufeng.loc[:, '市值(W)'] = rufeng['市值'].apply(lambda x: '%.2f' % (x / 10_000))\n",
    "rufeng = rufeng.T\n",
    "rufeng.loc[:, 'sum'] = rufeng.sum(axis=1)\n",
    "\n",
    "display(cjih)\n",
    "display(rufeng)\n",
    "\n",
    "cj1 = 1.0829\n",
    "cj2 = 1.0896\n",
    "print('财嘉 {} 到 {}, {}%'.format(cj1, cj2, (cj2/cj1 - 1) * 100))\n",
    "rf1 = 1.023\n",
    "rf2 = 1.0311\n",
    "print('如风 {} 到 {}, {}%'.format(rf1, rf2, (rf2/rf1 - 1) * 100))"
   ]
  },
  {
   "cell_type": "code",
   "execution_count": 2,
   "metadata": {},
   "outputs": [
    {
     "data": {
      "text/plain": [
       "0.005191478185162582"
      ]
     },
     "execution_count": 2,
     "metadata": {},
     "output_type": "execute_result"
    }
   ],
   "source": [
    "40505.00 / cjyh_fw"
   ]
  },
  {
   "cell_type": "code",
   "execution_count": 29,
   "metadata": {},
   "outputs": [
    {
     "data": {
      "text/plain": [
       "-18735.0"
      ]
     },
     "execution_count": 29,
     "metadata": {},
     "output_type": "execute_result"
    }
   ],
   "source": [
    "sum([0.0,\t-10450.0,\t-7100.0,\t-5180.0,\t3995.0])"
   ]
  },
  {
   "cell_type": "code",
   "execution_count": 31,
   "metadata": {},
   "outputs": [
    {
     "data": {
      "text/plain": [
       "-24405.0"
      ]
     },
     "execution_count": 31,
     "metadata": {},
     "output_type": "execute_result"
    }
   ],
   "source": [
    "sum([0.0,\t-22710.0,\t-12070.0,\t-430.0,\t10805.0\t])"
   ]
  }
 ],
 "metadata": {
  "kernelspec": {
   "display_name": "Python 3.8.13 ('trading')",
   "language": "python",
   "name": "python3"
  },
  "language_info": {
   "codemirror_mode": {
    "name": "ipython",
    "version": 3
   },
   "file_extension": ".py",
   "mimetype": "text/x-python",
   "name": "python",
   "nbconvert_exporter": "python",
   "pygments_lexer": "ipython3",
   "version": "3.8.13"
  },
  "orig_nbformat": 4,
  "vscode": {
   "interpreter": {
    "hash": "ddc6e6a209a50492a3782c8b6e74c37658c20e4288aca4350cd3d951c0e99d6b"
   }
  }
 },
 "nbformat": 4,
 "nbformat_minor": 2
}
