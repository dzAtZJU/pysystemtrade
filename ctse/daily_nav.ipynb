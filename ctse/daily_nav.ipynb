{
 "cells": [
  {
   "cell_type": "code",
   "execution_count": 6,
   "metadata": {},
   "outputs": [
    {
     "data": {
      "text/html": [
       "<div>\n",
       "<style scoped>\n",
       "    .dataframe tbody tr th:only-of-type {\n",
       "        vertical-align: middle;\n",
       "    }\n",
       "\n",
       "    .dataframe tbody tr th {\n",
       "        vertical-align: top;\n",
       "    }\n",
       "\n",
       "    .dataframe thead th {\n",
       "        text-align: right;\n",
       "    }\n",
       "</style>\n",
       "<table border=\"1\" class=\"dataframe\">\n",
       "  <thead>\n",
       "    <tr style=\"text-align: right;\">\n",
       "      <th></th>\n",
       "      <th>股指</th>\n",
       "      <th>黑色</th>\n",
       "      <th>金属</th>\n",
       "      <th>能化</th>\n",
       "      <th>农产品</th>\n",
       "      <th>sum</th>\n",
       "    </tr>\n",
       "  </thead>\n",
       "  <tbody>\n",
       "    <tr>\n",
       "      <th>收益</th>\n",
       "      <td>7060.0</td>\n",
       "      <td>-66230.0</td>\n",
       "      <td>-17840.0</td>\n",
       "      <td>-6460.0</td>\n",
       "      <td>6230.0</td>\n",
       "      <td>-77240.0</td>\n",
       "    </tr>\n",
       "    <tr>\n",
       "      <th>市值</th>\n",
       "      <td>1386680.0</td>\n",
       "      <td>487560.0</td>\n",
       "      <td>912155.0</td>\n",
       "      <td>587305.0</td>\n",
       "      <td>205560.0</td>\n",
       "      <td>3579260.0</td>\n",
       "    </tr>\n",
       "    <tr>\n",
       "      <th>nav_pct</th>\n",
       "      <td>0.090%</td>\n",
       "      <td>-0.849%</td>\n",
       "      <td>-0.229%</td>\n",
       "      <td>-0.083%</td>\n",
       "      <td>0.080%</td>\n",
       "      <td>0.090%-0.849%-0.229%-0.083%0.080%</td>\n",
       "    </tr>\n",
       "    <tr>\n",
       "      <th>市值(W)</th>\n",
       "      <td>138.67</td>\n",
       "      <td>48.76</td>\n",
       "      <td>91.22</td>\n",
       "      <td>58.73</td>\n",
       "      <td>20.56</td>\n",
       "      <td>138.6748.7691.2258.7320.56</td>\n",
       "    </tr>\n",
       "  </tbody>\n",
       "</table>\n",
       "</div>"
      ],
      "text/plain": [
       "                股指        黑色        金属        能化       农产品  \\\n",
       "收益          7060.0  -66230.0  -17840.0   -6460.0    6230.0   \n",
       "市值       1386680.0  487560.0  912155.0  587305.0  205560.0   \n",
       "nav_pct     0.090%   -0.849%   -0.229%   -0.083%    0.080%   \n",
       "市值(W)       138.67     48.76     91.22     58.73     20.56   \n",
       "\n",
       "                                       sum  \n",
       "收益                                -77240.0  \n",
       "市值                               3579260.0  \n",
       "nav_pct  0.090%-0.849%-0.229%-0.083%0.080%  \n",
       "市值(W)           138.6748.7691.2258.7320.56  "
      ]
     },
     "metadata": {},
     "output_type": "display_data"
    },
    {
     "data": {
      "text/html": [
       "<div>\n",
       "<style scoped>\n",
       "    .dataframe tbody tr th:only-of-type {\n",
       "        vertical-align: middle;\n",
       "    }\n",
       "\n",
       "    .dataframe tbody tr th {\n",
       "        vertical-align: top;\n",
       "    }\n",
       "\n",
       "    .dataframe thead th {\n",
       "        text-align: right;\n",
       "    }\n",
       "</style>\n",
       "<table border=\"1\" class=\"dataframe\">\n",
       "  <thead>\n",
       "    <tr style=\"text-align: right;\">\n",
       "      <th></th>\n",
       "      <th>股指</th>\n",
       "      <th>黑色</th>\n",
       "      <th>金属</th>\n",
       "      <th>能化</th>\n",
       "      <th>农产品</th>\n",
       "      <th>sum</th>\n",
       "    </tr>\n",
       "  </thead>\n",
       "  <tbody>\n",
       "    <tr>\n",
       "      <th>收益</th>\n",
       "      <td>13060.0</td>\n",
       "      <td>-165200.0</td>\n",
       "      <td>-36015.0</td>\n",
       "      <td>-26830.0</td>\n",
       "      <td>16450.0</td>\n",
       "      <td>-198535.0</td>\n",
       "    </tr>\n",
       "    <tr>\n",
       "      <th>市值</th>\n",
       "      <td>2773360.0</td>\n",
       "      <td>987170.0</td>\n",
       "      <td>1632695.0</td>\n",
       "      <td>1617480.0</td>\n",
       "      <td>222250.0</td>\n",
       "      <td>7232955.0</td>\n",
       "    </tr>\n",
       "    <tr>\n",
       "      <th>nav_pct</th>\n",
       "      <td>0.094%</td>\n",
       "      <td>-1.195%</td>\n",
       "      <td>-0.261%</td>\n",
       "      <td>-0.194%</td>\n",
       "      <td>0.119%</td>\n",
       "      <td>0.094%-1.195%-0.261%-0.194%0.119%</td>\n",
       "    </tr>\n",
       "    <tr>\n",
       "      <th>市值(W)</th>\n",
       "      <td>277.34</td>\n",
       "      <td>98.72</td>\n",
       "      <td>163.27</td>\n",
       "      <td>161.75</td>\n",
       "      <td>22.23</td>\n",
       "      <td>277.3498.72163.27161.7522.23</td>\n",
       "    </tr>\n",
       "  </tbody>\n",
       "</table>\n",
       "</div>"
      ],
      "text/plain": [
       "                股指        黑色         金属         能化       农产品  \\\n",
       "收益         13060.0 -165200.0   -36015.0   -26830.0   16450.0   \n",
       "市值       2773360.0  987170.0  1632695.0  1617480.0  222250.0   \n",
       "nav_pct     0.094%   -1.195%    -0.261%    -0.194%    0.119%   \n",
       "市值(W)       277.34     98.72     163.27     161.75     22.23   \n",
       "\n",
       "                                       sum  \n",
       "收益                               -198535.0  \n",
       "市值                               7232955.0  \n",
       "nav_pct  0.094%-1.195%-0.261%-0.194%0.119%  \n",
       "市值(W)         277.3498.72163.27161.7522.23  "
      ]
     },
     "metadata": {},
     "output_type": "display_data"
    },
    {
     "name": "stdout",
     "output_type": "stream",
     "text": [
      "财嘉 1.0781 到 1.0682, -0.9182821630646543%\n",
      "如风 1.0113 到 0.9969, -1.4239098190447996%\n"
     ]
    }
   ],
   "source": [
    "import pandas as pd\n",
    "\n",
    "\n",
    "        # x,\n",
    "        # x,\n",
    "        # x,\n",
    "        # x,\n",
    "        # x\n",
    "# cjyh cjyh cjyh cjyh cjyh cjyh cjyh cjyh cjyh cjyh cjyh cjyh cjyh cjyh \n",
    "cjyh_fw = 7802209.42\n",
    "cjih = pd.DataFrame({\n",
    "    '收益': [\n",
    "        7060.00,\n",
    "        -66230.00,\n",
    "        -17840.00,\n",
    "        -6460.00,\n",
    "        6230.00\n",
    "        ],\n",
    "    '市值': [\n",
    "        1386680.00,\n",
    "        487560.00,\n",
    "        912155.00,\n",
    "        587305.00,\n",
    "        205560.00\n",
    "        ]\n",
    "}, index=[\n",
    "    '股指',\n",
    "    '黑色',\n",
    "    '金属',\n",
    "    '能化',\n",
    "    '农产品'])\n",
    "cjih.loc[:, 'nav_pct'] = (cjih['收益'] / cjyh_fw).apply(lambda x: '%.3f%%' % (x * 100))\n",
    "cjih.loc[:, '市值(W)'] = cjih['市值'].apply(lambda x: '%.2f' % (x / 10_000))\n",
    "cjih = cjih.T\n",
    "cjih.loc[:, 'sum'] = cjih.sum(axis=1)\n",
    "\n",
    "# cjyh cjyh cjyh cjyh cjyh cjyh cjyh cjyh cjyh cjyh cjyh cjyh cjyh cjyh \n",
    "\n",
    "# ------------------------------------------------------------------------------------\n",
    "# ------------------------------------------------------------------------------------\n",
    "# ------------------------------------------------------------------------------------\n",
    "# ------------------------------------------------------------------------------------\n",
    "# ------------------------------------------------------------------------------------\n",
    "# ------------------------------------------------------------------------------------\n",
    "# ------------------------------------------------------------------------------------\n",
    "# ------------------------------------------------------------------------------------\n",
    "# ------------------------------------------------------------------------------------\n",
    "# ------------------------------------------------------------------------------------\n",
    "# ------------------------------------------------------------------------------------\n",
    "# ------------------------------------------------------------------------------------\n",
    "\n",
    "        # x + x,\n",
    "        # x + x,\n",
    "        # x + x,\n",
    "        # x + x,\n",
    "        # x + x\n",
    "# rufeng rufeng rufeng rufeng rufeng rufeng rufeng rufeng rufeng rufeng\n",
    "rufeng_fw = 13824024.61 \n",
    "rufeng = pd.DataFrame({\n",
    "    '收益': [\n",
    "        13060.00,\n",
    "        -165200.00,\n",
    "        -36015.00,\n",
    "        -26830.00,\n",
    "        16450.00\n",
    "        ],\n",
    "    '市值': [\n",
    "        2773360.00,\n",
    "        987170.00,\n",
    "        1632695.00,\n",
    "        1617480.00,\n",
    "        222250.00\n",
    "        ]\n",
    "}, index=[\n",
    "    '股指',\n",
    "    '黑色',\n",
    "    '金属',\n",
    "    '能化',\n",
    "    '农产品'])\n",
    "rufeng.loc[:, 'nav_pct'] = (rufeng['收益'] / rufeng_fw).apply(lambda x: '%.3f%%' % (x * 100))\n",
    "rufeng.loc[:, '市值(W)'] = rufeng['市值'].apply(lambda x: '%.2f' % (x / 10_000))\n",
    "rufeng = rufeng.T\n",
    "rufeng.loc[:, 'sum'] = rufeng.sum(axis=1)\n",
    "\n",
    "display(cjih)\n",
    "display(rufeng)\n",
    "\n",
    "cj1 = 1.0781\n",
    "cj2 = 1.0682\n",
    "print('财嘉 {} 到 {}, {}%'.format(cj1, cj2, (cj2/cj1 - 1) * 100))\n",
    "rf1 = 1.0113\n",
    "rf2 = 0.9969\n",
    "print('如风 {} 到 {}, {}%'.format(rf1, rf2, (rf2/rf1 - 1) * 100))"
   ]
  },
  {
   "cell_type": "code",
   "execution_count": 2,
   "metadata": {},
   "outputs": [
    {
     "data": {
      "text/plain": [
       "0.005191478185162582"
      ]
     },
     "execution_count": 2,
     "metadata": {},
     "output_type": "execute_result"
    }
   ],
   "source": [
    "40505.00 / cjyh_fw"
   ]
  },
  {
   "cell_type": "code",
   "execution_count": 29,
   "metadata": {},
   "outputs": [
    {
     "data": {
      "text/plain": [
       "-18735.0"
      ]
     },
     "execution_count": 29,
     "metadata": {},
     "output_type": "execute_result"
    }
   ],
   "source": [
    "sum([0.0,\t-10450.0,\t-7100.0,\t-5180.0,\t3995.0])"
   ]
  },
  {
   "cell_type": "code",
   "execution_count": 31,
   "metadata": {},
   "outputs": [
    {
     "data": {
      "text/plain": [
       "-24405.0"
      ]
     },
     "execution_count": 31,
     "metadata": {},
     "output_type": "execute_result"
    }
   ],
   "source": [
    "sum([0.0,\t-22710.0,\t-12070.0,\t-430.0,\t10805.0\t])"
   ]
  }
 ],
 "metadata": {
  "kernelspec": {
   "display_name": "Python 3.8.13 ('trading')",
   "language": "python",
   "name": "python3"
  },
  "language_info": {
   "codemirror_mode": {
    "name": "ipython",
    "version": 3
   },
   "file_extension": ".py",
   "mimetype": "text/x-python",
   "name": "python",
   "nbconvert_exporter": "python",
   "pygments_lexer": "ipython3",
   "version": "3.8.13"
  },
  "orig_nbformat": 4,
  "vscode": {
   "interpreter": {
    "hash": "ddc6e6a209a50492a3782c8b6e74c37658c20e4288aca4350cd3d951c0e99d6b"
   }
  }
 },
 "nbformat": 4,
 "nbformat_minor": 2
}
