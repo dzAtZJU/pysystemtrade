{
 "cells": [
  {
   "cell_type": "code",
   "execution_count": 10,
   "metadata": {},
   "outputs": [
    {
     "data": {
      "text/html": [
       "<div>\n",
       "<style scoped>\n",
       "    .dataframe tbody tr th:only-of-type {\n",
       "        vertical-align: middle;\n",
       "    }\n",
       "\n",
       "    .dataframe tbody tr th {\n",
       "        vertical-align: top;\n",
       "    }\n",
       "\n",
       "    .dataframe thead th {\n",
       "        text-align: right;\n",
       "    }\n",
       "</style>\n",
       "<table border=\"1\" class=\"dataframe\">\n",
       "  <thead>\n",
       "    <tr style=\"text-align: right;\">\n",
       "      <th></th>\n",
       "      <th>股指</th>\n",
       "      <th>黑色</th>\n",
       "      <th>金属</th>\n",
       "      <th>能化</th>\n",
       "      <th>农产品</th>\n",
       "      <th>sum</th>\n",
       "    </tr>\n",
       "  </thead>\n",
       "  <tbody>\n",
       "    <tr>\n",
       "      <th>收益</th>\n",
       "      <td>-18320.0</td>\n",
       "      <td>-27640.0</td>\n",
       "      <td>-4010.0</td>\n",
       "      <td>-11400.0</td>\n",
       "      <td>2180.0</td>\n",
       "      <td>-59190.0</td>\n",
       "    </tr>\n",
       "    <tr>\n",
       "      <th>市值</th>\n",
       "      <td>1376600.0</td>\n",
       "      <td>1271220.0</td>\n",
       "      <td>395740.0</td>\n",
       "      <td>38210.0</td>\n",
       "      <td>1082760.0</td>\n",
       "      <td>4164530.0</td>\n",
       "    </tr>\n",
       "    <tr>\n",
       "      <th>nav_pct</th>\n",
       "      <td>-0.235%</td>\n",
       "      <td>-0.354%</td>\n",
       "      <td>-0.051%</td>\n",
       "      <td>-0.146%</td>\n",
       "      <td>0.028%</td>\n",
       "      <td>-0.235%-0.354%-0.051%-0.146%0.028%</td>\n",
       "    </tr>\n",
       "    <tr>\n",
       "      <th>市值(W)</th>\n",
       "      <td>137.66</td>\n",
       "      <td>127.12</td>\n",
       "      <td>39.57</td>\n",
       "      <td>3.82</td>\n",
       "      <td>108.28</td>\n",
       "      <td>137.66127.1239.573.82108.28</td>\n",
       "    </tr>\n",
       "  </tbody>\n",
       "</table>\n",
       "</div>"
      ],
      "text/plain": [
       "                股指         黑色        金属       能化        农产品  \\\n",
       "收益        -18320.0   -27640.0   -4010.0 -11400.0     2180.0   \n",
       "市值       1376600.0  1271220.0  395740.0  38210.0  1082760.0   \n",
       "nav_pct    -0.235%    -0.354%   -0.051%  -0.146%     0.028%   \n",
       "市值(W)       137.66     127.12     39.57     3.82     108.28   \n",
       "\n",
       "                                        sum  \n",
       "收益                                 -59190.0  \n",
       "市值                                4164530.0  \n",
       "nav_pct  -0.235%-0.354%-0.051%-0.146%0.028%  \n",
       "市值(W)           137.66127.1239.573.82108.28  "
      ]
     },
     "metadata": {},
     "output_type": "display_data"
    },
    {
     "data": {
      "text/html": [
       "<div>\n",
       "<style scoped>\n",
       "    .dataframe tbody tr th:only-of-type {\n",
       "        vertical-align: middle;\n",
       "    }\n",
       "\n",
       "    .dataframe tbody tr th {\n",
       "        vertical-align: top;\n",
       "    }\n",
       "\n",
       "    .dataframe thead th {\n",
       "        text-align: right;\n",
       "    }\n",
       "</style>\n",
       "<table border=\"1\" class=\"dataframe\">\n",
       "  <thead>\n",
       "    <tr style=\"text-align: right;\">\n",
       "      <th></th>\n",
       "      <th>股指</th>\n",
       "      <th>黑色</th>\n",
       "      <th>金属</th>\n",
       "      <th>能化</th>\n",
       "      <th>农产品</th>\n",
       "      <th>sum</th>\n",
       "    </tr>\n",
       "  </thead>\n",
       "  <tbody>\n",
       "    <tr>\n",
       "      <th>收益</th>\n",
       "      <td>-42800.0</td>\n",
       "      <td>-68810.0</td>\n",
       "      <td>-10190.0</td>\n",
       "      <td>-32860.0</td>\n",
       "      <td>7240.0</td>\n",
       "      <td>-147420.0</td>\n",
       "    </tr>\n",
       "    <tr>\n",
       "      <th>市值</th>\n",
       "      <td>2753200.0</td>\n",
       "      <td>3013260.0</td>\n",
       "      <td>756380.0</td>\n",
       "      <td>381720.0</td>\n",
       "      <td>2996640.0</td>\n",
       "      <td>9901200.0</td>\n",
       "    </tr>\n",
       "    <tr>\n",
       "      <th>nav_pct</th>\n",
       "      <td>-0.310%</td>\n",
       "      <td>-0.498%</td>\n",
       "      <td>-0.074%</td>\n",
       "      <td>-0.238%</td>\n",
       "      <td>0.052%</td>\n",
       "      <td>-0.310%-0.498%-0.074%-0.238%0.052%</td>\n",
       "    </tr>\n",
       "    <tr>\n",
       "      <th>市值(W)</th>\n",
       "      <td>275.32</td>\n",
       "      <td>301.33</td>\n",
       "      <td>75.64</td>\n",
       "      <td>38.17</td>\n",
       "      <td>299.66</td>\n",
       "      <td>275.32301.3375.6438.17299.66</td>\n",
       "    </tr>\n",
       "  </tbody>\n",
       "</table>\n",
       "</div>"
      ],
      "text/plain": [
       "                股指         黑色        金属        能化        农产品  \\\n",
       "收益        -42800.0   -68810.0  -10190.0  -32860.0     7240.0   \n",
       "市值       2753200.0  3013260.0  756380.0  381720.0  2996640.0   \n",
       "nav_pct    -0.310%    -0.498%   -0.074%   -0.238%     0.052%   \n",
       "市值(W)       275.32     301.33     75.64     38.17     299.66   \n",
       "\n",
       "                                        sum  \n",
       "收益                                -147420.0  \n",
       "市值                                9901200.0  \n",
       "nav_pct  -0.310%-0.498%-0.074%-0.238%0.052%  \n",
       "市值(W)          275.32301.3375.6438.17299.66  "
      ]
     },
     "metadata": {},
     "output_type": "display_data"
    },
    {
     "name": "stdout",
     "output_type": "stream",
     "text": [
      "财嘉 1.067 到 1.0594, -0.7122774133083487%\n",
      "如风 0.996 到 0.9853, -1.0742971887550246%\n"
     ]
    }
   ],
   "source": [
    "import pandas as pd\n",
    "\n",
    "\n",
    "        # x,\n",
    "        # x,\n",
    "        # x,\n",
    "        # x,\n",
    "        # x\n",
    "# cjyh cjyh cjyh cjyh cjyh cjyh cjyh cjyh cjyh cjyh cjyh cjyh cjyh cjyh \n",
    "cjyh_fw = 7802209.42\n",
    "cjih = pd.DataFrame({\n",
    "    '收益': [\n",
    "        -18320.00,\n",
    "        -27640.00,\n",
    "        -4010.00,\n",
    "        -11400.00,\n",
    "        2180.00\n",
    "        ],\n",
    "    '市值': [\n",
    "        1376600.00,\n",
    "        1271220.00,\n",
    "        395740.00,\n",
    "        38210.00,\n",
    "        1082760.00\n",
    "        ]\n",
    "}, index=[\n",
    "    '股指',\n",
    "    '黑色',\n",
    "    '金属',\n",
    "    '能化',\n",
    "    '农产品'])\n",
    "cjih.loc[:, 'nav_pct'] = (cjih['收益'] / cjyh_fw).apply(lambda x: '%.3f%%' % (x * 100))\n",
    "cjih.loc[:, '市值(W)'] = cjih['市值'].apply(lambda x: '%.2f' % (x / 10_000))\n",
    "cjih = cjih.T\n",
    "cjih.loc[:, 'sum'] = cjih.sum(axis=1)\n",
    "\n",
    "# cjyh cjyh cjyh cjyh cjyh cjyh cjyh cjyh cjyh cjyh cjyh cjyh cjyh cjyh \n",
    "\n",
    "# ------------------------------------------------------------------------------------\n",
    "# ------------------------------------------------------------------------------------\n",
    "# ------------------------------------------------------------------------------------\n",
    "# ------------------------------------------------------------------------------------\n",
    "# ------------------------------------------------------------------------------------\n",
    "# ------------------------------------------------------------------------------------\n",
    "# ------------------------------------------------------------------------------------\n",
    "# ------------------------------------------------------------------------------------\n",
    "# ------------------------------------------------------------------------------------\n",
    "# ------------------------------------------------------------------------------------\n",
    "# ------------------------------------------------------------------------------------\n",
    "# ------------------------------------------------------------------------------------\n",
    "\n",
    "        # x + x,\n",
    "        # x + x,\n",
    "        # x + x,\n",
    "        # x + x,\n",
    "        # x + x\n",
    "# rufeng rufeng rufeng rufeng rufeng rufeng rufeng rufeng rufeng rufeng\n",
    "rufeng_fw = 13824024.61 \n",
    "rufeng = pd.DataFrame({\n",
    "    '收益': [\n",
    "        -42800.00,\n",
    "        -68810.00,\n",
    "        -10190.00,\n",
    "        -32860.00,\n",
    "        7240.00\n",
    "        ],\n",
    "    '市值': [\n",
    "        2753200.00,\n",
    "        3013260.00,\n",
    "        756380.00,\n",
    "        381720.00,\n",
    "        2996640.00\n",
    "        ]\n",
    "}, index=[\n",
    "    '股指',\n",
    "    '黑色',\n",
    "    '金属',\n",
    "    '能化',\n",
    "    '农产品'])\n",
    "rufeng.loc[:, 'nav_pct'] = (rufeng['收益'] / rufeng_fw).apply(lambda x: '%.3f%%' % (x * 100))\n",
    "rufeng.loc[:, '市值(W)'] = rufeng['市值'].apply(lambda x: '%.2f' % (x / 10_000))\n",
    "rufeng = rufeng.T\n",
    "rufeng.loc[:, 'sum'] = rufeng.sum(axis=1)\n",
    "\n",
    "display(cjih)\n",
    "display(rufeng)\n",
    "\n",
    "cj1 = 1.067\n",
    "cj2 = 1.0594\n",
    "print('财嘉 {} 到 {}, {}%'.format(cj1, cj2, (cj2/cj1 - 1) * 100))\n",
    "rf1 = 0.9960\n",
    "rf2 = 0.9853\n",
    "print('如风 {} 到 {}, {}%'.format(rf1, rf2, (rf2/rf1 - 1) * 100))"
   ]
  },
  {
   "cell_type": "code",
   "execution_count": 2,
   "metadata": {},
   "outputs": [
    {
     "data": {
      "text/plain": [
       "0.005191478185162582"
      ]
     },
     "execution_count": 2,
     "metadata": {},
     "output_type": "execute_result"
    }
   ],
   "source": [
    "40505.00 / cjyh_fw"
   ]
  },
  {
   "cell_type": "code",
   "execution_count": 29,
   "metadata": {},
   "outputs": [
    {
     "data": {
      "text/plain": [
       "-18735.0"
      ]
     },
     "execution_count": 29,
     "metadata": {},
     "output_type": "execute_result"
    }
   ],
   "source": [
    "sum([0.0,\t-10450.0,\t-7100.0,\t-5180.0,\t3995.0])"
   ]
  },
  {
   "cell_type": "code",
   "execution_count": 31,
   "metadata": {},
   "outputs": [
    {
     "data": {
      "text/plain": [
       "-24405.0"
      ]
     },
     "execution_count": 31,
     "metadata": {},
     "output_type": "execute_result"
    }
   ],
   "source": [
    "sum([0.0,\t-22710.0,\t-12070.0,\t-430.0,\t10805.0\t])"
   ]
  }
 ],
 "metadata": {
  "kernelspec": {
   "display_name": "Python 3.8.13 ('trading')",
   "language": "python",
   "name": "python3"
  },
  "language_info": {
   "codemirror_mode": {
    "name": "ipython",
    "version": 3
   },
   "file_extension": ".py",
   "mimetype": "text/x-python",
   "name": "python",
   "nbconvert_exporter": "python",
   "pygments_lexer": "ipython3",
   "version": "3.8.13"
  },
  "orig_nbformat": 4,
  "vscode": {
   "interpreter": {
    "hash": "ddc6e6a209a50492a3782c8b6e74c37658c20e4288aca4350cd3d951c0e99d6b"
   }
  }
 },
 "nbformat": 4,
 "nbformat_minor": 2
}
