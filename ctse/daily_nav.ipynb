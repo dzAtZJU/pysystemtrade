{
 "cells": [
  {
   "cell_type": "code",
   "execution_count": 6,
   "metadata": {},
   "outputs": [
    {
     "data": {
      "text/html": [
       "<div>\n",
       "<style scoped>\n",
       "    .dataframe tbody tr th:only-of-type {\n",
       "        vertical-align: middle;\n",
       "    }\n",
       "\n",
       "    .dataframe tbody tr th {\n",
       "        vertical-align: top;\n",
       "    }\n",
       "\n",
       "    .dataframe thead th {\n",
       "        text-align: right;\n",
       "    }\n",
       "</style>\n",
       "<table border=\"1\" class=\"dataframe\">\n",
       "  <thead>\n",
       "    <tr style=\"text-align: right;\">\n",
       "      <th></th>\n",
       "      <th>股指</th>\n",
       "      <th>黑色</th>\n",
       "      <th>金属</th>\n",
       "      <th>能化</th>\n",
       "      <th>农产品</th>\n",
       "      <th>sum</th>\n",
       "    </tr>\n",
       "  </thead>\n",
       "  <tbody>\n",
       "    <tr>\n",
       "      <th>收益</th>\n",
       "      <td>35060.0</td>\n",
       "      <td>-47200.0</td>\n",
       "      <td>-11800.0</td>\n",
       "      <td>2130.0</td>\n",
       "      <td>-3060.0</td>\n",
       "      <td>-24870.0</td>\n",
       "    </tr>\n",
       "    <tr>\n",
       "      <th>市值</th>\n",
       "      <td>2565780.0</td>\n",
       "      <td>1996900.0</td>\n",
       "      <td>286085.0</td>\n",
       "      <td>1997680.0</td>\n",
       "      <td>789830.0</td>\n",
       "      <td>7636275.0</td>\n",
       "    </tr>\n",
       "    <tr>\n",
       "      <th>nav_pct</th>\n",
       "      <td>0.449%</td>\n",
       "      <td>-0.605%</td>\n",
       "      <td>-0.151%</td>\n",
       "      <td>0.027%</td>\n",
       "      <td>-0.039%</td>\n",
       "      <td>0.449%-0.605%-0.151%0.027%-0.039%</td>\n",
       "    </tr>\n",
       "    <tr>\n",
       "      <th>市值(W)</th>\n",
       "      <td>256.58</td>\n",
       "      <td>199.69</td>\n",
       "      <td>28.61</td>\n",
       "      <td>199.77</td>\n",
       "      <td>78.98</td>\n",
       "      <td>256.58199.6928.61199.7778.98</td>\n",
       "    </tr>\n",
       "  </tbody>\n",
       "</table>\n",
       "</div>"
      ],
      "text/plain": [
       "                股指         黑色        金属         能化       农产品  \\\n",
       "收益         35060.0   -47200.0  -11800.0     2130.0   -3060.0   \n",
       "市值       2565780.0  1996900.0  286085.0  1997680.0  789830.0   \n",
       "nav_pct     0.449%    -0.605%   -0.151%     0.027%   -0.039%   \n",
       "市值(W)       256.58     199.69     28.61     199.77     78.98   \n",
       "\n",
       "                                       sum  \n",
       "收益                                -24870.0  \n",
       "市值                               7636275.0  \n",
       "nav_pct  0.449%-0.605%-0.151%0.027%-0.039%  \n",
       "市值(W)         256.58199.6928.61199.7778.98  "
      ]
     },
     "metadata": {},
     "output_type": "display_data"
    },
    {
     "data": {
      "text/html": [
       "<div>\n",
       "<style scoped>\n",
       "    .dataframe tbody tr th:only-of-type {\n",
       "        vertical-align: middle;\n",
       "    }\n",
       "\n",
       "    .dataframe tbody tr th {\n",
       "        vertical-align: top;\n",
       "    }\n",
       "\n",
       "    .dataframe thead th {\n",
       "        text-align: right;\n",
       "    }\n",
       "</style>\n",
       "<table border=\"1\" class=\"dataframe\">\n",
       "  <thead>\n",
       "    <tr style=\"text-align: right;\">\n",
       "      <th></th>\n",
       "      <th>股指</th>\n",
       "      <th>黑色</th>\n",
       "      <th>金属</th>\n",
       "      <th>能化</th>\n",
       "      <th>农产品</th>\n",
       "      <th>sum</th>\n",
       "    </tr>\n",
       "  </thead>\n",
       "  <tbody>\n",
       "    <tr>\n",
       "      <th>收益</th>\n",
       "      <td>70800.0</td>\n",
       "      <td>-120840.0</td>\n",
       "      <td>-21340.0</td>\n",
       "      <td>3270.0</td>\n",
       "      <td>-6420.0</td>\n",
       "      <td>-74530.0</td>\n",
       "    </tr>\n",
       "    <tr>\n",
       "      <th>市值</th>\n",
       "      <td>5131560.0</td>\n",
       "      <td>4971690.0</td>\n",
       "      <td>323650.0</td>\n",
       "      <td>5471660.0</td>\n",
       "      <td>2117515.0</td>\n",
       "      <td>18016075.0</td>\n",
       "    </tr>\n",
       "    <tr>\n",
       "      <th>nav_pct</th>\n",
       "      <td>0.512%</td>\n",
       "      <td>-0.874%</td>\n",
       "      <td>-0.154%</td>\n",
       "      <td>0.024%</td>\n",
       "      <td>-0.046%</td>\n",
       "      <td>0.512%-0.874%-0.154%0.024%-0.046%</td>\n",
       "    </tr>\n",
       "    <tr>\n",
       "      <th>市值(W)</th>\n",
       "      <td>513.16</td>\n",
       "      <td>497.17</td>\n",
       "      <td>32.37</td>\n",
       "      <td>547.17</td>\n",
       "      <td>211.75</td>\n",
       "      <td>513.16497.1732.37547.17211.75</td>\n",
       "    </tr>\n",
       "  </tbody>\n",
       "</table>\n",
       "</div>"
      ],
      "text/plain": [
       "                股指         黑色        金属         能化        农产品  \\\n",
       "收益         70800.0  -120840.0  -21340.0     3270.0    -6420.0   \n",
       "市值       5131560.0  4971690.0  323650.0  5471660.0  2117515.0   \n",
       "nav_pct     0.512%    -0.874%   -0.154%     0.024%    -0.046%   \n",
       "市值(W)       513.16     497.17     32.37     547.17     211.75   \n",
       "\n",
       "                                       sum  \n",
       "收益                                -74530.0  \n",
       "市值                              18016075.0  \n",
       "nav_pct  0.512%-0.874%-0.154%0.024%-0.046%  \n",
       "市值(W)        513.16497.1732.37547.17211.75  "
      ]
     },
     "metadata": {},
     "output_type": "display_data"
    },
    {
     "name": "stdout",
     "output_type": "stream",
     "text": [
      "财嘉 1.0713 到 1.0681, -0.2987025109679742%\n",
      "如风 1.0056 到 1.0002, -0.5369928400954738%\n"
     ]
    }
   ],
   "source": [
    "import pandas as pd\n",
    "\n",
    "\n",
    "        # x,\n",
    "        # x,\n",
    "        # x,\n",
    "        # x,\n",
    "        # x\n",
    "# cjyh cjyh cjyh cjyh cjyh cjyh cjyh cjyh cjyh cjyh cjyh cjyh cjyh cjyh \n",
    "cjyh_fw = 7802209.42\n",
    "cjih = pd.DataFrame({\n",
    "    '收益': [\n",
    "        35060.00,\n",
    "        -47200.00,\n",
    "        -11800.00,\n",
    "        2130.00,\n",
    "        -3060.00\n",
    "        ],\n",
    "    '市值': [\n",
    "        2565780.00,\n",
    "        1996900.00,\n",
    "        286085.00,\n",
    "        1997680.00,\n",
    "        789830.00\n",
    "        ]\n",
    "}, index=[\n",
    "    '股指',\n",
    "    '黑色',\n",
    "    '金属',\n",
    "    '能化',\n",
    "    '农产品'])\n",
    "cjih.loc[:, 'nav_pct'] = (cjih['收益'] / cjyh_fw).apply(lambda x: '%.3f%%' % (x * 100))\n",
    "cjih.loc[:, '市值(W)'] = cjih['市值'].apply(lambda x: '%.2f' % (x / 10_000))\n",
    "cjih = cjih.T\n",
    "cjih.loc[:, 'sum'] = cjih.sum(axis=1)\n",
    "\n",
    "# cjyh cjyh cjyh cjyh cjyh cjyh cjyh cjyh cjyh cjyh cjyh cjyh cjyh cjyh \n",
    "\n",
    "# ------------------------------------------------------------------------------------\n",
    "# ------------------------------------------------------------------------------------\n",
    "# ------------------------------------------------------------------------------------\n",
    "# ------------------------------------------------------------------------------------\n",
    "# ------------------------------------------------------------------------------------\n",
    "# ------------------------------------------------------------------------------------\n",
    "# ------------------------------------------------------------------------------------\n",
    "# ------------------------------------------------------------------------------------\n",
    "# ------------------------------------------------------------------------------------\n",
    "# ------------------------------------------------------------------------------------\n",
    "# ------------------------------------------------------------------------------------\n",
    "# ------------------------------------------------------------------------------------\n",
    "\n",
    "        # x + x,\n",
    "        # x + x,\n",
    "        # x + x,\n",
    "        # x + x,\n",
    "        # x + x\n",
    "# rufeng rufeng rufeng rufeng rufeng rufeng rufeng rufeng rufeng rufeng\n",
    "rufeng_fw = 13824024.61 \n",
    "rufeng = pd.DataFrame({\n",
    "    '收益': [\n",
    "        70800.00,\n",
    "        -120840.00,\n",
    "        -21340.00,\n",
    "        3270.00,\n",
    "        -6420.00\n",
    "        ],\n",
    "    '市值': [\n",
    "        5131560.00,\n",
    "        4971690.00,\n",
    "        323650.00,\n",
    "        5471660.00,\n",
    "        2117515.00\n",
    "        ]\n",
    "}, index=[\n",
    "    '股指',\n",
    "    '黑色',\n",
    "    '金属',\n",
    "    '能化',\n",
    "    '农产品'])\n",
    "rufeng.loc[:, 'nav_pct'] = (rufeng['收益'] / rufeng_fw).apply(lambda x: '%.3f%%' % (x * 100))\n",
    "rufeng.loc[:, '市值(W)'] = rufeng['市值'].apply(lambda x: '%.2f' % (x / 10_000))\n",
    "rufeng = rufeng.T\n",
    "rufeng.loc[:, 'sum'] = rufeng.sum(axis=1)\n",
    "\n",
    "display(cjih)\n",
    "display(rufeng)\n",
    "\n",
    "cj1 = 1.0713\n",
    "cj2 = 1.0681\n",
    "print('财嘉 {} 到 {}, {}%'.format(cj1, cj2, (cj2/cj1 - 1) * 100))\n",
    "rf1 = 1.0056\n",
    "rf2 = 1.0002\n",
    "print('如风 {} 到 {}, {}%'.format(rf1, rf2, (rf2/rf1 - 1) * 100))"
   ]
  },
  {
   "cell_type": "code",
   "execution_count": 2,
   "metadata": {},
   "outputs": [
    {
     "data": {
      "text/plain": [
       "0.005191478185162582"
      ]
     },
     "execution_count": 2,
     "metadata": {},
     "output_type": "execute_result"
    }
   ],
   "source": [
    "40505.00 / cjyh_fw"
   ]
  },
  {
   "cell_type": "code",
   "execution_count": 29,
   "metadata": {},
   "outputs": [
    {
     "data": {
      "text/plain": [
       "-18735.0"
      ]
     },
     "execution_count": 29,
     "metadata": {},
     "output_type": "execute_result"
    }
   ],
   "source": [
    "sum([0.0,\t-10450.0,\t-7100.0,\t-5180.0,\t3995.0])"
   ]
  },
  {
   "cell_type": "code",
   "execution_count": 31,
   "metadata": {},
   "outputs": [
    {
     "data": {
      "text/plain": [
       "-24405.0"
      ]
     },
     "execution_count": 31,
     "metadata": {},
     "output_type": "execute_result"
    }
   ],
   "source": [
    "sum([0.0,\t-22710.0,\t-12070.0,\t-430.0,\t10805.0\t])"
   ]
  }
 ],
 "metadata": {
  "kernelspec": {
   "display_name": "Python 3.8.13 ('trading')",
   "language": "python",
   "name": "python3"
  },
  "language_info": {
   "codemirror_mode": {
    "name": "ipython",
    "version": 3
   },
   "file_extension": ".py",
   "mimetype": "text/x-python",
   "name": "python",
   "nbconvert_exporter": "python",
   "pygments_lexer": "ipython3",
   "version": "3.8.13"
  },
  "orig_nbformat": 4,
  "vscode": {
   "interpreter": {
    "hash": "ddc6e6a209a50492a3782c8b6e74c37658c20e4288aca4350cd3d951c0e99d6b"
   }
  }
 },
 "nbformat": 4,
 "nbformat_minor": 2
}
