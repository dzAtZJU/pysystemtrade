{
 "cells": [
  {
   "cell_type": "code",
   "execution_count": 14,
   "metadata": {},
   "outputs": [
    {
     "data": {
      "text/html": [
       "<div>\n",
       "<style scoped>\n",
       "    .dataframe tbody tr th:only-of-type {\n",
       "        vertical-align: middle;\n",
       "    }\n",
       "\n",
       "    .dataframe tbody tr th {\n",
       "        vertical-align: top;\n",
       "    }\n",
       "\n",
       "    .dataframe thead th {\n",
       "        text-align: right;\n",
       "    }\n",
       "</style>\n",
       "<table border=\"1\" class=\"dataframe\">\n",
       "  <thead>\n",
       "    <tr style=\"text-align: right;\">\n",
       "      <th></th>\n",
       "      <th>收益</th>\n",
       "      <th>市值</th>\n",
       "      <th>nav_pct</th>\n",
       "    </tr>\n",
       "  </thead>\n",
       "  <tbody>\n",
       "    <tr>\n",
       "      <th>黑色</th>\n",
       "      <td>-9610.0</td>\n",
       "      <td>3262320.0</td>\n",
       "      <td>-0.123%</td>\n",
       "    </tr>\n",
       "    <tr>\n",
       "      <th>能化</th>\n",
       "      <td>23570.0</td>\n",
       "      <td>640060.0</td>\n",
       "      <td>0.302%</td>\n",
       "    </tr>\n",
       "    <tr>\n",
       "      <th>股指</th>\n",
       "      <td>5880.0</td>\n",
       "      <td>0.0</td>\n",
       "      <td>0.075%</td>\n",
       "    </tr>\n",
       "    <tr>\n",
       "      <th>金属</th>\n",
       "      <td>-2700.0</td>\n",
       "      <td>871700.0</td>\n",
       "      <td>-0.035%</td>\n",
       "    </tr>\n",
       "    <tr>\n",
       "      <th>农产品</th>\n",
       "      <td>1845.0</td>\n",
       "      <td>971880.0</td>\n",
       "      <td>0.024%</td>\n",
       "    </tr>\n",
       "  </tbody>\n",
       "</table>\n",
       "</div>"
      ],
      "text/plain": [
       "          收益         市值  nav_pct\n",
       "黑色   -9610.0  3262320.0  -0.123%\n",
       "能化   23570.0   640060.0   0.302%\n",
       "股指    5880.0        0.0   0.075%\n",
       "金属   -2700.0   871700.0  -0.035%\n",
       "农产品   1845.0   971880.0   0.024%"
      ]
     },
     "metadata": {},
     "output_type": "display_data"
    }
   ],
   "source": [
    "import pandas as pd\n",
    "\n",
    "# cjyh \n",
    "cjyh_fw = 7802209.42\n",
    "cjih = pd.DataFrame({\n",
    "    '收益': [-9610.00, 23570.00, 5880.00, -2700.00, 1845.00],\n",
    "    '市值': [3262320.00, 640060.00, 0.00, 871700.00, 971880.00]\n",
    "}, index=['黑色', '能化', '股指', '金属', '农产品'])\n",
    "cjih.loc[:, 'nav_pct'] = (cjih['收益'] / cjyh_fw).apply(lambda x: '%.3f%%' % (x * 100))\n",
    "display(cjih)"
   ]
  },
  {
   "cell_type": "code",
   "execution_count": 17,
   "metadata": {},
   "outputs": [
    {
     "data": {
      "text/html": [
       "<div>\n",
       "<style scoped>\n",
       "    .dataframe tbody tr th:only-of-type {\n",
       "        vertical-align: middle;\n",
       "    }\n",
       "\n",
       "    .dataframe tbody tr th {\n",
       "        vertical-align: top;\n",
       "    }\n",
       "\n",
       "    .dataframe thead th {\n",
       "        text-align: right;\n",
       "    }\n",
       "</style>\n",
       "<table border=\"1\" class=\"dataframe\">\n",
       "  <thead>\n",
       "    <tr style=\"text-align: right;\">\n",
       "      <th></th>\n",
       "      <th>收益</th>\n",
       "      <th>市值</th>\n",
       "      <th>nav_pct</th>\n",
       "    </tr>\n",
       "  </thead>\n",
       "  <tbody>\n",
       "    <tr>\n",
       "      <th>黑色</th>\n",
       "      <td>-19230.0</td>\n",
       "      <td>8025690.0</td>\n",
       "      <td>-0.139%</td>\n",
       "    </tr>\n",
       "    <tr>\n",
       "      <th>能化</th>\n",
       "      <td>53340.0</td>\n",
       "      <td>2733400.0</td>\n",
       "      <td>0.386%</td>\n",
       "    </tr>\n",
       "    <tr>\n",
       "      <th>股指</th>\n",
       "      <td>11700.0</td>\n",
       "      <td>0.0</td>\n",
       "      <td>0.085%</td>\n",
       "    </tr>\n",
       "    <tr>\n",
       "      <th>金属</th>\n",
       "      <td>-7530.0</td>\n",
       "      <td>1364695.0</td>\n",
       "      <td>-0.054%</td>\n",
       "    </tr>\n",
       "    <tr>\n",
       "      <th>农产品</th>\n",
       "      <td>2570.0</td>\n",
       "      <td>2251910.0</td>\n",
       "      <td>0.019%</td>\n",
       "    </tr>\n",
       "  </tbody>\n",
       "</table>\n",
       "</div>"
      ],
      "text/plain": [
       "          收益         市值  nav_pct\n",
       "黑色  -19230.0  8025690.0  -0.139%\n",
       "能化   53340.0  2733400.0   0.386%\n",
       "股指   11700.0        0.0   0.085%\n",
       "金属   -7530.0  1364695.0  -0.054%\n",
       "农产品   2570.0  2251910.0   0.019%"
      ]
     },
     "metadata": {},
     "output_type": "display_data"
    }
   ],
   "source": [
    "rufeng_fw = 13824024.61 \n",
    "rufeng = pd.DataFrame({\n",
    "    '收益': [-19230.00, 59160.00 - 5820.00, 11700.00, -8380.00 + 850.00, -6070.00 + 8640.00],\n",
    "    '市值': [8025690.00, 2085430.00 + 647970.00, 0.00, 1039595.00 + 325100.00, 575760.00 + 1676150.00]\n",
    "}, index=['黑色', '能化', '股指', '金属', '农产品'])\n",
    "rufeng.loc[:, 'nav_pct'] = (rufeng['收益'] / rufeng_fw).apply(lambda x: '%.3f%%' % (x * 100))\n",
    "display(rufeng)"
   ]
  }
 ],
 "metadata": {
  "kernelspec": {
   "display_name": "Python 3.8.9 64-bit",
   "language": "python",
   "name": "python3"
  },
  "language_info": {
   "codemirror_mode": {
    "name": "ipython",
    "version": 3
   },
   "file_extension": ".py",
   "mimetype": "text/x-python",
   "name": "python",
   "nbconvert_exporter": "python",
   "pygments_lexer": "ipython3",
   "version": "3.8.9"
  },
  "orig_nbformat": 4,
  "vscode": {
   "interpreter": {
    "hash": "31f2aee4e71d21fbe5cf8b01ff0e069b9275f58929596ceb00d14d90e3e16cd6"
   }
  }
 },
 "nbformat": 4,
 "nbformat_minor": 2
}
