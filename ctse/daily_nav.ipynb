{
 "cells": [
  {
   "cell_type": "code",
   "execution_count": 2,
   "metadata": {},
   "outputs": [
    {
     "data": {
      "text/html": [
       "<div>\n",
       "<style scoped>\n",
       "    .dataframe tbody tr th:only-of-type {\n",
       "        vertical-align: middle;\n",
       "    }\n",
       "\n",
       "    .dataframe tbody tr th {\n",
       "        vertical-align: top;\n",
       "    }\n",
       "\n",
       "    .dataframe thead th {\n",
       "        text-align: right;\n",
       "    }\n",
       "</style>\n",
       "<table border=\"1\" class=\"dataframe\">\n",
       "  <thead>\n",
       "    <tr style=\"text-align: right;\">\n",
       "      <th></th>\n",
       "      <th>股指</th>\n",
       "      <th>黑色</th>\n",
       "      <th>金属</th>\n",
       "      <th>能化</th>\n",
       "      <th>农产品</th>\n",
       "      <th>sum</th>\n",
       "    </tr>\n",
       "  </thead>\n",
       "  <tbody>\n",
       "    <tr>\n",
       "      <th>收益</th>\n",
       "      <td>-7080.0</td>\n",
       "      <td>-47300.0</td>\n",
       "      <td>-610.0</td>\n",
       "      <td>-42535.0</td>\n",
       "      <td>-3570.0</td>\n",
       "      <td>-101095.0</td>\n",
       "    </tr>\n",
       "    <tr>\n",
       "      <th>市值</th>\n",
       "      <td>2616200.0</td>\n",
       "      <td>2089870.0</td>\n",
       "      <td>677490.0</td>\n",
       "      <td>1775595.0</td>\n",
       "      <td>1497760.0</td>\n",
       "      <td>8656915.0</td>\n",
       "    </tr>\n",
       "    <tr>\n",
       "      <th>nav_pct</th>\n",
       "      <td>-0.091%</td>\n",
       "      <td>-0.606%</td>\n",
       "      <td>-0.008%</td>\n",
       "      <td>-0.545%</td>\n",
       "      <td>-0.046%</td>\n",
       "      <td>-0.091%-0.606%-0.008%-0.545%-0.046%</td>\n",
       "    </tr>\n",
       "    <tr>\n",
       "      <th>市值(W)</th>\n",
       "      <td>261.62</td>\n",
       "      <td>208.99</td>\n",
       "      <td>67.75</td>\n",
       "      <td>177.56</td>\n",
       "      <td>149.78</td>\n",
       "      <td>261.62208.9967.75177.56149.78</td>\n",
       "    </tr>\n",
       "  </tbody>\n",
       "</table>\n",
       "</div>"
      ],
      "text/plain": [
       "                股指         黑色        金属         能化        农产品  \\\n",
       "收益         -7080.0   -47300.0    -610.0   -42535.0    -3570.0   \n",
       "市值       2616200.0  2089870.0  677490.0  1775595.0  1497760.0   \n",
       "nav_pct    -0.091%    -0.606%   -0.008%    -0.545%    -0.046%   \n",
       "市值(W)       261.62     208.99     67.75     177.56     149.78   \n",
       "\n",
       "                                         sum  \n",
       "收益                                 -101095.0  \n",
       "市值                                 8656915.0  \n",
       "nav_pct  -0.091%-0.606%-0.008%-0.545%-0.046%  \n",
       "市值(W)          261.62208.9967.75177.56149.78  "
      ]
     },
     "metadata": {},
     "output_type": "display_data"
    },
    {
     "data": {
      "text/html": [
       "<div>\n",
       "<style scoped>\n",
       "    .dataframe tbody tr th:only-of-type {\n",
       "        vertical-align: middle;\n",
       "    }\n",
       "\n",
       "    .dataframe tbody tr th {\n",
       "        vertical-align: top;\n",
       "    }\n",
       "\n",
       "    .dataframe thead th {\n",
       "        text-align: right;\n",
       "    }\n",
       "</style>\n",
       "<table border=\"1\" class=\"dataframe\">\n",
       "  <thead>\n",
       "    <tr style=\"text-align: right;\">\n",
       "      <th></th>\n",
       "      <th>股指</th>\n",
       "      <th>黑色</th>\n",
       "      <th>金属</th>\n",
       "      <th>能化</th>\n",
       "      <th>农产品</th>\n",
       "      <th>sum</th>\n",
       "    </tr>\n",
       "  </thead>\n",
       "  <tbody>\n",
       "    <tr>\n",
       "      <th>收益</th>\n",
       "      <td>-18280.0</td>\n",
       "      <td>-123030.0</td>\n",
       "      <td>-955.0</td>\n",
       "      <td>-104005.0</td>\n",
       "      <td>-9355.0</td>\n",
       "      <td>-255625.0</td>\n",
       "    </tr>\n",
       "    <tr>\n",
       "      <th>市值</th>\n",
       "      <td>5232400.0</td>\n",
       "      <td>5133860.0</td>\n",
       "      <td>1162290.0</td>\n",
       "      <td>4052455.0</td>\n",
       "      <td>3835850.0</td>\n",
       "      <td>19416855.0</td>\n",
       "    </tr>\n",
       "    <tr>\n",
       "      <th>nav_pct</th>\n",
       "      <td>-0.132%</td>\n",
       "      <td>-0.890%</td>\n",
       "      <td>-0.007%</td>\n",
       "      <td>-0.752%</td>\n",
       "      <td>-0.068%</td>\n",
       "      <td>-0.132%-0.890%-0.007%-0.752%-0.068%</td>\n",
       "    </tr>\n",
       "    <tr>\n",
       "      <th>市值(W)</th>\n",
       "      <td>523.24</td>\n",
       "      <td>513.39</td>\n",
       "      <td>116.23</td>\n",
       "      <td>405.25</td>\n",
       "      <td>383.58</td>\n",
       "      <td>523.24513.39116.23405.25383.58</td>\n",
       "    </tr>\n",
       "  </tbody>\n",
       "</table>\n",
       "</div>"
      ],
      "text/plain": [
       "                股指         黑色         金属         能化        农产品  \\\n",
       "收益        -18280.0  -123030.0     -955.0  -104005.0    -9355.0   \n",
       "市值       5232400.0  5133860.0  1162290.0  4052455.0  3835850.0   \n",
       "nav_pct    -0.132%    -0.890%    -0.007%    -0.752%    -0.068%   \n",
       "市值(W)       523.24     513.39     116.23     405.25     383.58   \n",
       "\n",
       "                                         sum  \n",
       "收益                                 -255625.0  \n",
       "市值                                19416855.0  \n",
       "nav_pct  -0.132%-0.890%-0.007%-0.752%-0.068%  \n",
       "市值(W)         523.24513.39116.23405.25383.58  "
      ]
     },
     "metadata": {},
     "output_type": "display_data"
    },
    {
     "name": "stdout",
     "output_type": "stream",
     "text": [
      "财嘉 1.0917 到 1.0788, -1.1816433086012545%\n",
      "如风 1.0311 到 1.0126, -1.7942003685384456%\n"
     ]
    }
   ],
   "source": [
    "import pandas as pd\n",
    "\n",
    "\n",
    "        # x,\n",
    "        # x,\n",
    "        # x,\n",
    "        # x,\n",
    "        # x\n",
    "# cjyh cjyh cjyh cjyh cjyh cjyh cjyh cjyh cjyh cjyh cjyh cjyh cjyh cjyh \n",
    "cjyh_fw = 7802209.42\n",
    "cjih = pd.DataFrame({\n",
    "    '收益': [\n",
    "        -7080.00,\n",
    "        -47300.00,\n",
    "        -610.00,\n",
    "        -42535.00,\n",
    "        -3570.00\n",
    "        ],\n",
    "    '市值': [\n",
    "        2616200.00,\n",
    "        2089870.00,\n",
    "        677490.00,\n",
    "        1775595.00,\n",
    "        1497760.00\n",
    "        ]\n",
    "}, index=[\n",
    "    '股指',\n",
    "    '黑色',\n",
    "    '金属',\n",
    "    '能化',\n",
    "    '农产品'])\n",
    "cjih.loc[:, 'nav_pct'] = (cjih['收益'] / cjyh_fw).apply(lambda x: '%.3f%%' % (x * 100))\n",
    "cjih.loc[:, '市值(W)'] = cjih['市值'].apply(lambda x: '%.2f' % (x / 10_000))\n",
    "cjih = cjih.T\n",
    "cjih.loc[:, 'sum'] = cjih.sum(axis=1)\n",
    "\n",
    "# cjyh cjyh cjyh cjyh cjyh cjyh cjyh cjyh cjyh cjyh cjyh cjyh cjyh cjyh \n",
    "\n",
    "# ------------------------------------------------------------------------------------\n",
    "# ------------------------------------------------------------------------------------\n",
    "# ------------------------------------------------------------------------------------\n",
    "# ------------------------------------------------------------------------------------\n",
    "# ------------------------------------------------------------------------------------\n",
    "# ------------------------------------------------------------------------------------\n",
    "# ------------------------------------------------------------------------------------\n",
    "# ------------------------------------------------------------------------------------\n",
    "# ------------------------------------------------------------------------------------\n",
    "# ------------------------------------------------------------------------------------\n",
    "# ------------------------------------------------------------------------------------\n",
    "# ------------------------------------------------------------------------------------\n",
    "\n",
    "        # x + x,\n",
    "        # x + x,\n",
    "        # x + x,\n",
    "        # x + x,\n",
    "        # x + x\n",
    "# rufeng rufeng rufeng rufeng rufeng rufeng rufeng rufeng rufeng rufeng\n",
    "rufeng_fw = 13824024.61 \n",
    "rufeng = pd.DataFrame({\n",
    "    '收益': [\n",
    "        -18280.00,\n",
    "        -123030.00,\n",
    "        -955.00,\n",
    "        -104005.00,\n",
    "        -9355.00\n",
    "        ],\n",
    "    '市值': [\n",
    "        5232400.00,\n",
    "        5133860.00,\n",
    "        1162290.00,\n",
    "        4052455.00,\n",
    "        3835850.00\n",
    "        ]\n",
    "}, index=[\n",
    "    '股指',\n",
    "    '黑色',\n",
    "    '金属',\n",
    "    '能化',\n",
    "    '农产品'])\n",
    "rufeng.loc[:, 'nav_pct'] = (rufeng['收益'] / rufeng_fw).apply(lambda x: '%.3f%%' % (x * 100))\n",
    "rufeng.loc[:, '市值(W)'] = rufeng['市值'].apply(lambda x: '%.2f' % (x / 10_000))\n",
    "rufeng = rufeng.T\n",
    "rufeng.loc[:, 'sum'] = rufeng.sum(axis=1)\n",
    "\n",
    "display(cjih)\n",
    "display(rufeng)\n",
    "\n",
    "cj1 = 1.0917\n",
    "cj2 = 1.0788\n",
    "print('财嘉 {} 到 {}, {}%'.format(cj1, cj2, (cj2/cj1 - 1) * 100))\n",
    "rf1 = 1.0311\n",
    "rf2 = 1.0126\n",
    "print('如风 {} 到 {}, {}%'.format(rf1, rf2, (rf2/rf1 - 1) * 100))"
   ]
  },
  {
   "cell_type": "code",
   "execution_count": 2,
   "metadata": {},
   "outputs": [
    {
     "data": {
      "text/plain": [
       "0.005191478185162582"
      ]
     },
     "execution_count": 2,
     "metadata": {},
     "output_type": "execute_result"
    }
   ],
   "source": [
    "40505.00 / cjyh_fw"
   ]
  },
  {
   "cell_type": "code",
   "execution_count": 29,
   "metadata": {},
   "outputs": [
    {
     "data": {
      "text/plain": [
       "-18735.0"
      ]
     },
     "execution_count": 29,
     "metadata": {},
     "output_type": "execute_result"
    }
   ],
   "source": [
    "sum([0.0,\t-10450.0,\t-7100.0,\t-5180.0,\t3995.0])"
   ]
  },
  {
   "cell_type": "code",
   "execution_count": 31,
   "metadata": {},
   "outputs": [
    {
     "data": {
      "text/plain": [
       "-24405.0"
      ]
     },
     "execution_count": 31,
     "metadata": {},
     "output_type": "execute_result"
    }
   ],
   "source": [
    "sum([0.0,\t-22710.0,\t-12070.0,\t-430.0,\t10805.0\t])"
   ]
  }
 ],
 "metadata": {
  "kernelspec": {
   "display_name": "Python 3.8.13 ('trading')",
   "language": "python",
   "name": "python3"
  },
  "language_info": {
   "codemirror_mode": {
    "name": "ipython",
    "version": 3
   },
   "file_extension": ".py",
   "mimetype": "text/x-python",
   "name": "python",
   "nbconvert_exporter": "python",
   "pygments_lexer": "ipython3",
   "version": "3.8.13"
  },
  "orig_nbformat": 4,
  "vscode": {
   "interpreter": {
    "hash": "ddc6e6a209a50492a3782c8b6e74c37658c20e4288aca4350cd3d951c0e99d6b"
   }
  }
 },
 "nbformat": 4,
 "nbformat_minor": 2
}
