{
 "cells": [
  {
   "cell_type": "code",
   "execution_count": 15,
   "metadata": {},
   "outputs": [
    {
     "data": {
      "text/html": [
       "<div>\n",
       "<style scoped>\n",
       "    .dataframe tbody tr th:only-of-type {\n",
       "        vertical-align: middle;\n",
       "    }\n",
       "\n",
       "    .dataframe tbody tr th {\n",
       "        vertical-align: top;\n",
       "    }\n",
       "\n",
       "    .dataframe thead th {\n",
       "        text-align: right;\n",
       "    }\n",
       "</style>\n",
       "<table border=\"1\" class=\"dataframe\">\n",
       "  <thead>\n",
       "    <tr style=\"text-align: right;\">\n",
       "      <th></th>\n",
       "      <th>股指</th>\n",
       "      <th>黑色</th>\n",
       "      <th>金属</th>\n",
       "      <th>能化</th>\n",
       "      <th>农产品</th>\n",
       "      <th>sum</th>\n",
       "    </tr>\n",
       "  </thead>\n",
       "  <tbody>\n",
       "    <tr>\n",
       "      <th>收益</th>\n",
       "      <td>-5000.0</td>\n",
       "      <td>-12460.0</td>\n",
       "      <td>270.0</td>\n",
       "      <td>-6340.0</td>\n",
       "      <td>1570.0</td>\n",
       "      <td>-21960.0</td>\n",
       "    </tr>\n",
       "    <tr>\n",
       "      <th>市值</th>\n",
       "      <td>0.0</td>\n",
       "      <td>1283100.0</td>\n",
       "      <td>615575.0</td>\n",
       "      <td>847840.0</td>\n",
       "      <td>333620.0</td>\n",
       "      <td>3080135.0</td>\n",
       "    </tr>\n",
       "    <tr>\n",
       "      <th>nav_pct</th>\n",
       "      <td>-0.064%</td>\n",
       "      <td>-0.160%</td>\n",
       "      <td>0.003%</td>\n",
       "      <td>-0.081%</td>\n",
       "      <td>0.020%</td>\n",
       "      <td>-0.064%-0.160%0.003%-0.081%0.020%</td>\n",
       "    </tr>\n",
       "    <tr>\n",
       "      <th>市值(W)</th>\n",
       "      <td>0.00</td>\n",
       "      <td>128.31</td>\n",
       "      <td>61.56</td>\n",
       "      <td>84.78</td>\n",
       "      <td>33.36</td>\n",
       "      <td>0.00128.3161.5684.7833.36</td>\n",
       "    </tr>\n",
       "  </tbody>\n",
       "</table>\n",
       "</div>"
      ],
      "text/plain": [
       "              股指         黑色        金属        能化       农产品  \\\n",
       "收益       -5000.0   -12460.0     270.0   -6340.0    1570.0   \n",
       "市值           0.0  1283100.0  615575.0  847840.0  333620.0   \n",
       "nav_pct  -0.064%    -0.160%    0.003%   -0.081%    0.020%   \n",
       "市值(W)       0.00     128.31     61.56     84.78     33.36   \n",
       "\n",
       "                                       sum  \n",
       "收益                                -21960.0  \n",
       "市值                               3080135.0  \n",
       "nav_pct  -0.064%-0.160%0.003%-0.081%0.020%  \n",
       "市值(W)            0.00128.3161.5684.7833.36  "
      ]
     },
     "metadata": {},
     "output_type": "display_data"
    },
    {
     "data": {
      "text/html": [
       "<div>\n",
       "<style scoped>\n",
       "    .dataframe tbody tr th:only-of-type {\n",
       "        vertical-align: middle;\n",
       "    }\n",
       "\n",
       "    .dataframe tbody tr th {\n",
       "        vertical-align: top;\n",
       "    }\n",
       "\n",
       "    .dataframe thead th {\n",
       "        text-align: right;\n",
       "    }\n",
       "</style>\n",
       "<table border=\"1\" class=\"dataframe\">\n",
       "  <thead>\n",
       "    <tr style=\"text-align: right;\">\n",
       "      <th></th>\n",
       "      <th>股指</th>\n",
       "      <th>黑色</th>\n",
       "      <th>金属</th>\n",
       "      <th>能化</th>\n",
       "      <th>农产品</th>\n",
       "      <th>sum</th>\n",
       "    </tr>\n",
       "  </thead>\n",
       "  <tbody>\n",
       "    <tr>\n",
       "      <th>收益</th>\n",
       "      <td>-9280.0</td>\n",
       "      <td>-32280.0</td>\n",
       "      <td>415.0</td>\n",
       "      <td>-600.0</td>\n",
       "      <td>5165.0</td>\n",
       "      <td>-36580.0</td>\n",
       "    </tr>\n",
       "    <tr>\n",
       "      <th>市值</th>\n",
       "      <td>0.0</td>\n",
       "      <td>3041520.0</td>\n",
       "      <td>1198400.0</td>\n",
       "      <td>2461480.0</td>\n",
       "      <td>1114630.0</td>\n",
       "      <td>7816030.0</td>\n",
       "    </tr>\n",
       "    <tr>\n",
       "      <th>nav_pct</th>\n",
       "      <td>-0.067%</td>\n",
       "      <td>-0.234%</td>\n",
       "      <td>0.003%</td>\n",
       "      <td>-0.004%</td>\n",
       "      <td>0.037%</td>\n",
       "      <td>-0.067%-0.234%0.003%-0.004%0.037%</td>\n",
       "    </tr>\n",
       "    <tr>\n",
       "      <th>市值(W)</th>\n",
       "      <td>0.00</td>\n",
       "      <td>304.15</td>\n",
       "      <td>119.84</td>\n",
       "      <td>246.15</td>\n",
       "      <td>111.46</td>\n",
       "      <td>0.00304.15119.84246.15111.46</td>\n",
       "    </tr>\n",
       "  </tbody>\n",
       "</table>\n",
       "</div>"
      ],
      "text/plain": [
       "              股指         黑色         金属         能化        农产品  \\\n",
       "收益       -9280.0   -32280.0      415.0     -600.0     5165.0   \n",
       "市值           0.0  3041520.0  1198400.0  2461480.0  1114630.0   \n",
       "nav_pct  -0.067%    -0.234%     0.003%    -0.004%     0.037%   \n",
       "市值(W)       0.00     304.15     119.84     246.15     111.46   \n",
       "\n",
       "                                       sum  \n",
       "收益                                -36580.0  \n",
       "市值                               7816030.0  \n",
       "nav_pct  -0.067%-0.234%0.003%-0.004%0.037%  \n",
       "市值(W)         0.00304.15119.84246.15111.46  "
      ]
     },
     "metadata": {},
     "output_type": "display_data"
    },
    {
     "name": "stdout",
     "output_type": "stream",
     "text": [
      "财嘉 1.0556 到 1.0528, -0.2652519893899363%\n",
      "如风 0.9793 到 0.9767, -0.2654957622791776%\n"
     ]
    }
   ],
   "source": [
    "import pandas as pd\n",
    "\n",
    "\n",
    "        # x,\n",
    "        # x,\n",
    "        # x,\n",
    "        # x,\n",
    "        # x\n",
    "# cjyh cjyh cjyh cjyh cjyh cjyh cjyh cjyh cjyh cjyh cjyh cjyh cjyh cjyh \n",
    "cjyh_fw = 7802209.42\n",
    "cjih = pd.DataFrame({\n",
    "    '收益': [\n",
    "        -5000.00,\n",
    "        -12460.00,\n",
    "        270.00,\n",
    "        -6340.00,\n",
    "        1570.00\n",
    "        ],\n",
    "    '市值': [\n",
    "        0,\n",
    "        1283100.00,\n",
    "        615575.00,\n",
    "        847840.00,\n",
    "        333620.00\n",
    "        ]\n",
    "}, index=[\n",
    "    '股指',\n",
    "    '黑色',\n",
    "    '金属',\n",
    "    '能化',\n",
    "    '农产品'])\n",
    "cjih.loc[:, 'nav_pct'] = (cjih['收益'] / cjyh_fw).apply(lambda x: '%.3f%%' % (x * 100))\n",
    "cjih.loc[:, '市值(W)'] = cjih['市值'].apply(lambda x: '%.2f' % (x / 10_000))\n",
    "cjih = cjih.T\n",
    "cjih.loc[:, 'sum'] = cjih.sum(axis=1)\n",
    "\n",
    "# cjyh cjyh cjyh cjyh cjyh cjyh cjyh cjyh cjyh cjyh cjyh cjyh cjyh cjyh \n",
    "\n",
    "# ------------------------------------------------------------------------------------\n",
    "# ------------------------------------------------------------------------------------\n",
    "# ------------------------------------------------------------------------------------\n",
    "# ------------------------------------------------------------------------------------\n",
    "# ------------------------------------------------------------------------------------\n",
    "# ------------------------------------------------------------------------------------\n",
    "# ------------------------------------------------------------------------------------\n",
    "# ------------------------------------------------------------------------------------\n",
    "# ------------------------------------------------------------------------------------\n",
    "# ------------------------------------------------------------------------------------\n",
    "# ------------------------------------------------------------------------------------\n",
    "# ------------------------------------------------------------------------------------\n",
    "\n",
    "        # x + x,\n",
    "        # x + x,\n",
    "        # x + x,\n",
    "        # x + x,\n",
    "        # x + x\n",
    "# rufeng rufeng rufeng rufeng rufeng rufeng rufeng rufeng rufeng rufeng\n",
    "rufeng_fw = 13824024.61 \n",
    "rufeng = pd.DataFrame({\n",
    "    '收益': [\n",
    "        -9280.00,\n",
    "        -32280.00,\n",
    "        415.00,\n",
    "        -600.00,\n",
    "        5165.00\n",
    "        ],\n",
    "    '市值': [\n",
    "        0,\n",
    "        3041520.00,\n",
    "        1198400.00,\n",
    "        2461480.00,\n",
    "        1114630.00\n",
    "        ]\n",
    "}, index=[\n",
    "    '股指',\n",
    "    '黑色',\n",
    "    '金属',\n",
    "    '能化',\n",
    "    '农产品'])\n",
    "rufeng.loc[:, 'nav_pct'] = (rufeng['收益'] / rufeng_fw).apply(lambda x: '%.3f%%' % (x * 100))\n",
    "rufeng.loc[:, '市值(W)'] = rufeng['市值'].apply(lambda x: '%.2f' % (x / 10_000))\n",
    "rufeng = rufeng.T\n",
    "rufeng.loc[:, 'sum'] = rufeng.sum(axis=1)\n",
    "\n",
    "display(cjih)\n",
    "display(rufeng)\n",
    "\n",
    "cj1 = 1.0556\n",
    "cj2 = 1.0528\n",
    "print('财嘉 {} 到 {}, {}%'.format(cj1, cj2, (cj2/cj1 - 1) * 100))\n",
    "rf1 = 0.9793\n",
    "rf2 = 0.9767\n",
    "print('如风 {} 到 {}, {}%'.format(rf1, rf2, (rf2/rf1 - 1) * 100))"
   ]
  },
  {
   "cell_type": "code",
   "execution_count": 2,
   "metadata": {},
   "outputs": [
    {
     "data": {
      "text/plain": [
       "0.005191478185162582"
      ]
     },
     "execution_count": 2,
     "metadata": {},
     "output_type": "execute_result"
    }
   ],
   "source": [
    "40505.00 / cjyh_fw"
   ]
  },
  {
   "cell_type": "code",
   "execution_count": 29,
   "metadata": {},
   "outputs": [
    {
     "data": {
      "text/plain": [
       "-18735.0"
      ]
     },
     "execution_count": 29,
     "metadata": {},
     "output_type": "execute_result"
    }
   ],
   "source": [
    "sum([0.0,\t-10450.0,\t-7100.0,\t-5180.0,\t3995.0])"
   ]
  },
  {
   "cell_type": "code",
   "execution_count": 31,
   "metadata": {},
   "outputs": [
    {
     "data": {
      "text/plain": [
       "-24405.0"
      ]
     },
     "execution_count": 31,
     "metadata": {},
     "output_type": "execute_result"
    }
   ],
   "source": [
    "sum([0.0,\t-22710.0,\t-12070.0,\t-430.0,\t10805.0\t])"
   ]
  }
 ],
 "metadata": {
  "kernelspec": {
   "display_name": "Python 3.8.13 ('trading')",
   "language": "python",
   "name": "python3"
  },
  "language_info": {
   "codemirror_mode": {
    "name": "ipython",
    "version": 3
   },
   "file_extension": ".py",
   "mimetype": "text/x-python",
   "name": "python",
   "nbconvert_exporter": "python",
   "pygments_lexer": "ipython3",
   "version": "3.8.13"
  },
  "orig_nbformat": 4,
  "vscode": {
   "interpreter": {
    "hash": "ddc6e6a209a50492a3782c8b6e74c37658c20e4288aca4350cd3d951c0e99d6b"
   }
  }
 },
 "nbformat": 4,
 "nbformat_minor": 2
}
