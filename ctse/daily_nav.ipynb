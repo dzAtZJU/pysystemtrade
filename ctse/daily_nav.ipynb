{
 "cells": [
  {
   "cell_type": "code",
   "execution_count": 3,
   "metadata": {},
   "outputs": [],
   "source": [
    "import pandas as pd\n",
    "\n",
    "# cjyh \n",
    "cjyh_fw = 7802209.42\n",
    "cjih = pd.DataFrame({\n",
    "    '收益': [39050.00, -1875.00, -17860.00, -11160.00, -11640.00],\n",
    "    '市值': [3301370.00, 614735.00, 0.00, 446810.00, 412670.00]\n",
    "}, index=['黑色', '能化', '股指', '金属', '农产品'])\n",
    "cjih.loc[:, 'nav_pct'] = (cjih['收益'] / cjyh_fw).apply(lambda x: '%.3f%%' % (x * 100))\n",
    "cjih.to_csv('cjyh.csv')"
   ]
  },
  {
   "cell_type": "code",
   "execution_count": 7,
   "metadata": {},
   "outputs": [
    {
     "data": {
      "text/html": [
       "<div>\n",
       "<style scoped>\n",
       "    .dataframe tbody tr th:only-of-type {\n",
       "        vertical-align: middle;\n",
       "    }\n",
       "\n",
       "    .dataframe tbody tr th {\n",
       "        vertical-align: top;\n",
       "    }\n",
       "\n",
       "    .dataframe thead th {\n",
       "        text-align: right;\n",
       "    }\n",
       "</style>\n",
       "<table border=\"1\" class=\"dataframe\">\n",
       "  <thead>\n",
       "    <tr style=\"text-align: right;\">\n",
       "      <th></th>\n",
       "      <th>收益</th>\n",
       "      <th>市值</th>\n",
       "      <th>nav_pct</th>\n",
       "    </tr>\n",
       "  </thead>\n",
       "  <tbody>\n",
       "    <tr>\n",
       "      <th>黑色</th>\n",
       "      <td>96980.0</td>\n",
       "      <td>8122670.0</td>\n",
       "      <td>0.702%</td>\n",
       "    </tr>\n",
       "    <tr>\n",
       "      <th>能化</th>\n",
       "      <td>-22060.0</td>\n",
       "      <td>1683920.0</td>\n",
       "      <td>-0.160%</td>\n",
       "    </tr>\n",
       "    <tr>\n",
       "      <th>股指</th>\n",
       "      <td>-44680.0</td>\n",
       "      <td>0.0</td>\n",
       "      <td>-0.323%</td>\n",
       "    </tr>\n",
       "    <tr>\n",
       "      <th>金属</th>\n",
       "      <td>-19620.0</td>\n",
       "      <td>1060920.0</td>\n",
       "      <td>-0.142%</td>\n",
       "    </tr>\n",
       "    <tr>\n",
       "      <th>农产品</th>\n",
       "      <td>-28090.0</td>\n",
       "      <td>983780.0</td>\n",
       "      <td>-0.203%</td>\n",
       "    </tr>\n",
       "  </tbody>\n",
       "</table>\n",
       "</div>"
      ],
      "text/plain": [
       "          收益         市值  nav_pct\n",
       "黑色   96980.0  8122670.0   0.702%\n",
       "能化  -22060.0  1683920.0  -0.160%\n",
       "股指  -44680.0        0.0  -0.323%\n",
       "金属  -19620.0  1060920.0  -0.142%\n",
       "农产品 -28090.0   983780.0  -0.203%"
      ]
     },
     "execution_count": 7,
     "metadata": {},
     "output_type": "execute_result"
    }
   ],
   "source": [
    "rufeng_fw = 13824024.61 \n",
    "rufeng = pd.DataFrame({\n",
    "    '收益': [\n",
    "        96980.00,\n",
    "        3080.00 + -25140.00,\n",
    "        -44680.00,\n",
    "        -4500.00 + -15120.00,\n",
    "        -20470.00 + -7620.00],\n",
    "    '市值': [\n",
    "        8122670.00,\n",
    "        651050.00 + 1032870.00,\n",
    "        0.00,\n",
    "        0.00 + 1060920.00,\n",
    "        935440.00 + 48340.00]\n",
    "}, index=[\n",
    "    '黑色',\n",
    "    '能化',\n",
    "    '股指',\n",
    "    '金属',\n",
    "    '农产品'])\n",
    "rufeng.loc[:, 'nav_pct'] = (rufeng['收益'] / rufeng_fw).apply(lambda x: '%.3f%%' % (x * 100))\n",
    "rufeng.to_csv('rufeng.csv')\n",
    "rufeng"
   ]
  }
 ],
 "metadata": {
  "kernelspec": {
   "display_name": "Python 3.8.9 64-bit",
   "language": "python",
   "name": "python3"
  },
  "language_info": {
   "codemirror_mode": {
    "name": "ipython",
    "version": 3
   },
   "file_extension": ".py",
   "mimetype": "text/x-python",
   "name": "python",
   "nbconvert_exporter": "python",
   "pygments_lexer": "ipython3",
   "version": "3.8.9"
  },
  "orig_nbformat": 4,
  "vscode": {
   "interpreter": {
    "hash": "31f2aee4e71d21fbe5cf8b01ff0e069b9275f58929596ceb00d14d90e3e16cd6"
   }
  }
 },
 "nbformat": 4,
 "nbformat_minor": 2
}
