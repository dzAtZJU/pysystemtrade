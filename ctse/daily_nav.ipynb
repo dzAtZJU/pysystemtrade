{
 "cells": [
  {
   "cell_type": "code",
   "execution_count": 17,
   "metadata": {},
   "outputs": [
    {
     "name": "stdout",
     "output_type": "stream",
     "text": [
      "财嘉 1.0577 到 1.0614, 0.3498156377044426%\n"
     ]
    },
    {
     "data": {
      "text/html": [
       "<div>\n",
       "<style scoped>\n",
       "    .dataframe tbody tr th:only-of-type {\n",
       "        vertical-align: middle;\n",
       "    }\n",
       "\n",
       "    .dataframe tbody tr th {\n",
       "        vertical-align: top;\n",
       "    }\n",
       "\n",
       "    .dataframe thead th {\n",
       "        text-align: right;\n",
       "    }\n",
       "</style>\n",
       "<table border=\"1\" class=\"dataframe\">\n",
       "  <thead>\n",
       "    <tr style=\"text-align: right;\">\n",
       "      <th></th>\n",
       "      <th>股指</th>\n",
       "      <th>黑色</th>\n",
       "      <th>金属</th>\n",
       "      <th>能化</th>\n",
       "      <th>农产品</th>\n",
       "      <th>sum</th>\n",
       "    </tr>\n",
       "  </thead>\n",
       "  <tbody>\n",
       "    <tr>\n",
       "      <th>收益</th>\n",
       "      <td>480.0</td>\n",
       "      <td>19660.0</td>\n",
       "      <td>-6190.0</td>\n",
       "      <td>9835.0</td>\n",
       "      <td>5515.0</td>\n",
       "      <td>29300.0</td>\n",
       "    </tr>\n",
       "    <tr>\n",
       "      <th>市值</th>\n",
       "      <td>1189200.0</td>\n",
       "      <td>3478920.0</td>\n",
       "      <td>186835.0</td>\n",
       "      <td>1157780.0</td>\n",
       "      <td>1018320.0</td>\n",
       "      <td>7031055.0</td>\n",
       "    </tr>\n",
       "    <tr>\n",
       "      <th>nav_pct</th>\n",
       "      <td>0.006%</td>\n",
       "      <td>0.252%</td>\n",
       "      <td>-0.079%</td>\n",
       "      <td>0.126%</td>\n",
       "      <td>0.071%</td>\n",
       "      <td>0.006%0.252%-0.079%0.126%0.071%</td>\n",
       "    </tr>\n",
       "    <tr>\n",
       "      <th>市值(W)</th>\n",
       "      <td>118.92</td>\n",
       "      <td>347.89</td>\n",
       "      <td>18.68</td>\n",
       "      <td>115.78</td>\n",
       "      <td>101.83</td>\n",
       "      <td>118.92347.8918.68115.78101.83</td>\n",
       "    </tr>\n",
       "  </tbody>\n",
       "</table>\n",
       "</div>"
      ],
      "text/plain": [
       "                股指         黑色        金属         能化        农产品  \\\n",
       "收益           480.0    19660.0   -6190.0     9835.0     5515.0   \n",
       "市值       1189200.0  3478920.0  186835.0  1157780.0  1018320.0   \n",
       "nav_pct     0.006%     0.252%   -0.079%     0.126%     0.071%   \n",
       "市值(W)       118.92     347.89     18.68     115.78     101.83   \n",
       "\n",
       "                                     sum  \n",
       "收益                               29300.0  \n",
       "市值                             7031055.0  \n",
       "nav_pct  0.006%0.252%-0.079%0.126%0.071%  \n",
       "市值(W)      118.92347.8918.68115.78101.83  "
      ]
     },
     "metadata": {},
     "output_type": "display_data"
    },
    {
     "data": {
      "text/html": [
       "<div>\n",
       "<style scoped>\n",
       "    .dataframe tbody tr th:only-of-type {\n",
       "        vertical-align: middle;\n",
       "    }\n",
       "\n",
       "    .dataframe tbody tr th {\n",
       "        vertical-align: top;\n",
       "    }\n",
       "\n",
       "    .dataframe thead th {\n",
       "        text-align: right;\n",
       "    }\n",
       "</style>\n",
       "<table border=\"1\" class=\"dataframe\">\n",
       "  <thead>\n",
       "    <tr style=\"text-align: right;\">\n",
       "      <th></th>\n",
       "      <th>股指</th>\n",
       "      <th>黑色</th>\n",
       "      <th>金属</th>\n",
       "      <th>能化</th>\n",
       "      <th>农产品</th>\n",
       "      <th>sum</th>\n",
       "    </tr>\n",
       "  </thead>\n",
       "  <tbody>\n",
       "    <tr>\n",
       "      <th>收益</th>\n",
       "      <td>780.0</td>\n",
       "      <td>48070.0</td>\n",
       "      <td>-13930.0</td>\n",
       "      <td>26850.0</td>\n",
       "      <td>13655.0</td>\n",
       "      <td>75425.0</td>\n",
       "    </tr>\n",
       "    <tr>\n",
       "      <th>市值</th>\n",
       "      <td>2378400.0</td>\n",
       "      <td>8510190.0</td>\n",
       "      <td>1210345.0</td>\n",
       "      <td>3228195.0</td>\n",
       "      <td>2845240.0</td>\n",
       "      <td>18172370.0</td>\n",
       "    </tr>\n",
       "    <tr>\n",
       "      <th>nav_pct</th>\n",
       "      <td>0.006%</td>\n",
       "      <td>0.348%</td>\n",
       "      <td>-0.101%</td>\n",
       "      <td>0.194%</td>\n",
       "      <td>0.099%</td>\n",
       "      <td>0.006%0.348%-0.101%0.194%0.099%</td>\n",
       "    </tr>\n",
       "    <tr>\n",
       "      <th>市值(W)</th>\n",
       "      <td>237.84</td>\n",
       "      <td>851.02</td>\n",
       "      <td>121.03</td>\n",
       "      <td>322.82</td>\n",
       "      <td>284.52</td>\n",
       "      <td>237.84851.02121.03322.82284.52</td>\n",
       "    </tr>\n",
       "  </tbody>\n",
       "</table>\n",
       "</div>"
      ],
      "text/plain": [
       "                股指         黑色         金属         能化        农产品  \\\n",
       "收益           780.0    48070.0   -13930.0    26850.0    13655.0   \n",
       "市值       2378400.0  8510190.0  1210345.0  3228195.0  2845240.0   \n",
       "nav_pct     0.006%     0.348%    -0.101%     0.194%     0.099%   \n",
       "市值(W)       237.84     851.02     121.03     322.82     284.52   \n",
       "\n",
       "                                     sum  \n",
       "收益                               75425.0  \n",
       "市值                            18172370.0  \n",
       "nav_pct  0.006%0.348%-0.101%0.194%0.099%  \n",
       "市值(W)     237.84851.02121.03322.82284.52  "
      ]
     },
     "metadata": {},
     "output_type": "display_data"
    },
    {
     "name": "stdout",
     "output_type": "stream",
     "text": [
      "如风 0.9956 到 1.001, 0.5423865006026318%\n"
     ]
    }
   ],
   "source": [
    "import pandas as pd\n",
    "\n",
    "\n",
    "        # x,\n",
    "        # x,\n",
    "        # x,\n",
    "        # x,\n",
    "        # x\n",
    "# cjyh cjyh cjyh cjyh cjyh cjyh cjyh cjyh cjyh cjyh cjyh cjyh cjyh cjyh \n",
    "cjyh_fw = 7802209.42\n",
    "cjih = pd.DataFrame({\n",
    "    '收益': [\n",
    "        480.00,\n",
    "        19660.00,\n",
    "        -6190.00,\n",
    "        9835.00,\n",
    "        5515.00\n",
    "        ],\n",
    "    '市值': [   \n",
    "        1189200.00,\n",
    "        3478920.00,\n",
    "        186835.00,\n",
    "        1157780.00,\n",
    "        1018320.00\n",
    "        ]\n",
    "}, index=[\n",
    "    '股指',\n",
    "    '黑色',\n",
    "    '金属',\n",
    "    '能化',\n",
    "    '农产品'])\n",
    "cjih.loc[:, 'nav_pct'] = (cjih['收益'] / cjyh_fw).apply(lambda x: '%.3f%%' % (x * 100))\n",
    "cjih.loc[:, '市值(W)'] = cjih['市值'].apply(lambda x: '%.2f' % (x / 10_000))\n",
    "cjih = cjih.T\n",
    "cjih.loc[:, 'sum'] = cjih.sum(axis=1)\n",
    "cj1 = 1.0577\n",
    "cj2 = 1.0614\n",
    "print('财嘉 {} 到 {}, {}%'.format(cj1, cj2, (cj2/cj1 - 1) * 100))\n",
    "# cjyh cjyh cjyh cjyh cjyh cjyh cjyh cjyh cjyh cjyh cjyh cjyh cjyh cjyh \n",
    "\n",
    "# ------------------------------------------------------------------------------------\n",
    "# ------------------------------------------------------------------------------------\n",
    "# ------------------------------------------------------------------------------------\n",
    "# ------------------------------------------------------------------------------------\n",
    "# ------------------------------------------------------------------------------------\n",
    "# ------------------------------------------------------------------------------------\n",
    "# ------------------------------------------------------------------------------------\n",
    "# ------------------------------------------------------------------------------------\n",
    "# ------------------------------------------------------------------------------------\n",
    "# ------------------------------------------------------------------------------------\n",
    "# ------------------------------------------------------------------------------------\n",
    "# ------------------------------------------------------------------------------------\n",
    "\n",
    "        # x + x,\n",
    "        # x + x,\n",
    "        # x + x,\n",
    "        # x + x,\n",
    "        # x + x\n",
    "# rufeng rufeng rufeng rufeng rufeng rufeng rufeng rufeng rufeng rufeng\n",
    "rufeng_fw = 13824024.61 \n",
    "rufeng = pd.DataFrame({\n",
    "    '收益': [\n",
    "        780.00,\n",
    "        48070.00,\n",
    "        -13930.00,\n",
    "        26850.00,\n",
    "        13655.00\n",
    "        ],\n",
    "    '市值': [\n",
    "        2378400.00,\n",
    "        8510190.00,\n",
    "        1210345.00,\n",
    "        3228195.00,\n",
    "        2845240.00\n",
    "        ]\n",
    "}, index=[\n",
    "    '股指',\n",
    "    '黑色',\n",
    "    '金属',\n",
    "    '能化',\n",
    "    '农产品'])\n",
    "rufeng.loc[:, 'nav_pct'] = (rufeng['收益'] / rufeng_fw).apply(lambda x: '%.3f%%' % (x * 100))\n",
    "rufeng.loc[:, '市值(W)'] = rufeng['市值'].apply(lambda x: '%.2f' % (x / 10_000))\n",
    "rufeng = rufeng.T\n",
    "rufeng.loc[:, 'sum'] = rufeng.sum(axis=1)\n",
    "\n",
    "display(cjih)\n",
    "display(rufeng)\n",
    "rf1 = 0.9956\n",
    "rf2 = 1.0010\n",
    "print('如风 {} 到 {}, {}%'.format(rf1, rf2, (rf2/rf1 - 1) * 100))"
   ]
  },
  {
   "cell_type": "code",
   "execution_count": 2,
   "metadata": {},
   "outputs": [
    {
     "data": {
      "text/plain": [
       "0.005191478185162582"
      ]
     },
     "execution_count": 2,
     "metadata": {},
     "output_type": "execute_result"
    }
   ],
   "source": [
    "40505.00 / cjyh_fw"
   ]
  },
  {
   "cell_type": "code",
   "execution_count": 3,
   "metadata": {},
   "outputs": [
    {
     "data": {
      "text/plain": [
       "0.0038085869698115363"
      ]
     },
     "execution_count": 3,
     "metadata": {},
     "output_type": "execute_result"
    }
   ],
   "source": [
    "(55050.00 - 2400.00) / rufeng_fw"
   ]
  }
 ],
 "metadata": {
  "kernelspec": {
   "display_name": "Python 3.8.9 64-bit",
   "language": "python",
   "name": "python3"
  },
  "language_info": {
   "codemirror_mode": {
    "name": "ipython",
    "version": 3
   },
   "file_extension": ".py",
   "mimetype": "text/x-python",
   "name": "python",
   "nbconvert_exporter": "python",
   "pygments_lexer": "ipython3",
   "version": "3.8.9"
  },
  "orig_nbformat": 4,
  "vscode": {
   "interpreter": {
    "hash": "31f2aee4e71d21fbe5cf8b01ff0e069b9275f58929596ceb00d14d90e3e16cd6"
   }
  }
 },
 "nbformat": 4,
 "nbformat_minor": 2
}
