{
 "cells": [
  {
   "cell_type": "code",
   "execution_count": 1,
   "metadata": {},
   "outputs": [
    {
     "data": {
      "text/plain": [
       "120.8"
      ]
     },
     "execution_count": 1,
     "metadata": {},
     "output_type": "execute_result"
    }
   ],
   "source": [
    "# https://www.investopedia.com/terms/o/openinterest.asp\n",
    "# https://www.wallstreetmojo.com/open-interest-vs-volume/#h-comparative-table-open-interest-vs-volume\n",
    "# https://www.binance.com/en/futures/funding-history/perpetual/4\n"
   ]
  }
 ],
 "metadata": {
  "kernelspec": {
   "display_name": "trading",
   "language": "python",
   "name": "python3"
  },
  "language_info": {
   "codemirror_mode": {
    "name": "ipython",
    "version": 3
   },
   "file_extension": ".py",
   "mimetype": "text/x-python",
   "name": "python",
   "nbconvert_exporter": "python",
   "pygments_lexer": "ipython3",
   "version": "3.8.15"
  },
  "orig_nbformat": 4,
  "vscode": {
   "interpreter": {
    "hash": "dab8f794728a42e98416fc35b4b9da07e5859ec30cd3c6ba69201e4354269fc7"
   }
  }
 },
 "nbformat": 4,
 "nbformat_minor": 2
}
