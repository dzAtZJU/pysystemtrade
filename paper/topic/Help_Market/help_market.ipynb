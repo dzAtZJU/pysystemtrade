{
 "cells": [
  {
   "cell_type": "code",
   "execution_count": null,
   "metadata": {},
   "outputs": [],
   "source": [
    "'''Demand Supply'''\n",
    "\n",
    "'''Liquidity'''"
   ]
  }
 ],
 "metadata": {
  "kernelspec": {
   "display_name": "trading",
   "language": "python",
   "name": "python3"
  },
  "language_info": {
   "name": "python",
   "version": "3.8.15"
  },
  "orig_nbformat": 4,
  "vscode": {
   "interpreter": {
    "hash": "dab8f794728a42e98416fc35b4b9da07e5859ec30cd3c6ba69201e4354269fc7"
   }
  }
 },
 "nbformat": 4,
 "nbformat_minor": 2
}
