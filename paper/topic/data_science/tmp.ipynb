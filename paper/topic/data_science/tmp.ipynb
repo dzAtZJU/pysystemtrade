{
 "cells": [
  {
   "cell_type": "code",
   "execution_count": 284,
   "metadata": {},
   "outputs": [
    {
     "name": "stdout",
     "output_type": "stream",
     "text": [
      "daily return process: mean=0.0009765625 std=0.03125\n"
     ]
    },
    {
     "data": {
      "text/plain": [
       "count    10000.000000\n",
       "mean         0.246238\n",
       "std          0.500009\n",
       "min         -2.001218\n",
       "25%         -0.087104\n",
       "50%          0.244829\n",
       "75%          0.582947\n",
       "max          1.951619\n",
       "dtype: float64"
      ]
     },
     "execution_count": 284,
     "metadata": {},
     "output_type": "execute_result"
    }
   ],
   "source": [
    "from scipy.stats import norm\n",
    "import pandas as pd\n",
    "import numpy as np\n",
    "\n",
    "# WEEK_Days = 7\n",
    "# MONTH_Days = 31\n",
    "# YEAR_Days = 365\n",
    "\n",
    "WEEK_Days = 5\n",
    "MONTH_Days = 21\n",
    "YEAR_Days = 256\n",
    "\n",
    "Trading_Capital = 10_0000\n",
    "\n",
    "Exp_Sharpe = 0.5\n",
    "Annual_Vol = 50 / 100\n",
    "Exp_Return = Exp_Sharpe * Annual_Vol\n",
    "\n",
    "Daily_Vol = Annual_Vol / YEAR_Days ** 0.5\n",
    "Daily_Return = Exp_Return / YEAR_Days\n",
    "print('daily return process: mean={} std={}'.format(Daily_Return, Daily_Vol))\n",
    "\n",
    "'''assumption: distribution & gaussian'''\n",
    "rv = norm(loc=Daily_Return, scale=Daily_Vol)\n",
    "samples = pd.Series(rv.rvs(10000 * YEAR_Days))\n",
    "year_returns = []\n",
    "for year_sample in np.array_split(samples, len(samples) / YEAR_Days):\n",
    "    year_returns.append(pd.Series(year_sample).cumsum().iloc[-1])\n",
    "pd.Series(year_returns).describe()"
   ]
  },
  {
   "cell_type": "code",
   "execution_count": 283,
   "metadata": {},
   "outputs": [
    {
     "name": "stdout",
     "output_type": "stream",
     "text": [
      "-5811.715409711018\n"
     ]
    }
   ],
   "source": [
    "Period = MONTH_Days\n",
    "worst_daliy_loss_each_period = []\n",
    "for _ in range(5000):\n",
    "    return_path = pd.Series(rv.rvs(size=Period))\n",
    "    capital_path = pd.concat([pd.Series([Trading_Capital]), Trading_Capital + Trading_Capital * return_path.cumsum()])\n",
    "    worst_daliy_loss_each_period.append(capital_path.diff().min())\n",
    "print(pd.Series(worst_daliy_loss_each_period).mean())"
   ]
  },
  {
   "cell_type": "code",
   "execution_count": 282,
   "metadata": {},
   "outputs": [
    {
     "name": "stdout",
     "output_type": "stream",
     "text": [
      "-15210.43746428586\n"
     ]
    }
   ],
   "source": [
    "Period = YEAR_Days\n",
    "worst_weekly_loss_each_period = []\n",
    "for _ in range(5000):\n",
    "    return_path = pd.Series(rv.rvs(size=Period))\n",
    "    capital_path = pd.concat([pd.Series([Trading_Capital]), Trading_Capital +  Trading_Capital * return_path.cumsum()])\n",
    "    worst_weekly_loss_each_period.append(capital_path[::WEEK_Days].diff().min())\n",
    "print(pd.Series(worst_weekly_loss_each_period).mean())"
   ]
  },
  {
   "cell_type": "code",
   "execution_count": 281,
   "metadata": {},
   "outputs": [
    {
     "name": "stdout",
     "output_type": "stream",
     "text": [
      "-34832.72261070409\n"
     ]
    }
   ],
   "source": [
    "Period = 10 * YEAR_Days\n",
    "worst_monthy_loss_each_period = []\n",
    "for _ in range(5000):\n",
    "    return_path = pd.Series(rv.rvs(size=Period))\n",
    "    capital_path = pd.concat([pd.Series([Trading_Capital]), Trading_Capital + Trading_Capital * return_path.cumsum()])\n",
    "    worst_monthy_loss_each_period.append(capital_path[::MONTH_Days].diff().min())\n",
    "print(pd.Series(worst_monthy_loss_each_period).mean())"
   ]
  },
  {
   "cell_type": "code",
   "execution_count": 244,
   "metadata": {},
   "outputs": [
    {
     "data": {
      "text/plain": [
       "0.601"
      ]
     },
     "execution_count": 244,
     "metadata": {},
     "output_type": "execute_result"
    }
   ],
   "source": [
    "Period = 1 * YEAR_Days\n",
    "\n",
    "end_of_period_capital = []\n",
    "for _ in range(5000):\n",
    "    return_path = pd.Series(rv.rvs(size=Period))\n",
    "    capital_path = pd.concat([pd.Series([Trading_Capital]), Trading_Capital * (return_path + 1).cumprod()])\n",
    "    end_of_period_capital.append(capital_path.iloc[-1])\n",
    "\n",
    "(pd.Series(end_of_period_capital) < Trading_Capital * 1).sum() / 5000"
   ]
  }
 ],
 "metadata": {
  "kernelspec": {
   "display_name": "Python 3.8.15 ('trading')",
   "language": "python",
   "name": "python3"
  },
  "language_info": {
   "codemirror_mode": {
    "name": "ipython",
    "version": 3
   },
   "file_extension": ".py",
   "mimetype": "text/x-python",
   "name": "python",
   "nbconvert_exporter": "python",
   "pygments_lexer": "ipython3",
   "version": "3.8.15"
  },
  "orig_nbformat": 4,
  "vscode": {
   "interpreter": {
    "hash": "dab8f794728a42e98416fc35b4b9da07e5859ec30cd3c6ba69201e4354269fc7"
   }
  }
 },
 "nbformat": 4,
 "nbformat_minor": 2
}
