{
 "cells": [
  {
   "cell_type": "code",
   "execution_count": 3,
   "metadata": {},
   "outputs": [
    {
     "name": "stdout",
     "output_type": "stream",
     "text": [
      "2022-10-17 15:21:37 {'type': 'csvFuturesSimData'} [Warning] No key for csvFuturesMultiplePricesData in csv_data_paths, will use defaults (may break in production, should be fine in sim)\n",
      "2022-10-17 15:21:37 {'type': 'csvFuturesSimData'} [Warning] No key for csvFxPricesData in csv_data_paths, will use defaults (may break in production, should be fine in sim)\n",
      "2022-10-17 15:21:37 {'type': 'csvFuturesSimData'} [Warning] No key for csvRollParametersData in csv_data_paths, will use defaults (may break in production, should be fine in sim)\n",
      "2022-10-17 15:21:37 {'type': 'base_system', 'stage': 'config'}  Adding config defaults\n",
      "Private configuration private.private_config.yaml does not exist; no problem if running in sim mode\n",
      "2022-10-17 15:21:37 {'type': 'base_system'}  Following instruments are 'duplicate_markets' ['Another_thing', 'bad_thing'] \n",
      "2022-10-17 15:21:37 {'type': 'base_system'}  Following instruments are marked as 'ignore_instruments': not included: ['EXAMPLE']\n",
      "2022-10-17 15:21:37 {'type': 'base_system'}  Following instruments removed entirely from sim: ['Another_thing', 'EXAMPLE', 'bad_thing']\n",
      "2022-10-17 15:21:37 {'type': 'base_system', 'stage': 'forecastScaleCap', 'instrument_code': 'BITFINEX-ADAUST', 'rule_variation_name': 'ewmac8'}  Calculating capped forecast for BITFINEX-ADAUST ewmac8\n",
      "2022-10-17 15:21:37 {'type': 'base_system', 'stage': 'rules', 'instrument_code': 'BITFINEX-ADAUST', 'rule_variation_name': 'ewmac8'}  Calculating raw forecast BITFINEX-ADAUST for ewmac8\n",
      "2022-10-17 15:21:37 {'type': 'base_system', 'stage': 'forecastScaleCap', 'rule_variation_name': 'ewmac8'}  Getting cross sectional forecasts for scalar calculation for ewmac8 over BITFINEX-ADAUST, BITFINEX-BTCUST, BITFINEX-ETHUST\n",
      "2022-10-17 15:21:37 {'type': 'base_system', 'stage': 'rules', 'instrument_code': 'BITFINEX-BTCUST', 'rule_variation_name': 'ewmac8'}  Calculating raw forecast BITFINEX-BTCUST for ewmac8\n",
      "2022-10-17 15:21:37 {'type': 'base_system', 'stage': 'rules', 'instrument_code': 'BITFINEX-ETHUST', 'rule_variation_name': 'ewmac8'}  Calculating raw forecast BITFINEX-ETHUST for ewmac8\n",
      "2022-10-17 15:21:37 {'type': 'base_system', 'stage': 'forecastScaleCap', 'instrument_code': 'BITFINEX-BTCUST', 'rule_variation_name': 'ewmac8'}  Calculating capped forecast for BITFINEX-BTCUST ewmac8\n",
      "2022-10-17 15:21:37 {'type': 'base_system', 'stage': 'forecastScaleCap', 'instrument_code': 'BITFINEX-ETHUST', 'rule_variation_name': 'ewmac8'}  Calculating capped forecast for BITFINEX-ETHUST ewmac8\n",
      "2022-10-17 15:21:37 {'type': 'base_system', 'stage': 'rawdata', 'instrument_code': 'BITFINEX-BTCUST'}  Calculating daily volatility for BITFINEX-BTCUST\n",
      "2022-10-17 15:21:37 {'type': 'base_system', 'stage': 'rawdata', 'instrument_code': 'BITFINEX-BTCUST'}  Calculating daily prices for BITFINEX-BTCUST\n",
      "0.07075369794064343\n",
      "2022-10-17 15:21:37 {'type': 'base_system', 'stage': 'rawdata', 'instrument_code': 'BITFINEX-ETHUST'}  Calculating daily volatility for BITFINEX-ETHUST\n",
      "2022-10-17 15:21:37 {'type': 'base_system', 'stage': 'rawdata', 'instrument_code': 'BITFINEX-ETHUST'}  Calculating daily prices for BITFINEX-ETHUST\n",
      "0.06257448328334625\n"
     ]
    }
   ],
   "source": [
    "# spot non-leverage\n",
    "# ignore spread\n",
    "# transaction fee\n",
    "# https://www.okx.com/fees\n",
    "# 0.080%\n",
    "# 0.100%\n",
    "from simplesystem import simplesystem\n",
    "sys = simplesystem()\n",
    "print(sys.accounts.get_SR_transaction_cost_for_instrument_forecast('BITFINEX-BTCUST', 'ewmac8'))\n",
    "print(sys.accounts.get_SR_transaction_cost_for_instrument_forecast('BITFINEX-ETHUST', 'ewmac8'))\n",
    "# spot leverage\n",
    "# funding cost\n",
    "# margin call\n",
    "\n",
    "\n",
    "\n"
   ]
  },
  {
   "cell_type": "code",
   "execution_count": null,
   "metadata": {},
   "outputs": [],
   "source": [
    "ticker = requests.get(url+'/api/v5/market/ticker?instId=BTC-USD-SWAP').json()\n",
    "ticker"
   ]
  },
  {
   "cell_type": "code",
   "execution_count": 16,
   "metadata": {},
   "outputs": [
    {
     "data": {
      "text/plain": [
       "0\n",
       "2022-10-19 16:00:00    19037.3\n",
       "Name: 4, dtype: float64"
      ]
     },
     "execution_count": 16,
     "metadata": {},
     "output_type": "execute_result"
    }
   ],
   "source": [
    "import  ccxt\n",
    "import pandas as pd\n",
    "\n",
    "okx = ccxt.okex5({'apiKey': 'f0029f0c-d729-43aa-a277-2db435b93c11', 'secret': 'FEDE42B730B675787361DCD1371BEC46'})\n",
    "candles = okx.fetch_ohlcv('BTC/USDT', '1d', limit=1)\n",
    "df = pd.DataFrame(candles)\n",
    "df.index = pd.to_datetime(df.iloc[:, 0], unit='ms')\n",
    "df.iloc[:, -2]\n"
   ]
  },
  {
   "cell_type": "code",
   "execution_count": 15,
   "metadata": {},
   "outputs": [
    {
     "data": {
      "text/plain": [
       "0   2022-10-19 16:00:00\n",
       "Name: 0, dtype: datetime64[ns]"
      ]
     },
     "execution_count": 15,
     "metadata": {},
     "output_type": "execute_result"
    }
   ],
   "source": []
  },
  {
   "cell_type": "code",
   "execution_count": 6,
   "metadata": {},
   "outputs": [
    {
     "data": {
      "text/plain": [
       "index\n",
       "2022-10-20 12:16:00    19048.6\n",
       "2022-10-20 12:17:00    19047.7\n",
       "2022-10-20 16:45:00    19138.1\n",
       "Name: price, dtype: float64"
      ]
     },
     "execution_count": 6,
     "metadata": {},
     "output_type": "execute_result"
    }
   ],
   "source": [
    "from paper.sysdata.arctic.arctic_spot_prices import arcticSpotPricesData\n",
    "from paper.sysproduction.data.prices import diagPrices\n",
    "from sysdata.data_blob import dataBlob\n",
    "from sysdata.csv.csv_instrument_data import csvFuturesInstrumentData\n",
    "\n",
    "arcticSpotPricesData().get_spot_prices('BTC-USDT')"
   ]
  }
 ],
 "metadata": {
  "kernelspec": {
   "display_name": "Python 3.8.13 ('trading')",
   "language": "python",
   "name": "python3"
  },
  "language_info": {
   "codemirror_mode": {
    "name": "ipython",
    "version": 3
   },
   "file_extension": ".py",
   "mimetype": "text/x-python",
   "name": "python",
   "nbconvert_exporter": "python",
   "pygments_lexer": "ipython3",
   "version": "3.8.13"
  },
  "orig_nbformat": 4,
  "vscode": {
   "interpreter": {
    "hash": "ddc6e6a209a50492a3782c8b6e74c37658c20e4288aca4350cd3d951c0e99d6b"
   }
  }
 },
 "nbformat": 4,
 "nbformat_minor": 2
}
