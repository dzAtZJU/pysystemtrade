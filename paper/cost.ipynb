{
 "cells": [
  {
   "cell_type": "code",
   "execution_count": 3,
   "metadata": {},
   "outputs": [
    {
     "name": "stdout",
     "output_type": "stream",
     "text": [
      "2022-10-17 15:21:37 {'type': 'csvFuturesSimData'} [Warning] No key for csvFuturesMultiplePricesData in csv_data_paths, will use defaults (may break in production, should be fine in sim)\n",
      "2022-10-17 15:21:37 {'type': 'csvFuturesSimData'} [Warning] No key for csvFxPricesData in csv_data_paths, will use defaults (may break in production, should be fine in sim)\n",
      "2022-10-17 15:21:37 {'type': 'csvFuturesSimData'} [Warning] No key for csvRollParametersData in csv_data_paths, will use defaults (may break in production, should be fine in sim)\n",
      "2022-10-17 15:21:37 {'type': 'base_system', 'stage': 'config'}  Adding config defaults\n",
      "Private configuration private.private_config.yaml does not exist; no problem if running in sim mode\n",
      "2022-10-17 15:21:37 {'type': 'base_system'}  Following instruments are 'duplicate_markets' ['Another_thing', 'bad_thing'] \n",
      "2022-10-17 15:21:37 {'type': 'base_system'}  Following instruments are marked as 'ignore_instruments': not included: ['EXAMPLE']\n",
      "2022-10-17 15:21:37 {'type': 'base_system'}  Following instruments removed entirely from sim: ['Another_thing', 'EXAMPLE', 'bad_thing']\n",
      "2022-10-17 15:21:37 {'type': 'base_system', 'stage': 'forecastScaleCap', 'instrument_code': 'BITFINEX-ADAUST', 'rule_variation_name': 'ewmac8'}  Calculating capped forecast for BITFINEX-ADAUST ewmac8\n",
      "2022-10-17 15:21:37 {'type': 'base_system', 'stage': 'rules', 'instrument_code': 'BITFINEX-ADAUST', 'rule_variation_name': 'ewmac8'}  Calculating raw forecast BITFINEX-ADAUST for ewmac8\n",
      "2022-10-17 15:21:37 {'type': 'base_system', 'stage': 'forecastScaleCap', 'rule_variation_name': 'ewmac8'}  Getting cross sectional forecasts for scalar calculation for ewmac8 over BITFINEX-ADAUST, BITFINEX-BTCUST, BITFINEX-ETHUST\n",
      "2022-10-17 15:21:37 {'type': 'base_system', 'stage': 'rules', 'instrument_code': 'BITFINEX-BTCUST', 'rule_variation_name': 'ewmac8'}  Calculating raw forecast BITFINEX-BTCUST for ewmac8\n",
      "2022-10-17 15:21:37 {'type': 'base_system', 'stage': 'rules', 'instrument_code': 'BITFINEX-ETHUST', 'rule_variation_name': 'ewmac8'}  Calculating raw forecast BITFINEX-ETHUST for ewmac8\n",
      "2022-10-17 15:21:37 {'type': 'base_system', 'stage': 'forecastScaleCap', 'instrument_code': 'BITFINEX-BTCUST', 'rule_variation_name': 'ewmac8'}  Calculating capped forecast for BITFINEX-BTCUST ewmac8\n",
      "2022-10-17 15:21:37 {'type': 'base_system', 'stage': 'forecastScaleCap', 'instrument_code': 'BITFINEX-ETHUST', 'rule_variation_name': 'ewmac8'}  Calculating capped forecast for BITFINEX-ETHUST ewmac8\n",
      "2022-10-17 15:21:37 {'type': 'base_system', 'stage': 'rawdata', 'instrument_code': 'BITFINEX-BTCUST'}  Calculating daily volatility for BITFINEX-BTCUST\n",
      "2022-10-17 15:21:37 {'type': 'base_system', 'stage': 'rawdata', 'instrument_code': 'BITFINEX-BTCUST'}  Calculating daily prices for BITFINEX-BTCUST\n",
      "0.07075369794064343\n",
      "2022-10-17 15:21:37 {'type': 'base_system', 'stage': 'rawdata', 'instrument_code': 'BITFINEX-ETHUST'}  Calculating daily volatility for BITFINEX-ETHUST\n",
      "2022-10-17 15:21:37 {'type': 'base_system', 'stage': 'rawdata', 'instrument_code': 'BITFINEX-ETHUST'}  Calculating daily prices for BITFINEX-ETHUST\n",
      "0.06257448328334625\n"
     ]
    }
   ],
   "source": [
    "# spot non-leverage\n",
    "# ignore spread\n",
    "# transaction fee\n",
    "# https://www.okx.com/fees\n",
    "# 0.080%\n",
    "# 0.100%\n",
    "from simplesystem import simplesystem\n",
    "sys = simplesystem()\n",
    "print(sys.accounts.get_SR_transaction_cost_for_instrument_forecast('BITFINEX-BTCUST', 'ewmac8'))\n",
    "print(sys.accounts.get_SR_transaction_cost_for_instrument_forecast('BITFINEX-ETHUST', 'ewmac8'))\n",
    "# spot leverage\n",
    "# funding cost\n",
    "# margin call\n",
    "\n",
    "\n",
    "\n"
   ]
  },
  {
   "cell_type": "code",
   "execution_count": null,
   "metadata": {},
   "outputs": [],
   "source": [
    "ticker = requests.get(url+'/api/v5/market/ticker?instId=BTC-USD-SWAP').json()\n",
    "ticker"
   ]
  },
  {
   "cell_type": "code",
   "execution_count": 12,
   "metadata": {},
   "outputs": [
    {
     "data": {
      "text/plain": [
       "{'symbol': 'BTC/USDT',\n",
       " 'timestamp': 1666059216505,\n",
       " 'datetime': '2022-10-18T02:13:36.505Z',\n",
       " 'high': 19675.2,\n",
       " 'low': 19160.2,\n",
       " 'bid': 19531.9,\n",
       " 'bidVolume': 0.99537258,\n",
       " 'ask': 19532.0,\n",
       " 'askVolume': 0.10361,\n",
       " 'vwap': 19480.822781844552,\n",
       " 'open': 19200.0,\n",
       " 'close': 19530.2,\n",
       " 'last': 19530.2,\n",
       " 'previousClose': None,\n",
       " 'change': 330.2,\n",
       " 'percentage': 1.7197916666666666,\n",
       " 'average': 19365.1,\n",
       " 'baseVolume': 6894.87095189,\n",
       " 'quoteVolume': 134317759.11745694,\n",
       " 'info': {'instType': 'SPOT',\n",
       "  'instId': 'BTC-USDT',\n",
       "  'last': '19530.2',\n",
       "  'lastSz': '0.26728142',\n",
       "  'askPx': '19532',\n",
       "  'askSz': '0.10361',\n",
       "  'bidPx': '19531.9',\n",
       "  'bidSz': '0.99537258',\n",
       "  'open24h': '19200',\n",
       "  'high24h': '19675.2',\n",
       "  'low24h': '19160.2',\n",
       "  'volCcy24h': '134317759.11745694',\n",
       "  'vol24h': '6894.87095189',\n",
       "  'ts': '1666059216505',\n",
       "  'sodUtc0': '19547.7',\n",
       "  'sodUtc8': '19532.6'}}"
      ]
     },
     "execution_count": 12,
     "metadata": {},
     "output_type": "execute_result"
    }
   ],
   "source": [
    "import  ccxt\n",
    "\n",
    "okx = ccxt.okex5({'apiKey': 'f0029f0c-d729-43aa-a277-2db435b93c11', 'secret': 'FEDE42B730B675787361DCD1371BEC46'})\n",
    "okx.fetch_ticker('BTC-USDT')\n"
   ]
  }
 ],
 "metadata": {
  "kernelspec": {
   "display_name": "Python 3.9.12 ('base')",
   "language": "python",
   "name": "python3"
  },
  "language_info": {
   "codemirror_mode": {
    "name": "ipython",
    "version": 3
   },
   "file_extension": ".py",
   "mimetype": "text/x-python",
   "name": "python",
   "nbconvert_exporter": "python",
   "pygments_lexer": "ipython3",
   "version": "3.9.12"
  },
  "orig_nbformat": 4,
  "vscode": {
   "interpreter": {
    "hash": "4df96abc9b068440abbc12b5e7f30f1b6aea7f05d855050b8c20c506213ce6c7"
   }
  }
 },
 "nbformat": 4,
 "nbformat_minor": 2
}
