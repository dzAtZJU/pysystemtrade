{
 "cells": [
  {
   "cell_type": "code",
   "execution_count": 3,
   "metadata": {},
   "outputs": [
    {
     "name": "stdout",
     "output_type": "stream",
     "text": [
      "2022-10-17 15:21:37 {'type': 'csvFuturesSimData'} [Warning] No key for csvFuturesMultiplePricesData in csv_data_paths, will use defaults (may break in production, should be fine in sim)\n",
      "2022-10-17 15:21:37 {'type': 'csvFuturesSimData'} [Warning] No key for csvFxPricesData in csv_data_paths, will use defaults (may break in production, should be fine in sim)\n",
      "2022-10-17 15:21:37 {'type': 'csvFuturesSimData'} [Warning] No key for csvRollParametersData in csv_data_paths, will use defaults (may break in production, should be fine in sim)\n",
      "2022-10-17 15:21:37 {'type': 'base_system', 'stage': 'config'}  Adding config defaults\n",
      "Private configuration private.private_config.yaml does not exist; no problem if running in sim mode\n",
      "2022-10-17 15:21:37 {'type': 'base_system'}  Following instruments are 'duplicate_markets' ['Another_thing', 'bad_thing'] \n",
      "2022-10-17 15:21:37 {'type': 'base_system'}  Following instruments are marked as 'ignore_instruments': not included: ['EXAMPLE']\n",
      "2022-10-17 15:21:37 {'type': 'base_system'}  Following instruments removed entirely from sim: ['Another_thing', 'EXAMPLE', 'bad_thing']\n",
      "2022-10-17 15:21:37 {'type': 'base_system', 'stage': 'forecastScaleCap', 'instrument_code': 'BITFINEX-ADAUST', 'rule_variation_name': 'ewmac8'}  Calculating capped forecast for BITFINEX-ADAUST ewmac8\n",
      "2022-10-17 15:21:37 {'type': 'base_system', 'stage': 'rules', 'instrument_code': 'BITFINEX-ADAUST', 'rule_variation_name': 'ewmac8'}  Calculating raw forecast BITFINEX-ADAUST for ewmac8\n",
      "2022-10-17 15:21:37 {'type': 'base_system', 'stage': 'forecastScaleCap', 'rule_variation_name': 'ewmac8'}  Getting cross sectional forecasts for scalar calculation for ewmac8 over BITFINEX-ADAUST, BITFINEX-BTCUST, BITFINEX-ETHUST\n",
      "2022-10-17 15:21:37 {'type': 'base_system', 'stage': 'rules', 'instrument_code': 'BITFINEX-BTCUST', 'rule_variation_name': 'ewmac8'}  Calculating raw forecast BITFINEX-BTCUST for ewmac8\n",
      "2022-10-17 15:21:37 {'type': 'base_system', 'stage': 'rules', 'instrument_code': 'BITFINEX-ETHUST', 'rule_variation_name': 'ewmac8'}  Calculating raw forecast BITFINEX-ETHUST for ewmac8\n",
      "2022-10-17 15:21:37 {'type': 'base_system', 'stage': 'forecastScaleCap', 'instrument_code': 'BITFINEX-BTCUST', 'rule_variation_name': 'ewmac8'}  Calculating capped forecast for BITFINEX-BTCUST ewmac8\n",
      "2022-10-17 15:21:37 {'type': 'base_system', 'stage': 'forecastScaleCap', 'instrument_code': 'BITFINEX-ETHUST', 'rule_variation_name': 'ewmac8'}  Calculating capped forecast for BITFINEX-ETHUST ewmac8\n",
      "2022-10-17 15:21:37 {'type': 'base_system', 'stage': 'rawdata', 'instrument_code': 'BITFINEX-BTCUST'}  Calculating daily volatility for BITFINEX-BTCUST\n",
      "2022-10-17 15:21:37 {'type': 'base_system', 'stage': 'rawdata', 'instrument_code': 'BITFINEX-BTCUST'}  Calculating daily prices for BITFINEX-BTCUST\n",
      "0.07075369794064343\n",
      "2022-10-17 15:21:37 {'type': 'base_system', 'stage': 'rawdata', 'instrument_code': 'BITFINEX-ETHUST'}  Calculating daily volatility for BITFINEX-ETHUST\n",
      "2022-10-17 15:21:37 {'type': 'base_system', 'stage': 'rawdata', 'instrument_code': 'BITFINEX-ETHUST'}  Calculating daily prices for BITFINEX-ETHUST\n",
      "0.06257448328334625\n"
     ]
    }
   ],
   "source": [
    "# spot non-leverage\n",
    "# ignore spread\n",
    "# transaction fee\n",
    "# https://www.okx.com/fees\n",
    "# 0.080%\n",
    "# 0.100%\n",
    "from simplesystem import simplesystem\n",
    "sys = simplesystem()\n",
    "print(sys.accounts.get_SR_transaction_cost_for_instrument_forecast('BITFINEX-BTCUST', 'ewmac8'))\n",
    "print(sys.accounts.get_SR_transaction_cost_for_instrument_forecast('BITFINEX-ETHUST', 'ewmac8'))\n",
    "# spot leverage\n",
    "# funding cost\n",
    "# margin call\n",
    "\n",
    "\n",
    "\n"
   ]
  },
  {
   "cell_type": "code",
   "execution_count": null,
   "metadata": {},
   "outputs": [],
   "source": [
    "ticker = requests.get(url+'/api/v5/market/ticker?instId=BTC-USD-SWAP').json()\n",
    "ticker"
   ]
  },
  {
   "cell_type": "code",
   "execution_count": 13,
   "metadata": {},
   "outputs": [
    {
     "data": {
      "text/plain": [
       "{'symbol': 'BTC/USDT',\n",
       " 'timestamp': 1666082739704,\n",
       " 'datetime': '2022-10-18T08:45:39.704Z',\n",
       " 'high': 19709.2,\n",
       " 'low': 19244.9,\n",
       " 'bid': 19567.8,\n",
       " 'bidVolume': 0.08077201,\n",
       " 'ask': 19567.9,\n",
       " 'askVolume': 1.86160011,\n",
       " 'vwap': 19541.48931459249,\n",
       " 'open': 19268.1,\n",
       " 'close': 19567.8,\n",
       " 'last': 19567.8,\n",
       " 'previousClose': None,\n",
       " 'change': 299.7,\n",
       " 'percentage': 1.5554206174973142,\n",
       " 'average': 19417.95,\n",
       " 'baseVolume': 8847.93606272,\n",
       " 'quoteVolume': 172901848.02584043,\n",
       " 'info': {'instType': 'SPOT',\n",
       "  'instId': 'BTC-USDT',\n",
       "  'last': '19567.8',\n",
       "  'lastSz': '0.00001388',\n",
       "  'askPx': '19567.9',\n",
       "  'askSz': '1.86160011',\n",
       "  'bidPx': '19567.8',\n",
       "  'bidSz': '0.08077201',\n",
       "  'open24h': '19268.1',\n",
       "  'high24h': '19709.2',\n",
       "  'low24h': '19244.9',\n",
       "  'volCcy24h': '172901848.02584044',\n",
       "  'vol24h': '8847.93606272',\n",
       "  'ts': '1666082739704',\n",
       "  'sodUtc0': '19547.7',\n",
       "  'sodUtc8': '19532.6'}}"
      ]
     },
     "execution_count": 13,
     "metadata": {},
     "output_type": "execute_result"
    }
   ],
   "source": [
    "import  ccxt\n",
    "\n",
    "okx = ccxt.okex5({'apiKey': 'f0029f0c-d729-43aa-a277-2db435b93c11', 'secret': 'FEDE42B730B675787361DCD1371BEC46'})\n",
    "okx.fetch_ticker('BTC-USDT')\n"
   ]
  }
 ],
 "metadata": {
  "kernelspec": {
   "display_name": "Python 3.8.13 ('trading')",
   "language": "python",
   "name": "python3"
  },
  "language_info": {
   "codemirror_mode": {
    "name": "ipython",
    "version": 3
   },
   "file_extension": ".py",
   "mimetype": "text/x-python",
   "name": "python",
   "nbconvert_exporter": "python",
   "pygments_lexer": "ipython3",
   "version": "3.8.13"
  },
  "orig_nbformat": 4,
  "vscode": {
   "interpreter": {
    "hash": "ddc6e6a209a50492a3782c8b6e74c37658c20e4288aca4350cd3d951c0e99d6b"
   }
  }
 },
 "nbformat": 4,
 "nbformat_minor": 2
}
