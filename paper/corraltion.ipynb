{
 "cells": [
  {
   "cell_type": "code",
   "execution_count": null,
   "metadata": {},
   "outputs": [],
   "source": [
    "from sysdata.sim.csv_futures_sim_data import csvFuturesSimData\n",
    "from paper.systems.simplesystem import simplesystem\n",
    "from ctse.systems.ct_system import ct_system\n",
    "import pandas as pd\n",
    "import matplotlib.pyplot as plt\n",
    "\n",
    "system = simplesystem()\n",
    "rawdata = system.rawdata\n",
    "data = system.data"
   ]
  },
  {
   "cell_type": "code",
   "execution_count": null,
   "metadata": {},
   "outputs": [],
   "source": []
  }
 ],
 "metadata": {
  "kernelspec": {
   "display_name": "Python 3.8.13 ('trading')",
   "language": "python",
   "name": "python3"
  },
  "language_info": {
   "name": "python",
   "version": "3.8.13"
  },
  "orig_nbformat": 4,
  "vscode": {
   "interpreter": {
    "hash": "ddc6e6a209a50492a3782c8b6e74c37658c20e4288aca4350cd3d951c0e99d6b"
   }
  }
 },
 "nbformat": 4,
 "nbformat_minor": 2
}
